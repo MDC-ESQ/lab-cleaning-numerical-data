{
 "cells": [
  {
   "cell_type": "markdown",
   "id": "fa1446f1",
   "metadata": {},
   "source": [
    "# Lab | Cleaning numerical data\n",
    "\n",
    "For this lab, we will be using the dataset in the Customer Analysis Business Case. This dataset can be found in files_for_lab folder.\n",
    "\n",
    "### Context\n",
    "\n",
    "An auto insurance company has collected some data about its customers including their demographics, education, employment, policy details, vehicle information on which insurance policy is, and claim amounts. You will help the senior management with some business questions that will help them to better understand their customers, improve their services, and improve profitability.\n",
    "\n",
    "### Some business Objectives:\n",
    "\n",
    "Retain customers,\n",
    "Analyze relevant customer data,\n",
    "Develop focused customer retention programs.\n",
    "Based on the analysis, take targeted actions to increase profitable customer response, retention, and growth.\n",
    "\n",
    "### Instructions\n",
    "\n",
    "1. Import the necessary libraries.\n",
    "2. Load the we_fn_use_c_marketing_customer_value_analysis.csv into the variable customer_df\n",
    "3. First look at its main features (head, shape, info).\n",
    "4. Rename the columns so they follow the PE8 (snake case) (lower_case_with_underscores)\n",
    "5. Change effective to date column to datetime format.\n",
    "6. Define a function that differentiates between continuous and discrete variables. Hint: The number of unique values might be useful. Store continuous data into a continuous_df variable and do the same for discrete_df\n",
    "7. Plot a correlation matrix, comment what you see.\n",
    "8. Create a function to plot every discrete variable. Do the same with the continuous variables (Be Careful, you may need to change the plot type to one better suited for continuous data!)\n",
    "9. Comment what you can see in the plots.\n",
    "10. Look for outliers in the continuous variables. (HINT: There’s a good plot to do that!)\n",
    "11. Did you find outliers? Comment what you will do with them.\n",
    "12. Check all columns for NaN values. Decide what (if anything) you will need to do with them."
   ]
  },
  {
   "cell_type": "markdown",
   "id": "962e832a",
   "metadata": {},
   "source": [
    "#### Step 1: Import Python Libraries"
   ]
  },
  {
   "cell_type": "code",
   "execution_count": 242,
   "id": "61d21e4c",
   "metadata": {},
   "outputs": [],
   "source": [
    "# prep: import modules and get pwd\n",
    "import pymysql\n",
    "from sqlalchemy import create_engine\n",
    "import pandas as pd\n",
    "import numpy as np\n",
    "import matplotlib.pyplot as plt\n",
    "from statsmodels.stats.outliers_influence import variance_inflation_factor\n",
    "from sklearn.preprocessing import MinMaxScaler\n",
    "from sklearn.model_selection import train_test_split\n",
    "from sklearn.metrics import accuracy_score\n",
    "from sklearn.metrics import precision_score\n",
    "from sklearn.metrics import recall_score\n",
    "from sklearn.metrics import classification_report\n",
    "from sklearn.metrics import f1_score\n",
    "import seaborn as sns\n",
    "\n",
    "%matplotlib inline\n",
    "\n",
    "pd.set_option('display.max_columns', None)\n"
   ]
  },
  {
   "cell_type": "markdown",
   "id": "9183a793",
   "metadata": {},
   "source": [
    "#### Step 2: Read the Dataset¶"
   ]
  },
  {
   "cell_type": "code",
   "execution_count": 243,
   "id": "0ad73c15",
   "metadata": {},
   "outputs": [
    {
     "data": {
      "text/html": [
       "<div>\n",
       "<style scoped>\n",
       "    .dataframe tbody tr th:only-of-type {\n",
       "        vertical-align: middle;\n",
       "    }\n",
       "\n",
       "    .dataframe tbody tr th {\n",
       "        vertical-align: top;\n",
       "    }\n",
       "\n",
       "    .dataframe thead th {\n",
       "        text-align: right;\n",
       "    }\n",
       "</style>\n",
       "<table border=\"1\" class=\"dataframe\">\n",
       "  <thead>\n",
       "    <tr style=\"text-align: right;\">\n",
       "      <th></th>\n",
       "      <th>Customer</th>\n",
       "      <th>State</th>\n",
       "      <th>Customer Lifetime Value</th>\n",
       "      <th>Response</th>\n",
       "      <th>Coverage</th>\n",
       "      <th>Education</th>\n",
       "      <th>Effective To Date</th>\n",
       "      <th>EmploymentStatus</th>\n",
       "      <th>Gender</th>\n",
       "      <th>Income</th>\n",
       "      <th>Location Code</th>\n",
       "      <th>Marital Status</th>\n",
       "      <th>Monthly Premium Auto</th>\n",
       "      <th>Months Since Last Claim</th>\n",
       "      <th>Months Since Policy Inception</th>\n",
       "      <th>Number of Open Complaints</th>\n",
       "      <th>Number of Policies</th>\n",
       "      <th>Policy Type</th>\n",
       "      <th>Policy</th>\n",
       "      <th>Renew Offer Type</th>\n",
       "      <th>Sales Channel</th>\n",
       "      <th>Total Claim Amount</th>\n",
       "      <th>Vehicle Class</th>\n",
       "      <th>Vehicle Size</th>\n",
       "    </tr>\n",
       "  </thead>\n",
       "  <tbody>\n",
       "    <tr>\n",
       "      <th>0</th>\n",
       "      <td>BU79786</td>\n",
       "      <td>Washington</td>\n",
       "      <td>2763.519279</td>\n",
       "      <td>No</td>\n",
       "      <td>Basic</td>\n",
       "      <td>Bachelor</td>\n",
       "      <td>2/24/11</td>\n",
       "      <td>Employed</td>\n",
       "      <td>F</td>\n",
       "      <td>56274</td>\n",
       "      <td>Suburban</td>\n",
       "      <td>Married</td>\n",
       "      <td>69</td>\n",
       "      <td>32</td>\n",
       "      <td>5</td>\n",
       "      <td>0</td>\n",
       "      <td>1</td>\n",
       "      <td>Corporate Auto</td>\n",
       "      <td>Corporate L3</td>\n",
       "      <td>Offer1</td>\n",
       "      <td>Agent</td>\n",
       "      <td>384.811147</td>\n",
       "      <td>Two-Door Car</td>\n",
       "      <td>Medsize</td>\n",
       "    </tr>\n",
       "    <tr>\n",
       "      <th>1</th>\n",
       "      <td>QZ44356</td>\n",
       "      <td>Arizona</td>\n",
       "      <td>6979.535903</td>\n",
       "      <td>No</td>\n",
       "      <td>Extended</td>\n",
       "      <td>Bachelor</td>\n",
       "      <td>1/31/11</td>\n",
       "      <td>Unemployed</td>\n",
       "      <td>F</td>\n",
       "      <td>0</td>\n",
       "      <td>Suburban</td>\n",
       "      <td>Single</td>\n",
       "      <td>94</td>\n",
       "      <td>13</td>\n",
       "      <td>42</td>\n",
       "      <td>0</td>\n",
       "      <td>8</td>\n",
       "      <td>Personal Auto</td>\n",
       "      <td>Personal L3</td>\n",
       "      <td>Offer3</td>\n",
       "      <td>Agent</td>\n",
       "      <td>1131.464935</td>\n",
       "      <td>Four-Door Car</td>\n",
       "      <td>Medsize</td>\n",
       "    </tr>\n",
       "    <tr>\n",
       "      <th>2</th>\n",
       "      <td>AI49188</td>\n",
       "      <td>Nevada</td>\n",
       "      <td>12887.431650</td>\n",
       "      <td>No</td>\n",
       "      <td>Premium</td>\n",
       "      <td>Bachelor</td>\n",
       "      <td>2/19/11</td>\n",
       "      <td>Employed</td>\n",
       "      <td>F</td>\n",
       "      <td>48767</td>\n",
       "      <td>Suburban</td>\n",
       "      <td>Married</td>\n",
       "      <td>108</td>\n",
       "      <td>18</td>\n",
       "      <td>38</td>\n",
       "      <td>0</td>\n",
       "      <td>2</td>\n",
       "      <td>Personal Auto</td>\n",
       "      <td>Personal L3</td>\n",
       "      <td>Offer1</td>\n",
       "      <td>Agent</td>\n",
       "      <td>566.472247</td>\n",
       "      <td>Two-Door Car</td>\n",
       "      <td>Medsize</td>\n",
       "    </tr>\n",
       "    <tr>\n",
       "      <th>3</th>\n",
       "      <td>WW63253</td>\n",
       "      <td>California</td>\n",
       "      <td>7645.861827</td>\n",
       "      <td>No</td>\n",
       "      <td>Basic</td>\n",
       "      <td>Bachelor</td>\n",
       "      <td>1/20/11</td>\n",
       "      <td>Unemployed</td>\n",
       "      <td>M</td>\n",
       "      <td>0</td>\n",
       "      <td>Suburban</td>\n",
       "      <td>Married</td>\n",
       "      <td>106</td>\n",
       "      <td>18</td>\n",
       "      <td>65</td>\n",
       "      <td>0</td>\n",
       "      <td>7</td>\n",
       "      <td>Corporate Auto</td>\n",
       "      <td>Corporate L2</td>\n",
       "      <td>Offer1</td>\n",
       "      <td>Call Center</td>\n",
       "      <td>529.881344</td>\n",
       "      <td>SUV</td>\n",
       "      <td>Medsize</td>\n",
       "    </tr>\n",
       "    <tr>\n",
       "      <th>4</th>\n",
       "      <td>HB64268</td>\n",
       "      <td>Washington</td>\n",
       "      <td>2813.692575</td>\n",
       "      <td>No</td>\n",
       "      <td>Basic</td>\n",
       "      <td>Bachelor</td>\n",
       "      <td>2/3/11</td>\n",
       "      <td>Employed</td>\n",
       "      <td>M</td>\n",
       "      <td>43836</td>\n",
       "      <td>Rural</td>\n",
       "      <td>Single</td>\n",
       "      <td>73</td>\n",
       "      <td>12</td>\n",
       "      <td>44</td>\n",
       "      <td>0</td>\n",
       "      <td>1</td>\n",
       "      <td>Personal Auto</td>\n",
       "      <td>Personal L1</td>\n",
       "      <td>Offer1</td>\n",
       "      <td>Agent</td>\n",
       "      <td>138.130879</td>\n",
       "      <td>Four-Door Car</td>\n",
       "      <td>Medsize</td>\n",
       "    </tr>\n",
       "  </tbody>\n",
       "</table>\n",
       "</div>"
      ],
      "text/plain": [
       "  Customer       State  Customer Lifetime Value Response  Coverage Education  \\\n",
       "0  BU79786  Washington              2763.519279       No     Basic  Bachelor   \n",
       "1  QZ44356     Arizona              6979.535903       No  Extended  Bachelor   \n",
       "2  AI49188      Nevada             12887.431650       No   Premium  Bachelor   \n",
       "3  WW63253  California              7645.861827       No     Basic  Bachelor   \n",
       "4  HB64268  Washington              2813.692575       No     Basic  Bachelor   \n",
       "\n",
       "  Effective To Date EmploymentStatus Gender  Income Location Code  \\\n",
       "0           2/24/11         Employed      F   56274      Suburban   \n",
       "1           1/31/11       Unemployed      F       0      Suburban   \n",
       "2           2/19/11         Employed      F   48767      Suburban   \n",
       "3           1/20/11       Unemployed      M       0      Suburban   \n",
       "4            2/3/11         Employed      M   43836         Rural   \n",
       "\n",
       "  Marital Status  Monthly Premium Auto  Months Since Last Claim  \\\n",
       "0        Married                    69                       32   \n",
       "1         Single                    94                       13   \n",
       "2        Married                   108                       18   \n",
       "3        Married                   106                       18   \n",
       "4         Single                    73                       12   \n",
       "\n",
       "   Months Since Policy Inception  Number of Open Complaints  \\\n",
       "0                              5                          0   \n",
       "1                             42                          0   \n",
       "2                             38                          0   \n",
       "3                             65                          0   \n",
       "4                             44                          0   \n",
       "\n",
       "   Number of Policies     Policy Type        Policy Renew Offer Type  \\\n",
       "0                   1  Corporate Auto  Corporate L3           Offer1   \n",
       "1                   8   Personal Auto   Personal L3           Offer3   \n",
       "2                   2   Personal Auto   Personal L3           Offer1   \n",
       "3                   7  Corporate Auto  Corporate L2           Offer1   \n",
       "4                   1   Personal Auto   Personal L1           Offer1   \n",
       "\n",
       "  Sales Channel  Total Claim Amount  Vehicle Class Vehicle Size  \n",
       "0         Agent          384.811147   Two-Door Car      Medsize  \n",
       "1         Agent         1131.464935  Four-Door Car      Medsize  \n",
       "2         Agent          566.472247   Two-Door Car      Medsize  \n",
       "3   Call Center          529.881344            SUV      Medsize  \n",
       "4         Agent          138.130879  Four-Door Car      Medsize  "
      ]
     },
     "execution_count": 243,
     "metadata": {},
     "output_type": "execute_result"
    }
   ],
   "source": [
    "# get the data\n",
    "customer_df = pd.read_csv('we_fn_use_c_marketing_customer_value_analysis.csv')\n",
    "customer_df.head()\n"
   ]
  },
  {
   "cell_type": "markdown",
   "id": "f65e56ec",
   "metadata": {},
   "source": [
    "#### Step 3: Explore the Dataset"
   ]
  },
  {
   "cell_type": "code",
   "execution_count": 244,
   "id": "27138cc2",
   "metadata": {},
   "outputs": [
    {
     "name": "stdout",
     "output_type": "stream",
     "text": [
      "<class 'pandas.core.frame.DataFrame'>\n",
      "RangeIndex: 9134 entries, 0 to 9133\n",
      "Data columns (total 24 columns):\n",
      " #   Column                         Non-Null Count  Dtype  \n",
      "---  ------                         --------------  -----  \n",
      " 0   Customer                       9134 non-null   object \n",
      " 1   State                          9134 non-null   object \n",
      " 2   Customer Lifetime Value        9134 non-null   float64\n",
      " 3   Response                       9134 non-null   object \n",
      " 4   Coverage                       9134 non-null   object \n",
      " 5   Education                      9134 non-null   object \n",
      " 6   Effective To Date              9134 non-null   object \n",
      " 7   EmploymentStatus               9134 non-null   object \n",
      " 8   Gender                         9134 non-null   object \n",
      " 9   Income                         9134 non-null   int64  \n",
      " 10  Location Code                  9134 non-null   object \n",
      " 11  Marital Status                 9134 non-null   object \n",
      " 12  Monthly Premium Auto           9134 non-null   int64  \n",
      " 13  Months Since Last Claim        9134 non-null   int64  \n",
      " 14  Months Since Policy Inception  9134 non-null   int64  \n",
      " 15  Number of Open Complaints      9134 non-null   int64  \n",
      " 16  Number of Policies             9134 non-null   int64  \n",
      " 17  Policy Type                    9134 non-null   object \n",
      " 18  Policy                         9134 non-null   object \n",
      " 19  Renew Offer Type               9134 non-null   object \n",
      " 20  Sales Channel                  9134 non-null   object \n",
      " 21  Total Claim Amount             9134 non-null   float64\n",
      " 22  Vehicle Class                  9134 non-null   object \n",
      " 23  Vehicle Size                   9134 non-null   object \n",
      "dtypes: float64(2), int64(6), object(16)\n",
      "memory usage: 1.7+ MB\n"
     ]
    }
   ],
   "source": [
    "customer_df.info()"
   ]
  },
  {
   "cell_type": "code",
   "execution_count": 245,
   "id": "11ea3b20",
   "metadata": {},
   "outputs": [
    {
     "data": {
      "text/html": [
       "<div>\n",
       "<style scoped>\n",
       "    .dataframe tbody tr th:only-of-type {\n",
       "        vertical-align: middle;\n",
       "    }\n",
       "\n",
       "    .dataframe tbody tr th {\n",
       "        vertical-align: top;\n",
       "    }\n",
       "\n",
       "    .dataframe thead th {\n",
       "        text-align: right;\n",
       "    }\n",
       "</style>\n",
       "<table border=\"1\" class=\"dataframe\">\n",
       "  <thead>\n",
       "    <tr style=\"text-align: right;\">\n",
       "      <th></th>\n",
       "      <th>count</th>\n",
       "      <th>mean</th>\n",
       "      <th>std</th>\n",
       "      <th>min</th>\n",
       "      <th>25%</th>\n",
       "      <th>50%</th>\n",
       "      <th>75%</th>\n",
       "      <th>max</th>\n",
       "    </tr>\n",
       "  </thead>\n",
       "  <tbody>\n",
       "    <tr>\n",
       "      <th>Customer Lifetime Value</th>\n",
       "      <td>9134.0</td>\n",
       "      <td>8004.940475</td>\n",
       "      <td>6870.967608</td>\n",
       "      <td>1898.007675</td>\n",
       "      <td>3994.251794</td>\n",
       "      <td>5780.182197</td>\n",
       "      <td>8962.167041</td>\n",
       "      <td>83325.381190</td>\n",
       "    </tr>\n",
       "    <tr>\n",
       "      <th>Income</th>\n",
       "      <td>9134.0</td>\n",
       "      <td>37657.380009</td>\n",
       "      <td>30379.904734</td>\n",
       "      <td>0.000000</td>\n",
       "      <td>0.000000</td>\n",
       "      <td>33889.500000</td>\n",
       "      <td>62320.000000</td>\n",
       "      <td>99981.000000</td>\n",
       "    </tr>\n",
       "    <tr>\n",
       "      <th>Monthly Premium Auto</th>\n",
       "      <td>9134.0</td>\n",
       "      <td>93.219291</td>\n",
       "      <td>34.407967</td>\n",
       "      <td>61.000000</td>\n",
       "      <td>68.000000</td>\n",
       "      <td>83.000000</td>\n",
       "      <td>109.000000</td>\n",
       "      <td>298.000000</td>\n",
       "    </tr>\n",
       "    <tr>\n",
       "      <th>Months Since Last Claim</th>\n",
       "      <td>9134.0</td>\n",
       "      <td>15.097000</td>\n",
       "      <td>10.073257</td>\n",
       "      <td>0.000000</td>\n",
       "      <td>6.000000</td>\n",
       "      <td>14.000000</td>\n",
       "      <td>23.000000</td>\n",
       "      <td>35.000000</td>\n",
       "    </tr>\n",
       "    <tr>\n",
       "      <th>Months Since Policy Inception</th>\n",
       "      <td>9134.0</td>\n",
       "      <td>48.064594</td>\n",
       "      <td>27.905991</td>\n",
       "      <td>0.000000</td>\n",
       "      <td>24.000000</td>\n",
       "      <td>48.000000</td>\n",
       "      <td>71.000000</td>\n",
       "      <td>99.000000</td>\n",
       "    </tr>\n",
       "    <tr>\n",
       "      <th>Number of Open Complaints</th>\n",
       "      <td>9134.0</td>\n",
       "      <td>0.384388</td>\n",
       "      <td>0.910384</td>\n",
       "      <td>0.000000</td>\n",
       "      <td>0.000000</td>\n",
       "      <td>0.000000</td>\n",
       "      <td>0.000000</td>\n",
       "      <td>5.000000</td>\n",
       "    </tr>\n",
       "    <tr>\n",
       "      <th>Number of Policies</th>\n",
       "      <td>9134.0</td>\n",
       "      <td>2.966170</td>\n",
       "      <td>2.390182</td>\n",
       "      <td>1.000000</td>\n",
       "      <td>1.000000</td>\n",
       "      <td>2.000000</td>\n",
       "      <td>4.000000</td>\n",
       "      <td>9.000000</td>\n",
       "    </tr>\n",
       "    <tr>\n",
       "      <th>Total Claim Amount</th>\n",
       "      <td>9134.0</td>\n",
       "      <td>434.088794</td>\n",
       "      <td>290.500092</td>\n",
       "      <td>0.099007</td>\n",
       "      <td>272.258244</td>\n",
       "      <td>383.945434</td>\n",
       "      <td>547.514839</td>\n",
       "      <td>2893.239678</td>\n",
       "    </tr>\n",
       "  </tbody>\n",
       "</table>\n",
       "</div>"
      ],
      "text/plain": [
       "                                count          mean           std  \\\n",
       "Customer Lifetime Value        9134.0   8004.940475   6870.967608   \n",
       "Income                         9134.0  37657.380009  30379.904734   \n",
       "Monthly Premium Auto           9134.0     93.219291     34.407967   \n",
       "Months Since Last Claim        9134.0     15.097000     10.073257   \n",
       "Months Since Policy Inception  9134.0     48.064594     27.905991   \n",
       "Number of Open Complaints      9134.0      0.384388      0.910384   \n",
       "Number of Policies             9134.0      2.966170      2.390182   \n",
       "Total Claim Amount             9134.0    434.088794    290.500092   \n",
       "\n",
       "                                       min          25%           50%  \\\n",
       "Customer Lifetime Value        1898.007675  3994.251794   5780.182197   \n",
       "Income                            0.000000     0.000000  33889.500000   \n",
       "Monthly Premium Auto             61.000000    68.000000     83.000000   \n",
       "Months Since Last Claim           0.000000     6.000000     14.000000   \n",
       "Months Since Policy Inception     0.000000    24.000000     48.000000   \n",
       "Number of Open Complaints         0.000000     0.000000      0.000000   \n",
       "Number of Policies                1.000000     1.000000      2.000000   \n",
       "Total Claim Amount                0.099007   272.258244    383.945434   \n",
       "\n",
       "                                        75%           max  \n",
       "Customer Lifetime Value         8962.167041  83325.381190  \n",
       "Income                         62320.000000  99981.000000  \n",
       "Monthly Premium Auto             109.000000    298.000000  \n",
       "Months Since Last Claim           23.000000     35.000000  \n",
       "Months Since Policy Inception     71.000000     99.000000  \n",
       "Number of Open Complaints          0.000000      5.000000  \n",
       "Number of Policies                 4.000000      9.000000  \n",
       "Total Claim Amount               547.514839   2893.239678  "
      ]
     },
     "execution_count": 245,
     "metadata": {},
     "output_type": "execute_result"
    }
   ],
   "source": [
    "customer_df.describe().T"
   ]
  },
  {
   "cell_type": "code",
   "execution_count": 246,
   "id": "d44c24ca",
   "metadata": {},
   "outputs": [
    {
     "data": {
      "text/plain": [
       "Index(['customer', 'state', 'customer_lifetime_value', 'response', 'coverage',\n",
       "       'education', 'effective_to_date', 'employmentstatus', 'gender',\n",
       "       'income', 'location_code', 'marital_status', 'monthly_premium_auto',\n",
       "       'months_since_last_claim', 'months_since_policy_inception',\n",
       "       'number_of_open_complaints', 'number_of_policies', 'policy_type',\n",
       "       'policy', 'renew_offer_type', 'sales_channel', 'total_claim_amount',\n",
       "       'vehicle_class', 'vehicle_size'],\n",
       "      dtype='object')"
      ]
     },
     "execution_count": 246,
     "metadata": {},
     "output_type": "execute_result"
    }
   ],
   "source": [
    "# Convert column names to lowercase\n",
    "customer_df.columns= customer_df.columns.str.lower()\n",
    "\n",
    "# replace spaces by '_'\n",
    "customer_df.columns= customer_df.columns.str.replace(' ', '_')\n",
    "\n",
    "customer_df.columns"
   ]
  },
  {
   "cell_type": "code",
   "execution_count": 247,
   "id": "5ff8d38a",
   "metadata": {},
   "outputs": [
    {
     "data": {
      "text/plain": [
       "dtype('<M8[ns]')"
      ]
     },
     "execution_count": 247,
     "metadata": {},
     "output_type": "execute_result"
    }
   ],
   "source": [
    "# Change efective date to datetime format\n",
    "customer_df['effective_to_date'] = pd.to_datetime(customer_df['effective_to_date'])\n",
    "customer_df['effective_to_date'].dtype"
   ]
  },
  {
   "cell_type": "code",
   "execution_count": 248,
   "id": "50072b45",
   "metadata": {},
   "outputs": [
    {
     "data": {
      "text/plain": [
       "customer                         9134\n",
       "state                               5\n",
       "customer_lifetime_value          8041\n",
       "response                            2\n",
       "coverage                            3\n",
       "education                           5\n",
       "effective_to_date                  59\n",
       "employmentstatus                    5\n",
       "gender                              2\n",
       "income                           5694\n",
       "location_code                       3\n",
       "marital_status                      3\n",
       "monthly_premium_auto              202\n",
       "months_since_last_claim            36\n",
       "months_since_policy_inception     100\n",
       "number_of_open_complaints           6\n",
       "number_of_policies                  9\n",
       "policy_type                         3\n",
       "policy                              9\n",
       "renew_offer_type                    4\n",
       "sales_channel                       4\n",
       "total_claim_amount               5106\n",
       "vehicle_class                       6\n",
       "vehicle_size                        3\n",
       "dtype: int64"
      ]
     },
     "execution_count": 248,
     "metadata": {},
     "output_type": "execute_result"
    }
   ],
   "source": [
    "customer_df.nunique()"
   ]
  },
  {
   "cell_type": "code",
   "execution_count": 249,
   "id": "8ecda5c6",
   "metadata": {},
   "outputs": [
    {
     "data": {
      "text/plain": [
       "customer                         100.000000\n",
       "state                              0.054741\n",
       "customer_lifetime_value           88.033720\n",
       "response                           0.021896\n",
       "coverage                           0.032844\n",
       "education                          0.054741\n",
       "effective_to_date                  0.645938\n",
       "employmentstatus                   0.054741\n",
       "gender                             0.021896\n",
       "income                            62.338515\n",
       "location_code                      0.032844\n",
       "marital_status                     0.032844\n",
       "monthly_premium_auto               2.211517\n",
       "months_since_last_claim            0.394132\n",
       "months_since_policy_inception      1.094811\n",
       "number_of_open_complaints          0.065689\n",
       "number_of_policies                 0.098533\n",
       "policy_type                        0.032844\n",
       "policy                             0.098533\n",
       "renew_offer_type                   0.043792\n",
       "sales_channel                      0.043792\n",
       "total_claim_amount                55.901029\n",
       "vehicle_class                      0.065689\n",
       "vehicle_size                       0.032844\n",
       "dtype: float64"
      ]
     },
     "execution_count": 249,
     "metadata": {},
     "output_type": "execute_result"
    }
   ],
   "source": [
    "customer_df.nunique()/len(customer_df)*100"
   ]
  },
  {
   "cell_type": "code",
   "execution_count": 250,
   "id": "6f779bca",
   "metadata": {},
   "outputs": [],
   "source": [
    "def con_disc_data(DataFrame):\n",
    "    continuous = []\n",
    "    discrete = []\n",
    "\n",
    "    for col in customer_df.columns:\n",
    "        if (customer_df[col].nunique()/len(customer_df)*100) > 1:\n",
    "            continuous.append(col)\n",
    "        else:\n",
    "            discrete.append(col)\n",
    "    \n",
    "    return discrete, continuous\n",
    "\n"
   ]
  },
  {
   "cell_type": "code",
   "execution_count": 251,
   "id": "c6433100",
   "metadata": {},
   "outputs": [],
   "source": [
    "discrete, continuous = con_disc_data(customer_df)\n"
   ]
  },
  {
   "cell_type": "code",
   "execution_count": 252,
   "id": "e814f172",
   "metadata": {},
   "outputs": [
    {
     "name": "stdout",
     "output_type": "stream",
     "text": [
      "(9134, 3)\n",
      "(9134, 5)\n"
     ]
    }
   ],
   "source": [
    "discrete_df = customer_df[discrete].select_dtypes(include = np.number)\n",
    "print(discrete_df.shape)\n",
    "continuous_df = customer_df[continuous].select_dtypes(include = np.number)\n",
    "print(continuous_df.shape)"
   ]
  },
  {
   "cell_type": "code",
   "execution_count": 253,
   "id": "0d8df06a",
   "metadata": {},
   "outputs": [
    {
     "data": {
      "text/html": [
       "<div>\n",
       "<style scoped>\n",
       "    .dataframe tbody tr th:only-of-type {\n",
       "        vertical-align: middle;\n",
       "    }\n",
       "\n",
       "    .dataframe tbody tr th {\n",
       "        vertical-align: top;\n",
       "    }\n",
       "\n",
       "    .dataframe thead th {\n",
       "        text-align: right;\n",
       "    }\n",
       "</style>\n",
       "<table border=\"1\" class=\"dataframe\">\n",
       "  <thead>\n",
       "    <tr style=\"text-align: right;\">\n",
       "      <th></th>\n",
       "      <th>months_since_last_claim</th>\n",
       "      <th>number_of_open_complaints</th>\n",
       "      <th>number_of_policies</th>\n",
       "    </tr>\n",
       "  </thead>\n",
       "  <tbody>\n",
       "    <tr>\n",
       "      <th>0</th>\n",
       "      <td>32</td>\n",
       "      <td>0</td>\n",
       "      <td>1</td>\n",
       "    </tr>\n",
       "    <tr>\n",
       "      <th>1</th>\n",
       "      <td>13</td>\n",
       "      <td>0</td>\n",
       "      <td>8</td>\n",
       "    </tr>\n",
       "    <tr>\n",
       "      <th>2</th>\n",
       "      <td>18</td>\n",
       "      <td>0</td>\n",
       "      <td>2</td>\n",
       "    </tr>\n",
       "    <tr>\n",
       "      <th>3</th>\n",
       "      <td>18</td>\n",
       "      <td>0</td>\n",
       "      <td>7</td>\n",
       "    </tr>\n",
       "    <tr>\n",
       "      <th>4</th>\n",
       "      <td>12</td>\n",
       "      <td>0</td>\n",
       "      <td>1</td>\n",
       "    </tr>\n",
       "  </tbody>\n",
       "</table>\n",
       "</div>"
      ],
      "text/plain": [
       "   months_since_last_claim  number_of_open_complaints  number_of_policies\n",
       "0                       32                          0                   1\n",
       "1                       13                          0                   8\n",
       "2                       18                          0                   2\n",
       "3                       18                          0                   7\n",
       "4                       12                          0                   1"
      ]
     },
     "execution_count": 253,
     "metadata": {},
     "output_type": "execute_result"
    }
   ],
   "source": [
    "discrete_df.head()"
   ]
  },
  {
   "cell_type": "code",
   "execution_count": 254,
   "id": "63c2914d",
   "metadata": {},
   "outputs": [
    {
     "data": {
      "text/html": [
       "<div>\n",
       "<style scoped>\n",
       "    .dataframe tbody tr th:only-of-type {\n",
       "        vertical-align: middle;\n",
       "    }\n",
       "\n",
       "    .dataframe tbody tr th {\n",
       "        vertical-align: top;\n",
       "    }\n",
       "\n",
       "    .dataframe thead th {\n",
       "        text-align: right;\n",
       "    }\n",
       "</style>\n",
       "<table border=\"1\" class=\"dataframe\">\n",
       "  <thead>\n",
       "    <tr style=\"text-align: right;\">\n",
       "      <th></th>\n",
       "      <th>customer_lifetime_value</th>\n",
       "      <th>income</th>\n",
       "      <th>monthly_premium_auto</th>\n",
       "      <th>months_since_policy_inception</th>\n",
       "      <th>total_claim_amount</th>\n",
       "    </tr>\n",
       "  </thead>\n",
       "  <tbody>\n",
       "    <tr>\n",
       "      <th>0</th>\n",
       "      <td>2763.519279</td>\n",
       "      <td>56274</td>\n",
       "      <td>69</td>\n",
       "      <td>5</td>\n",
       "      <td>384.811147</td>\n",
       "    </tr>\n",
       "    <tr>\n",
       "      <th>1</th>\n",
       "      <td>6979.535903</td>\n",
       "      <td>0</td>\n",
       "      <td>94</td>\n",
       "      <td>42</td>\n",
       "      <td>1131.464935</td>\n",
       "    </tr>\n",
       "    <tr>\n",
       "      <th>2</th>\n",
       "      <td>12887.431650</td>\n",
       "      <td>48767</td>\n",
       "      <td>108</td>\n",
       "      <td>38</td>\n",
       "      <td>566.472247</td>\n",
       "    </tr>\n",
       "    <tr>\n",
       "      <th>3</th>\n",
       "      <td>7645.861827</td>\n",
       "      <td>0</td>\n",
       "      <td>106</td>\n",
       "      <td>65</td>\n",
       "      <td>529.881344</td>\n",
       "    </tr>\n",
       "    <tr>\n",
       "      <th>4</th>\n",
       "      <td>2813.692575</td>\n",
       "      <td>43836</td>\n",
       "      <td>73</td>\n",
       "      <td>44</td>\n",
       "      <td>138.130879</td>\n",
       "    </tr>\n",
       "  </tbody>\n",
       "</table>\n",
       "</div>"
      ],
      "text/plain": [
       "   customer_lifetime_value  income  monthly_premium_auto  \\\n",
       "0              2763.519279   56274                    69   \n",
       "1              6979.535903       0                    94   \n",
       "2             12887.431650   48767                   108   \n",
       "3              7645.861827       0                   106   \n",
       "4              2813.692575   43836                    73   \n",
       "\n",
       "   months_since_policy_inception  total_claim_amount  \n",
       "0                              5          384.811147  \n",
       "1                             42         1131.464935  \n",
       "2                             38          566.472247  \n",
       "3                             65          529.881344  \n",
       "4                             44          138.130879  "
      ]
     },
     "execution_count": 254,
     "metadata": {},
     "output_type": "execute_result"
    }
   ],
   "source": [
    "continuous_df.head()"
   ]
  },
  {
   "cell_type": "code",
   "execution_count": 255,
   "id": "e4e79ab8",
   "metadata": {},
   "outputs": [
    {
     "data": {
      "image/png": "[encoded data removed]",
      "text/plain": [
       "<Figure size 648x432 with 2 Axes>"
      ]
     },
     "metadata": {
      "needs_background": "light"
     },
     "output_type": "display_data"
    }
   ],
   "source": [
    "corr_matrix = customer_df.corr(method='pearson')\n",
    "fig, ax = plt.subplots(figsize=(9, 6))\n",
    "ax = sns.heatmap(corr_matrix, annot=True)\n",
    "plt.show()"
   ]
  },
  {
   "cell_type": "code",
   "execution_count": 256,
   "id": "73bd24cf",
   "metadata": {},
   "outputs": [
    {
     "data": {
      "text/plain": [
       "Index(['customer', 'state', 'customer_lifetime_value', 'response', 'coverage',\n",
       "       'education', 'effective_to_date', 'employmentstatus', 'gender',\n",
       "       'income', 'location_code', 'marital_status', 'monthly_premium_auto',\n",
       "       'months_since_last_claim', 'months_since_policy_inception',\n",
       "       'number_of_open_complaints', 'number_of_policies', 'policy_type',\n",
       "       'policy', 'renew_offer_type', 'sales_channel', 'total_claim_amount',\n",
       "       'vehicle_class', 'vehicle_size'],\n",
       "      dtype='object')"
      ]
     },
     "execution_count": 256,
     "metadata": {},
     "output_type": "execute_result"
    }
   ],
   "source": [
    "customer_df.columns"
   ]
  },
  {
   "cell_type": "markdown",
   "id": "a361d67d",
   "metadata": {},
   "source": [
    "In the heapmap above we see that:\n",
    " - Customer lifetime value has a relative high correlation with monthly premium auto. The greater the Customer lifetime value the greater is monthly premium auto.\n",
    "\n",
    " - Customer lifetime value has an acceptable correlation with total claim amount. \n",
    " \n",
    " - Total claim amount is highly correlated with monthly premium auto. \n",
    " \n",
    " - Income is negatively correlated with total claim amount, meaning that when the income increases, the total claim amount decreaes\n",
    " \n",
    " - There is no strong relationship between other features"
   ]
  },
  {
   "cell_type": "code",
   "execution_count": 257,
   "id": "67c5de49",
   "metadata": {},
   "outputs": [
    {
     "name": "stderr",
     "output_type": "stream",
     "text": [
      "/var/folders/f0/2kttb75n7ksfn0xybq11r6h40000gn/T/ipykernel_10877/2191710091.py:8: SettingWithCopyWarning: \n",
      "A value is trying to be set on a copy of a slice from a DataFrame.\n",
      "Try using .loc[row_indexer,col_indexer] = value instead\n",
      "\n",
      "See the caveats in the documentation: https://pandas.pydata.org/pandas-docs/stable/user_guide/indexing.html#returning-a-view-versus-a-copy\n",
      "  X['intercept'] = 1\n"
     ]
    },
    {
     "data": {
      "text/html": [
       "<div>\n",
       "<style scoped>\n",
       "    .dataframe tbody tr th:only-of-type {\n",
       "        vertical-align: middle;\n",
       "    }\n",
       "\n",
       "    .dataframe tbody tr th {\n",
       "        vertical-align: top;\n",
       "    }\n",
       "\n",
       "    .dataframe thead th {\n",
       "        text-align: right;\n",
       "    }\n",
       "</style>\n",
       "<table border=\"1\" class=\"dataframe\">\n",
       "  <thead>\n",
       "    <tr style=\"text-align: right;\">\n",
       "      <th></th>\n",
       "      <th>Variable</th>\n",
       "      <th>VIF</th>\n",
       "    </tr>\n",
       "  </thead>\n",
       "  <tbody>\n",
       "    <tr>\n",
       "      <th>6</th>\n",
       "      <td>total_claim_amount</td>\n",
       "      <td>2.076623</td>\n",
       "    </tr>\n",
       "    <tr>\n",
       "      <th>1</th>\n",
       "      <td>monthly_premium_auto</td>\n",
       "      <td>1.815995</td>\n",
       "    </tr>\n",
       "    <tr>\n",
       "      <th>0</th>\n",
       "      <td>income</td>\n",
       "      <td>1.248167</td>\n",
       "    </tr>\n",
       "    <tr>\n",
       "      <th>2</th>\n",
       "      <td>months_since_last_claim</td>\n",
       "      <td>1.002756</td>\n",
       "    </tr>\n",
       "    <tr>\n",
       "      <th>3</th>\n",
       "      <td>months_since_policy_inception</td>\n",
       "      <td>1.002638</td>\n",
       "    </tr>\n",
       "    <tr>\n",
       "      <th>5</th>\n",
       "      <td>number_of_policies</td>\n",
       "      <td>1.000454</td>\n",
       "    </tr>\n",
       "    <tr>\n",
       "      <th>4</th>\n",
       "      <td>number_of_open_complaints</td>\n",
       "      <td>1.000274</td>\n",
       "    </tr>\n",
       "  </tbody>\n",
       "</table>\n",
       "</div>"
      ],
      "text/plain": [
       "                        Variable       VIF\n",
       "6             total_claim_amount  2.076623\n",
       "1           monthly_premium_auto  1.815995\n",
       "0                         income  1.248167\n",
       "2        months_since_last_claim  1.002756\n",
       "3  months_since_policy_inception  1.002638\n",
       "5             number_of_policies  1.000454\n",
       "4      number_of_open_complaints  1.000274"
      ]
     },
     "execution_count": 257,
     "metadata": {},
     "output_type": "execute_result"
    }
   ],
   "source": [
    "# Computing the VIF to detect multicollinearity among independent variables \n",
    "\n",
    "# compute the vif for all given features\n",
    "def compute_vif(features):\n",
    "    \n",
    "    X = customer_df[features]\n",
    "    # the calculation of variance inflation requires a constant\n",
    "    X['intercept'] = 1\n",
    "    \n",
    "    # create dataframe to store vif values\n",
    "    vif = pd.DataFrame()\n",
    "    vif['Variable'] = X.columns\n",
    "    vif['VIF'] = [variance_inflation_factor(X.values, i) for i in range(X.shape[1])]\n",
    "    vif = vif[vif['Variable']!='intercept']\n",
    "    return vif\n",
    "\n",
    "# features to consider removing\n",
    "features = ['income','monthly_premium_auto',\n",
    "       'months_since_last_claim', 'months_since_policy_inception',\n",
    "       'number_of_open_complaints', 'number_of_policies','total_claim_amount']\n",
    "\n",
    "\n",
    "# compute vif \n",
    "compute_vif(features).sort_values('VIF', ascending=False)"
   ]
  },
  {
   "cell_type": "markdown",
   "id": "7814dd2a",
   "metadata": {},
   "source": [
    "There is no correlation among the variables, since the VIF for all features is low (<5)."
   ]
  },
  {
   "cell_type": "code",
   "execution_count": 259,
   "id": "daf40ea7",
   "metadata": {},
   "outputs": [],
   "source": [
    "def plot_discrete(x):\n",
    "    \n",
    "    for col in x.columns:\n",
    "        x.hist(figsize=(15, 10))\n",
    "        plt.show()"
   ]
  },
  {
   "cell_type": "code",
   "execution_count": 260,
   "id": "17427142",
   "metadata": {},
   "outputs": [
    {
     "data": {
      "image/png": "[encoded data removed]",
      "text/plain": [
       "<Figure size 1080x720 with 4 Axes>"
      ]
     },
     "metadata": {
      "needs_background": "light"
     },
     "output_type": "display_data"
    },
    {
     "data": {
      "image/png": "[encoded data removed]",
      "text/plain": [
       "<Figure size 1080x720 with 4 Axes>"
      ]
     },
     "metadata": {
      "needs_background": "light"
     },
     "output_type": "display_data"
    },
    {
     "data": {
      "image/png": "[encoded data removed]",
      "text/plain": [
       "<Figure size 1080x720 with 4 Axes>"
      ]
     },
     "metadata": {
      "needs_background": "light"
     },
     "output_type": "display_data"
    }
   ],
   "source": [
    "plot_discrete(discrete_df)"
   ]
  },
  {
   "cell_type": "markdown",
   "id": "bf9c3793",
   "metadata": {},
   "source": [
    "#### Find outliers with boxplot and IQR:"
   ]
  },
  {
   "cell_type": "code",
   "execution_count": 265,
   "id": "f2dd9f71",
   "metadata": {},
   "outputs": [],
   "source": [
    "def plot_continuous(data):\n",
    "    \n",
    "    for col in data.columns:\n",
    "        sns.boxplot(data[col], data = data)\n",
    "        plt.show()\n",
    "        "
   ]
  },
  {
   "cell_type": "markdown",
   "id": "d284cd88",
   "metadata": {},
   "source": [
    "All data points out of the lower and upper whiskers are outliers.\n",
    "\n",
    "Looking at the box plots below, it is visible that monthly_premium_auto and total_claim_amount have outliers"
   ]
  },
  {
   "cell_type": "code",
   "execution_count": 266,
   "id": "f3740dd2",
   "metadata": {},
   "outputs": [
    {
     "name": "stderr",
     "output_type": "stream",
     "text": [
      "/Users/mariaesquivel/opt/anaconda3/lib/python3.9/site-packages/seaborn/_decorators.py:36: FutureWarning: Pass the following variable as a keyword arg: x. From version 0.12, the only valid positional argument will be `data`, and passing other arguments without an explicit keyword will result in an error or misinterpretation.\n",
      "  warnings.warn(\n"
     ]
    },
    {
     "data": {
      "image/png": "[encoded data removed]",
      "text/plain": [
       "<Figure size 432x288 with 1 Axes>"
      ]
     },
     "metadata": {
      "needs_background": "light"
     },
     "output_type": "display_data"
    },
    {
     "name": "stderr",
     "output_type": "stream",
     "text": [
      "/Users/mariaesquivel/opt/anaconda3/lib/python3.9/site-packages/seaborn/_decorators.py:36: FutureWarning: Pass the following variable as a keyword arg: x. From version 0.12, the only valid positional argument will be `data`, and passing other arguments without an explicit keyword will result in an error or misinterpretation.\n",
      "  warnings.warn(\n"
     ]
    },
    {
     "data": {
      "image/png": "[encoded data removed]",
      "text/plain": [
       "<Figure size 432x288 with 1 Axes>"
      ]
     },
     "metadata": {
      "needs_background": "light"
     },
     "output_type": "display_data"
    },
    {
     "name": "stderr",
     "output_type": "stream",
     "text": [
      "/Users/mariaesquivel/opt/anaconda3/lib/python3.9/site-packages/seaborn/_decorators.py:36: FutureWarning: Pass the following variable as a keyword arg: x. From version 0.12, the only valid positional argument will be `data`, and passing other arguments without an explicit keyword will result in an error or misinterpretation.\n",
      "  warnings.warn(\n"
     ]
    },
    {
     "data": {
      "image/png": "[encoded data removed]",
      "text/plain": [
       "<Figure size 432x288 with 1 Axes>"
      ]
     },
     "metadata": {
      "needs_background": "light"
     },
     "output_type": "display_data"
    },
    {
     "name": "stderr",
     "output_type": "stream",
     "text": [
      "/Users/mariaesquivel/opt/anaconda3/lib/python3.9/site-packages/seaborn/_decorators.py:36: FutureWarning: Pass the following variable as a keyword arg: x. From version 0.12, the only valid positional argument will be `data`, and passing other arguments without an explicit keyword will result in an error or misinterpretation.\n",
      "  warnings.warn(\n"
     ]
    },
    {
     "data": {
      "image/png": "[encoded data removed]",
      "text/plain": [
       "<Figure size 432x288 with 1 Axes>"
      ]
     },
     "metadata": {
      "needs_background": "light"
     },
     "output_type": "display_data"
    },
    {
     "name": "stderr",
     "output_type": "stream",
     "text": [
      "/Users/mariaesquivel/opt/anaconda3/lib/python3.9/site-packages/seaborn/_decorators.py:36: FutureWarning: Pass the following variable as a keyword arg: x. From version 0.12, the only valid positional argument will be `data`, and passing other arguments without an explicit keyword will result in an error or misinterpretation.\n",
      "  warnings.warn(\n"
     ]
    },
    {
     "data": {
      "image/png": "[encoded data removed]",
      "text/plain": [
       "<Figure size 432x288 with 1 Axes>"
      ]
     },
     "metadata": {
      "needs_background": "light"
     },
     "output_type": "display_data"
    }
   ],
   "source": [
    "plot_continuous(continuous_df)"
   ]
  },
  {
   "cell_type": "code",
   "execution_count": 299,
   "id": "7e2ddcfd",
   "metadata": {},
   "outputs": [
    {
     "name": "stdout",
     "output_type": "stream",
     "text": [
      "customer_lifetime_value: \n",
      "IQR:  4967.915247000001\n",
      "upper_bound:  16414.039911750002\n",
      "lower_bound:  -3457.6210762500014\n",
      " \n",
      "The following are the outliers in the boxplot:[24127.50402, 24127.50402, 18975.45611, 36707.42639, 33473.34946, 24261.01777, 22643.83478, 58166.55351, 20946.19251, 24084.5352, 31221.7481, 19776.56654, 21343.46599, 16936.27147, 23706.11337, 32269.85139, 25755.27817, 16706.11699, 17840.19555, 17930.60451, 29328.04185, 22855.61209, 16727.56063, 18042.47942, 31161.74523, 25585.72783, 32654.8383, 22103.5072, 18211.14319, 23444.90045, 33473.34946, 44795.46942, 28685.82785, 18929.3306, 24143.87556, 29091.23936, 19834.20115, 35537.846, 34611.37896, 20216.30883, 27776.28906, 21903.91364, 18073.93999, 23594.6802, 19582.46887, 36057.53702, 20714.94043, 17497.52201, 35850.59935, 23875.47675, 30475.78048, 21435.87782, 26843.12452, 29194.36639, 27789.69235, 21423.63723, 25830.90982, 24127.50402, 17857.97233, 17771.54902, 18269.27017, 27580.55396, 21147.27716, 22500.88348, 24980.22553, 18361.55525, 32196.60037, 34931.00171, 19069.49954, 40224.01359, 21850.84002, 44771.29936, 24709.59957, 27495.42188, 23594.6802, 19480.49981, 31162.6933, 22951.892, 16870.3882, 16874.32815, 21531.33284, 20171.96154, 16464.36587, 38445.85587, 22986.15393, 28393.32994, 21569.33731, 24723.18311, 19504.4739, 26900.27013, 20635.0846, 20314.9976, 25807.063, 45708.65342, 21639.83862, 20477.10841, 21404.35885, 32227.08389, 16979.79757, 25807.063, 23981.54344, 16675.89616, 19393.21145, 39400.1854, 20090.43865, 32864.4046, 16973.74021, 19160.98994, 17484.53438, 18131.18874, 18453.57629, 38496.94701, 17723.76398, 16477.76843, 18321.86647, 19896.42226, 21423.63723, 17732.46488, 26346.08582, 22693.29076, 21522.94749, 22563.61838, 35062.64795, 19160.98994, 30763.25637, 20725.37773, 29412.2893, 17497.52201, 23207.26972, 17651.96339, 17029.89338, 22658.53652, 20998.25947, 19116.56806, 46611.87375, 16515.00927, 20455.24946, 32961.15225, 22207.82615, 35944.71048, 18039.11422, 22056.00496, 20842.5963, 19685.40911, 49221.43073, 28486.0728, 23950.37443, 23515.85325, 17530.03658, 20395.96875, 36470.3024, 16727.77186, 22110.39804, 32871.74779, 20700.8645, 26180.80528, 19014.47625, 22195.80299, 32613.69038, 48356.96084, 21034.01815, 31642.10463, 27443.47482, 46805.22306, 37111.65952, 16796.33604, 22658.53652, 23228.23674, 19357.37201, 21504.3388, 17476.64139, 22041.85643, 74228.51604, 22337.1631, 27789.69235, 18767.55161, 16531.70376, 23208.39416, 17786.2778, 19378.9078, 22800.53543, 16794.31422, 22445.28088, 34708.87261, 24127.50402, 26864.20332, 31934.62164, 18474.71111, 30141.61738, 16979.79757, 18089.79629, 20708.25881, 21274.34205, 22103.5072, 18892.19767, 25464.82059, 51337.90677, 28699.89392, 26576.31541, 17223.89108, 19688.31898, 16985.49688, 21101.21422, 30061.69259, 17263.64048, 33873.18123, 22217.96796, 26730.06042, 17712.20524, 20534.39224, 21914.40548, 23207.24981, 19927.63513, 18690.34066, 20215.3918, 19884.91592, 27382.81893, 24178.68478, 22332.43946, 28421.57022, 33473.34946, 35203.57475, 20885.55547, 25360.10404, 27937.75093, 18380.39026, 36946.06393, 22754.66137, 21205.37785, 41491.74481, 19160.98994, 35440.14262, 18853.73945, 20604.01627, 16922.12519, 19237.77089, 16473.16905, 19606.35999, 36897.79765, 19643.54421, 29199.81072, 22647.21772, 22332.43946, 20123.86854, 16473.16905, 19435.62924, 18269.53692, 58753.88046, 16938.29858, 16468.22079, 16963.83934, 26413.54751, 22067.728, 26770.44534, 25807.063, 20552.62128, 18611.45356, 19185.0725, 32306.28587, 20096.89337, 25763.41423, 16547.63728, 22806.46912, 20940.30306, 18522.29433, 21295.51371, 52811.49112, 18948.34795, 25807.063, 23740.12142, 32467.66151, 17966.28765, 23142.1509, 21590.44235, 30118.6554, 46770.94705, 32677.34284, 21112.53624, 23777.81427, 25997.74996, 16525.38067, 16953.08411, 16570.09009, 27945.89465, 36229.40842, 21480.81781, 19454.40847, 22332.43946, 24186.88247, 26462.75908, 26199.52707, 19231.77266, 27440.61101, 20957.60504, 21592.10096, 23594.6802, 47155.62558, 30718.8124, 22103.5072, 17288.55405, 25464.82059, 18321.41903, 27789.69235, 20461.1545, 18704.85055, 24337.38181, 30850.58677, 25626.70699, 30909.22228, 26305.41541, 29589.94128, 21941.85759, 29577.28414, 33451.7935, 37150.82945, 16504.96173, 38410.59556, 39769.55524, 16473.16905, 26200.83423, 21423.63723, 27542.36956, 61850.18803, 35013.54166, 19088.34203, 23866.15656, 20474.14563, 24338.51185, 17816.68242, 18542.30074, 17995.86532, 17557.54051, 28511.03331, 22103.5072, 25581.61014, 16553.23422, 19323.23675, 27564.73951, 20230.9675, 21159.30151, 21240.94357, 29037.47753, 28435.64035, 37243.63312, 17253.72944, 36181.02892, 23675.02939, 60556.19213, 28824.06193, 27643.23508, 16548.85665, 17109.39447, 29232.69297, 25401.51859, 21423.63723, 26416.25478, 42462.96794, 25805.26839, 17497.52201, 22261.0224, 17041.4383, 20492.7355, 22062.54841, 16473.16905, 43026.52149, 44468.02303, 25107.09812, 24258.71383, 24636.96719, 34611.37896, 26197.41498, 28799.95415, 18708.75831, 19964.39708, 32450.39142, 35984.10457, 26223.81193, 18504.2801, 22093.61618, 26197.41498, 19483.24011, 17103.79173, 40235.9731, 19278.81715, 24967.75842, 18943.26899, 16728.34386, 22940.38215, 23086.36478, 25464.82059, 16681.32634, 18680.99387, 21235.44557, 18065.27192, 19644.76296, 35900.07644, 19190.31894, 20239.38353, 23187.14574, 18534.61157, 21768.69952, 41143.09011, 25807.063, 39365.29616, 23893.3041, 17420.56565, 20186.34693, 16979.79757, 24061.11048, 19160.98994, 23295.06014, 17793.60797, 27990.27159, 17250.74771, 19957.79034, 22895.34606, 22712.02364, 56675.93768, 43217.21611, 17114.32815, 41075.42879, 22425.25604, 36860.90798, 21172.38983, 20096.89337, 24552.8746, 35227.29912, 19045.50012, 38230.21008, 21886.19626, 16702.69914, 38320.82017, 20498.83124, 27287.50099, 35444.31404, 16699.46158, 16887.79708, 24096.23695, 21418.35544, 22235.01011, 19174.63407, 19338.5293, 25253.10198, 17349.03226, 31920.76916, 25805.50599, 30154.68108, 16793.9728, 16484.01644, 27069.49674, 20579.69157, 27789.69235, 20380.06652, 20096.89337, 20096.89337, 22762.21479, 19511.99782, 40636.66734, 66025.75407, 24320.64401, 24249.33685, 20864.30762, 27386.15024, 18938.53677, 33718.8424, 36695.90627, 19731.34147, 25030.37545, 17822.56375, 22256.69368, 18569.50063, 44856.11397, 26570.34335, 25464.82059, 21850.34627, 22305.32351, 22118.81261, 16477.47799, 26338.58626, 36293.14678, 34039.05613, 22399.12944, 21776.5819, 23020.89147, 19253.03441, 30442.53824, 29049.71315, 20446.6023, 22620.74841, 22523.7063, 30591.61257, 34090.03598, 24127.50402, 32643.07651, 16510.96722, 17556.99121, 19079.09518, 83325.38119, 23895.6779, 28432.00202, 27279.33647, 23055.57229, 36860.72688, 34611.37896, 18726.15325, 22029.1505, 27934.62373, 22758.91192, 18591.54967, 17497.52201, 43290.49543, 41787.90343, 23984.62144, 21255.49606, 33053.26869, 24278.10167, 20774.02463, 19597.05706, 21892.93859, 21892.3539, 24186.24342, 26113.36, 41787.90343, 20101.65141, 25169.18817, 20314.44095, 20120.56053, 34611.37896, 26243.85811, 27064.46339, 33473.34946, 16468.22079, 18544.30271, 41745.00646, 18399.82784, 19668.86758, 24672.65531, 40440.76481, 32861.25616, 35862.99324, 25674.14895, 20294.39491, 33473.34946, 19690.44179, 22837.1392, 17790.40826, 20003.14091, 21561.71277, 22721.24078, 23536.74767, 26016.525, 38545.70689, 16468.22079, 21312.37811, 31269.27308, 73225.95652, 17019.0061, 22103.5072, 22658.53652, 32437.0535, 24660.48825, 31803.30779, 24868.24096, 22332.43946, 20631.15177, 17788.05705, 23435.72605, 23554.392, 25640.24004, 26197.41498, 17435.68167, 55277.44589, 27666.30052, 17646.72772, 41855.17315, 26197.41498, 17569.15979, 16710.83929, 26197.41498, 19837.30548, 20096.89337, 51426.24815, 22103.5072, 25900.19716, 51016.06704, 22325.82746, 58207.12842, 18898.32653, 42389.00791, 29830.38714, 26134.90739, 28328.46548, 21423.63723, 27789.69235, 29676.81386, 24238.66071, 18060.47947, 21528.56723, 20766.66918, 26511.60445, 35022.45478, 29006.67071, 42561.63183, 23144.1327, 21991.61598, 27789.69235, 29874.74493, 20237.15039, 39561.07502, 21766.83059, 20266.49877, 41787.90343, 34611.37896, 27890.0576, 16468.22079, 24138.05975, 19363.52743, 49423.79557, 38055.20953, 17738.2012, 32144.64957, 17085.41462, 17441.6378, 26999.68099, 20067.40315, 17429.87777, 35692.17157, 21283.6362, 30286.68586, 18370.57004, 21923.12272, 32098.32209, 22332.43946, 23594.6802, 23594.6802, 24610.78085, 32021.40422, 19160.98994, 21151.2328, 21423.63723, 17019.1929, 20930.05217, 18745.39592, 17367.52612, 41787.90343, 25464.82059, 18205.67367, 67907.2705, 29297.33082, 27929.96441, 16979.79757, 64618.75715, 41103.24183, 22658.53652, 22242.51659, 30081.36783, 32725.2974, 17776.82267, 33279.77231, 21578.86035, 25807.063, 23813.52051, 17367.27409, 17006.00256, 19357.79964, 20467.71796, 17526.17908, 25082.1789, 22185.88045, 57520.50151, 22658.53652, 22315.05787, 41787.90343, 16798.85832, 17208.05642, 32069.87526, 23594.6802, 18688.30707, 16589.71237, 23331.829, 26453.93512, 19259.84494, 36516.0456, 21123.1166, 32474.76977, 33473.34946, 50568.25912, 16414.04415, 20018.20459, 25030.89457, 17292.93538, 24442.29656, 26197.41498, 22332.43946, 22448.68617, 26763.82631, 17759.38575, 16775.80883, 44520.13577, 26538.57925, 20496.69426, 17497.52201, 17002.02246, 16979.79757, 18061.91837, 16705.10312, 31864.8589, 20096.89337, 24706.92011, 22658.53652, 21920.81339, 16468.22079, 27528.31132, 20600.23958, 17625.53763, 24108.30057, 21740.02913, 37939.48817, 31215.68581, 28119.28723, 18634.72656, 27990.35769, 17254.03699, 30966.31981, 18572.01022, 31410.92822, 22952.06778, 17817.46464, 25002.01883, 19955.25713, 23747.46699, 19160.98994, 16979.79757, 38887.9034, 24127.50402, 18196.63824, 29973.41592, 31234.89323, 18532.40504, 23903.68234, 29706.78459, 16473.16905, 26939.51419, 21710.27538, 24543.19862, 17684.65456, 32777.30467, 19228.46362, 16460.07754, 16473.16905, 31706.9251, 17622.1332, 26122.12998, 28622.31443, 22721.47396, 39033.08248, 40688.53442, 26220.03266, 27420.81318, 20925.89544, 17666.56543, 30313.30977, 40132.01135, 17086.75371, 18732.2012, 36632.53432, 36168.34106, 19237.69976, 46302.07562, 20936.33105, 34243.51034, 31516.5084, 35186.25611, 19339.20282, 16501.06524, 23990.14738, 19327.87406, 31316.61358, 61134.68307, 17497.52201, 30859.36361, 32317.03275, 25390.54546, 41787.90343, 20531.64534, 20370.76787, 42937.34691, 30647.63125, 31758.35391, 19849.73509, 20878.41013, 16468.22079, 17602.51146, 19337.90103, 18321.24471, 33288.16185, 26232.85024, 30745.96199, 17636.42483, 18939.50603, 27430.14468, 24826.89127, 18635.90451, 18882.63699, 16909.92767, 43019.01278, 25093.57037, 32104.69957, 18677.85248, 18484.80858, 30205.01297, 17223.06591, 30104.51969, 34611.37896, 25464.82059, 19872.262, 23405.98798]\n"
     ]
    }
   ],
   "source": [
    "# Calculate the 1st quartile\n",
    "q1 = np.quantile(continuous_df['customer_lifetime_value'], 0.25)\n",
    " \n",
    "# Calculate the 3rd quartile\n",
    "q3 = np.quantile(continuous_df['customer_lifetime_value'], 0.75)\n",
    "median = np.median(continuous_df['customer_lifetime_value'])\n",
    "    \n",
    "IQR = q3-q1\n",
    "upper_bound = q3+(1.5*IQR)\n",
    "lower_bound = q1-(1.5*IQR)\n",
    "outliers = list(continuous_df['customer_lifetime_value'][(continuous_df['customer_lifetime_value'] <= lower_bound) | (continuous_df['customer_lifetime_value'] >= upper_bound)])\n",
    "\n",
    "print('customer_lifetime_value: ')\n",
    "print('IQR: ', IQR)\n",
    "print('upper_bound: ', upper_bound)\n",
    "print('lower_bound: ', lower_bound)\n",
    "\n",
    "print(' ')\n",
    "\n",
    "print('The following are the outliers in the boxplot:{}'.format(outliers))\n",
    "    "
   ]
  },
  {
   "cell_type": "code",
   "execution_count": 301,
   "id": "83f2efe0",
   "metadata": {},
   "outputs": [
    {
     "name": "stdout",
     "output_type": "stream",
     "text": [
      "monthly_premium_auto: \n",
      "IQR:  41.0\n",
      "upper_bound:  170.5\n",
      "lower_bound:  6.5\n",
      " \n",
      "The following are the outliers in the boxplot:[237, 172, 186, 192, 217, 255, 190, 245, 225, 171, 244, 183, 176, 183, 230, 177, 196, 276, 253, 180, 203, 192, 198, 193, 271, 188, 271, 206, 196, 193, 182, 189, 295, 210, 182, 239, 188, 256, 188, 173, 196, 192, 285, 197, 199, 214, 171, 198, 271, 214, 175, 199, 194, 181, 180, 239, 222, 215, 283, 248, 223, 239, 273, 213, 185, 188, 287, 180, 196, 192, 297, 244, 201, 192, 189, 196, 235, 196, 183, 268, 171, 182, 211, 192, 187, 235, 276, 185, 198, 242, 193, 186, 210, 210, 175, 199, 180, 197, 223, 215, 276, 276, 180, 186, 172, 215, 212, 199, 249, 181, 187, 240, 196, 189, 181, 181, 225, 199, 192, 201, 245, 193, 295, 191, 187, 199, 186, 181, 239, 199, 195, 180, 216, 173, 182, 199, 196, 194, 185, 249, 185, 191, 199, 181, 193, 211, 214, 187, 179, 232, 244, 193, 181, 181, 182, 214, 183, 185, 185, 187, 198, 211, 190, 186, 181, 212, 181, 207, 197, 283, 240, 196, 196, 240, 173, 190, 180, 184, 238, 182, 197, 192, 190, 229, 185, 220, 223, 199, 178, 198, 184, 183, 193, 190, 193, 180, 215, 199, 276, 215, 210, 204, 207, 213, 177, 281, 184, 190, 225, 192, 240, 194, 192, 198, 229, 185, 189, 180, 237, 194, 180, 187, 234, 171, 207, 194, 188, 214, 190, 201, 218, 190, 239, 181, 191, 275, 187, 283, 220, 209, 191, 177, 193, 186, 182, 261, 191, 186, 187, 205, 188, 183, 238, 179, 188, 199, 228, 181, 196, 190, 177, 189, 195, 242, 182, 181, 253, 195, 197, 193, 197, 199, 284, 199, 256, 231, 198, 223, 189, 185, 208, 196, 296, 283, 210, 283, 244, 194, 180, 235, 186, 184, 187, 188, 185, 199, 285, 256, 189, 199, 191, 191, 175, 202, 198, 189, 194, 194, 215, 202, 198, 191, 274, 190, 185, 180, 219, 185, 247, 276, 194, 181, 181, 229, 193, 171, 290, 297, 183, 195, 181, 194, 191, 182, 219, 195, 172, 194, 217, 173, 234, 196, 190, 239, 226, 211, 194, 192, 181, 217, 198, 190, 223, 195, 181, 214, 185, 184, 220, 283, 298, 187, 186, 181, 182, 198, 186, 239, 185, 271, 249, 194, 197, 189, 184, 182, 183, 187, 271, 208, 186, 183, 192, 199, 283, 188, 210, 195, 253, 266, 183, 271, 194, 239, 254, 179, 212, 187, 222, 252, 239, 226, 198, 193, 194, 180, 218, 189, 206, 197, 239, 196, 181, 222, 181, 174, 186, 198, 174, 247, 286, 199, 189, 247, 176, 213, 266, 177, 195, 185]\n"
     ]
    }
   ],
   "source": [
    "# Calculate the 1st quartile\n",
    "q1 = np.quantile(continuous_df['monthly_premium_auto'], 0.25)\n",
    " \n",
    "# Calculate the 3rd quartile\n",
    "q3 = np.quantile(continuous_df['monthly_premium_auto'], 0.75)\n",
    "median = np.median(continuous_df['monthly_premium_auto'])\n",
    "    \n",
    "IQR = q3-q1\n",
    "upper_bound = q3+(1.5*IQR)\n",
    "lower_bound = q1-(1.5*IQR)\n",
    "outliers = list(continuous_df['monthly_premium_auto'][(continuous_df['monthly_premium_auto'] <= lower_bound) | (continuous_df['monthly_premium_auto'] >= upper_bound)])\n",
    "\n",
    "\n",
    "print('monthly_premium_auto: ')\n",
    "print('IQR: ', IQR)\n",
    "print('upper_bound: ', upper_bound)\n",
    "print('lower_bound: ', lower_bound)\n",
    "\n",
    "print(' ')\n",
    "\n",
    "print('The following are the outliers in the boxplot:{}'.format(outliers))\n",
    "    "
   ]
  },
  {
   "cell_type": "code",
   "execution_count": 302,
   "id": "195554d2",
   "metadata": {},
   "outputs": [
    {
     "name": "stdout",
     "output_type": "stream",
     "text": [
      "total_claim_amount: \n",
      "IQR:  275.25659425\n",
      "upper_bound:  960.3997301249999\n",
      "lower_bound:  -140.62664687499995\n",
      " \n",
      "The following are the outliers in the boxplot:[1131.464935, 982.399613, 975.107098, 1087.995426, 1122.658899, 1836.0, 1124.427734, 1284.093173, 2345.413441, 1101.6, 1159.2, 1252.406235, 1003.160633, 1317.6, 1090.86434, 1337.063487, 980.169081, 1324.8, 1171.93117, 1214.4, 1002.782553, 1210.920949, 2027.724442, 1382.4, 1577.674417, 1193.036154, 1300.8, 1265.570302, 1022.4, 1300.8, 1254.137899, 972.0, 1310.4, 1360.8, 1416.0, 1008.0, 2893.239678, 1185.988301, 1228.8, 1353.6, 1027.000029, 1027.177255, 1336.931716, 1067.333126, 1418.4, 1027.2, 1300.8, 1149.203884, 1027.2, 1261.943541, 964.8, 1294.700423, 1253.984948, 1027.000029, 1032.0, 973.787176, 1358.4, 1207.084251, 1605.6, 989.105367, 1294.700423, 972.0, 1965.6, 1448.994134, 1186.972445, 979.2, 1178.995926, 1353.6, 1377.6, 1777.471271, 1382.4, 1767.348807, 1171.2, 964.8, 1227.458548, 1072.8, 1051.2, 2201.327879, 1012.249308, 1052.933035, 1272.546918, 1128.0, 1286.4, 1129.929433, 1171.537594, 1012.8, 1588.682955, 1065.049894, 1193.115879, 1324.8, 1476.670903, 1742.4, 1376.910777, 1027.010512, 1610.261914, 1138.255325, 1176.2788, 1008.0, 1101.05432, 1008.0, 1221.143438, 1296.0, 1060.310769, 1116.0, 1070.4, 1188.0, 1032.0, 1324.8, 1324.8, 1176.2788, 1032.0, 1017.6, 1195.2, 1303.2, 979.2, 1152.0, 1261.319869, 1080.0, 969.232217, 1064.482165, 1612.962321, 1480.336748, 1294.700423, 1224.56345, 1176.2788, 1093.708851, 1410.16929, 988.535078, 1245.6, 1310.4, 979.2, 2294.631639, 1317.008182, 1261.319869, 1012.8, 972.0, 1027.2, 1430.336183, 1021.654003, 1055.43784, 1261.319869, 979.2, 1027.2, 1298.853615, 1140.523821, 1053.300143, 1012.8, 986.4, 1212.988796, 1032.204305, 1548.310532, 1163.669865, 1158.858027, 1000.8, 1526.4, 1490.4, 1486.410662, 1358.4, 1152.0, 1644.690622, 2327.166394, 1261.672708, 1137.6, 1443.455106, 1368.0, 979.2, 1296.0, 1099.233361, 1380.107186, 1394.849254, 1142.4, 1182.289213, 1404.868905, 1120.677126, 1126.65778, 1398.023248, 1550.375183, 1056.0, 962.526106, 1258.327804, 1257.527908, 1389.140121, 1027.000029, 1368.0, 1032.0, 1324.8, 1032.0, 1000.8, 1008.0, 979.2, 1082.814636, 1210.245916, 1008.569798, 1021.719397, 1274.4, 964.8, 1263.325007, 1000.8, 1499.806352, 993.6, 1183.780098, 1037.274096, 1310.46158, 1324.8, 1654.202174, 1620.0, 1428.972913, 1169.409787, 1000.8, 1921.248929, 1152.0, 1267.549091, 1386.824722, 1056.291709, 1415.579302, 1201.085226, 979.2, 1082.898726, 1706.4, 1301.796063, 1474.267145, 1135.141469, 1490.4, 1621.560425, 986.4, 1027.2, 1159.2, 1046.4, 1343.619461, 1090.122048, 1088.38378, 1294.700423, 1261.319869, 1118.990694, 1375.2, 1980.0, 1346.4, 1358.4, 2552.343856, 1003.2, 1265.387328, 2042.569089, 1177.323534, 1143.494486, 1023.844984, 966.541071, 1195.2, 976.112456, 1853.202354, 996.775536, 2759.794354, 1176.2788, 1441.843837, 1154.635974, 1476.0, 1317.6, 1142.4, 1015.2, 1267.709661, 1163.620366, 1288.8, 1027.000029, 1194.892002, 1062.090461, 1107.145019, 1273.741085, 1026.315988, 1261.319869, 1059.572464, 1121.876091, 1032.609293, 1350.379181, 978.621302, 970.456654, 1100.088685, 1404.0, 1418.4, 1376.958592, 1418.4, 1238.077611, 1979.444237, 1943.772393, 989.200247, 986.4, 1116.0, 1108.8, 1397.954723, 1353.28906, 1605.6, 1116.943654, 1027.000029, 1543.932434, 2270.508697, 1430.548077, 1148.461246, 1158.79311, 1358.4, 1008.0, 1237.257917, 1358.4, 1756.8, 1396.8, 1215.970113, 964.51598, 987.122788, 1084.95655, 1138.687583, 1072.532443, 1191.319334, 972.0, 1956.368115, 2052.0, 1228.8, 1312.201307, 985.193759, 1080.0, 1200.292827, 969.6, 1396.702365, 1823.730828, 1339.303486, 1166.4, 1516.383753, 970.688934, 1029.6, 979.2, 1178.950186, 1012.030163, 1080.559002, 1032.0, 1454.4, 1972.8, 984.170299, 1328.839129, 1405.292809, 1332.0, 1114.092784, 1324.8, 1176.2788, 1227.491941, 1034.799615, 1099.2, 1106.913309, 1389.6, 1550.596808, 1425.6, 1065.617464, 1404.0, 1067.291208, 981.010879, 1051.2, 1041.6, 1123.212014, 1684.8, 1961.162049, 983.127481, 1294.700423, 1084.8, 1361.993232, 1012.8, 2306.508397, 1251.042795, 1562.4, 1452.213743, 962.159318, 1833.182529, 1070.4, 1176.2788, 1026.741926, 1027.2, 983.374985, 1134.960471, 1056.0, 1358.4, 2145.6, 1000.850446, 1003.050834, 1554.089517, 1953.87972, 1386.870718, 1425.6, 1166.603776, 987.293841, 1300.8, 1367.199081, 1197.713861, 1018.808223, 2069.309854, 1300.8, 998.4, 988.533256, 964.8, 1358.4, 980.52817, 2156.011022, 1008.0, 1227.822079, 1066.913401, 1066.63167, 1404.0, 1214.4, 1276.8, 1317.6, 1300.8, 1396.8, 1532.080871, 1294.700423, 1985.999807, 1166.754216, 1828.8, 1345.317161, 1404.845849, 1272.487601, 1373.258272, 1065.6, 1814.4, 1147.2, 1084.8, 1505.230405, 1121.633645, 1176.285998, 1008.03551, 1305.275432, 1046.4, 1260.456194, 1483.2, 1439.676002, 2092.523421, 1087.2, 1579.854155, 1011.772647, 1123.485329, 1261.319869, 1339.2, 2275.265075, 1724.234933, 1778.4, 1032.329445, 979.2, 1212.054819, 2059.2, 1737.320276, 1321.584957, 1145.746845, 1004.755092, 1247.79856, 1133.801271, 978.257137, 2452.894264, 1329.957905, 1027.000029, 1254.177129, 1950.725547]\n"
     ]
    }
   ],
   "source": [
    "# Calculate the 1st quartile\n",
    "q1 = np.quantile(continuous_df['total_claim_amount'], 0.25)\n",
    " \n",
    "# Calculate the 3rd quartile\n",
    "q3 = np.quantile(continuous_df['total_claim_amount'], 0.75)\n",
    "median = np.median(continuous_df['total_claim_amount'])\n",
    "    \n",
    "IQR = q3-q1\n",
    "upper_bound = q3+(1.5*IQR)\n",
    "lower_bound = q1-(1.5*IQR)\n",
    "outliers = list(continuous_df['total_claim_amount'][(continuous_df['total_claim_amount'] <= lower_bound) | (continuous_df['total_claim_amount'] >= upper_bound)])\n",
    "\n",
    "\n",
    "print('total_claim_amount: ')\n",
    "print('IQR: ', IQR)\n",
    "print('upper_bound: ', upper_bound)\n",
    "print('lower_bound: ', lower_bound)\n",
    "\n",
    "print(' ')\n",
    "\n",
    "print('The following are the outliers in the boxplot:{}'.format(outliers))\n",
    "    "
   ]
  },
  {
   "cell_type": "markdown",
   "id": "f8d54567",
   "metadata": {},
   "source": [
    "# STILL TO BE DONE: DEAL WITH OUTLIERS"
   ]
  },
  {
   "cell_type": "markdown",
   "id": "e1cd7046",
   "metadata": {},
   "source": [
    "#### Checking for NaN"
   ]
  },
  {
   "cell_type": "code",
   "execution_count": 304,
   "id": "af89a542",
   "metadata": {},
   "outputs": [
    {
     "data": {
      "text/plain": [
       "customer                         0\n",
       "state                            0\n",
       "customer_lifetime_value          0\n",
       "response                         0\n",
       "coverage                         0\n",
       "education                        0\n",
       "effective_to_date                0\n",
       "employmentstatus                 0\n",
       "gender                           0\n",
       "income                           0\n",
       "location_code                    0\n",
       "marital_status                   0\n",
       "monthly_premium_auto             0\n",
       "months_since_last_claim          0\n",
       "months_since_policy_inception    0\n",
       "number_of_open_complaints        0\n",
       "number_of_policies               0\n",
       "policy_type                      0\n",
       "policy                           0\n",
       "renew_offer_type                 0\n",
       "sales_channel                    0\n",
       "total_claim_amount               0\n",
       "vehicle_class                    0\n",
       "vehicle_size                     0\n",
       "dtype: int64"
      ]
     },
     "execution_count": 304,
     "metadata": {},
     "output_type": "execute_result"
    }
   ],
   "source": [
    "customer_df.isna().sum()"
   ]
  },
  {
   "cell_type": "markdown",
   "id": "9110407b",
   "metadata": {},
   "source": [
    "There are no null values, so no further action required to replace missing or null values."
   ]
  },
  {
   "cell_type": "markdown",
   "id": "2332ec75",
   "metadata": {},
   "source": [
    "# Lab | Cleaning categorical data\n",
    "\n",
    "For this lab, we will be using the dataset in the Customer Analysis Business Case. This dataset can be found in files_for_lab folder. In this lab we will explore categorical data.\n",
    "\n",
    "### Instructions\n",
    "\n",
    "1. Import the necessary libraries if you are starting a new notebook. Using the same data as the previous lab: we_fn_use_c_marketing_customer_value_analysis.csv\n",
    "2. Find all of the categorical data. Save it in a categorical_df variable.\n",
    "3. Check for NaN values.\n",
    "4. Check all unique values of columns.\n",
    "5. Check dtypes. Do they all make sense as categorical data?\n",
    "6. Does any column contain alpha and numeric data? Decide how to clean it.\n",
    "7. Would you choose to do anything else to clean or wrangle the categorical data? Comment your decisions.\n",
    "8. Compare policy_type and policy. What information is contained in these columns. Can you identify what is important?\n",
    "9. Check number of unique values in each column, can they be combined in any way to ease encoding? Comment your thoughts and make those changes."
   ]
  },
  {
   "cell_type": "markdown",
   "id": "f0f7d1dc",
   "metadata": {},
   "source": [
    "#### Categorical data set"
   ]
  },
  {
   "cell_type": "code",
   "execution_count": 306,
   "id": "f2afb487",
   "metadata": {},
   "outputs": [
    {
     "data": {
      "text/html": [
       "<div>\n",
       "<style scoped>\n",
       "    .dataframe tbody tr th:only-of-type {\n",
       "        vertical-align: middle;\n",
       "    }\n",
       "\n",
       "    .dataframe tbody tr th {\n",
       "        vertical-align: top;\n",
       "    }\n",
       "\n",
       "    .dataframe thead th {\n",
       "        text-align: right;\n",
       "    }\n",
       "</style>\n",
       "<table border=\"1\" class=\"dataframe\">\n",
       "  <thead>\n",
       "    <tr style=\"text-align: right;\">\n",
       "      <th></th>\n",
       "      <th>customer</th>\n",
       "      <th>state</th>\n",
       "      <th>response</th>\n",
       "      <th>coverage</th>\n",
       "      <th>education</th>\n",
       "      <th>employmentstatus</th>\n",
       "      <th>gender</th>\n",
       "      <th>location_code</th>\n",
       "      <th>marital_status</th>\n",
       "      <th>policy_type</th>\n",
       "      <th>policy</th>\n",
       "      <th>renew_offer_type</th>\n",
       "      <th>sales_channel</th>\n",
       "      <th>vehicle_class</th>\n",
       "      <th>vehicle_size</th>\n",
       "    </tr>\n",
       "  </thead>\n",
       "  <tbody>\n",
       "    <tr>\n",
       "      <th>0</th>\n",
       "      <td>BU79786</td>\n",
       "      <td>Washington</td>\n",
       "      <td>No</td>\n",
       "      <td>Basic</td>\n",
       "      <td>Bachelor</td>\n",
       "      <td>Employed</td>\n",
       "      <td>F</td>\n",
       "      <td>Suburban</td>\n",
       "      <td>Married</td>\n",
       "      <td>Corporate Auto</td>\n",
       "      <td>Corporate L3</td>\n",
       "      <td>Offer1</td>\n",
       "      <td>Agent</td>\n",
       "      <td>Two-Door Car</td>\n",
       "      <td>Medsize</td>\n",
       "    </tr>\n",
       "    <tr>\n",
       "      <th>1</th>\n",
       "      <td>QZ44356</td>\n",
       "      <td>Arizona</td>\n",
       "      <td>No</td>\n",
       "      <td>Extended</td>\n",
       "      <td>Bachelor</td>\n",
       "      <td>Unemployed</td>\n",
       "      <td>F</td>\n",
       "      <td>Suburban</td>\n",
       "      <td>Single</td>\n",
       "      <td>Personal Auto</td>\n",
       "      <td>Personal L3</td>\n",
       "      <td>Offer3</td>\n",
       "      <td>Agent</td>\n",
       "      <td>Four-Door Car</td>\n",
       "      <td>Medsize</td>\n",
       "    </tr>\n",
       "    <tr>\n",
       "      <th>2</th>\n",
       "      <td>AI49188</td>\n",
       "      <td>Nevada</td>\n",
       "      <td>No</td>\n",
       "      <td>Premium</td>\n",
       "      <td>Bachelor</td>\n",
       "      <td>Employed</td>\n",
       "      <td>F</td>\n",
       "      <td>Suburban</td>\n",
       "      <td>Married</td>\n",
       "      <td>Personal Auto</td>\n",
       "      <td>Personal L3</td>\n",
       "      <td>Offer1</td>\n",
       "      <td>Agent</td>\n",
       "      <td>Two-Door Car</td>\n",
       "      <td>Medsize</td>\n",
       "    </tr>\n",
       "    <tr>\n",
       "      <th>3</th>\n",
       "      <td>WW63253</td>\n",
       "      <td>California</td>\n",
       "      <td>No</td>\n",
       "      <td>Basic</td>\n",
       "      <td>Bachelor</td>\n",
       "      <td>Unemployed</td>\n",
       "      <td>M</td>\n",
       "      <td>Suburban</td>\n",
       "      <td>Married</td>\n",
       "      <td>Corporate Auto</td>\n",
       "      <td>Corporate L2</td>\n",
       "      <td>Offer1</td>\n",
       "      <td>Call Center</td>\n",
       "      <td>SUV</td>\n",
       "      <td>Medsize</td>\n",
       "    </tr>\n",
       "    <tr>\n",
       "      <th>4</th>\n",
       "      <td>HB64268</td>\n",
       "      <td>Washington</td>\n",
       "      <td>No</td>\n",
       "      <td>Basic</td>\n",
       "      <td>Bachelor</td>\n",
       "      <td>Employed</td>\n",
       "      <td>M</td>\n",
       "      <td>Rural</td>\n",
       "      <td>Single</td>\n",
       "      <td>Personal Auto</td>\n",
       "      <td>Personal L1</td>\n",
       "      <td>Offer1</td>\n",
       "      <td>Agent</td>\n",
       "      <td>Four-Door Car</td>\n",
       "      <td>Medsize</td>\n",
       "    </tr>\n",
       "    <tr>\n",
       "      <th>...</th>\n",
       "      <td>...</td>\n",
       "      <td>...</td>\n",
       "      <td>...</td>\n",
       "      <td>...</td>\n",
       "      <td>...</td>\n",
       "      <td>...</td>\n",
       "      <td>...</td>\n",
       "      <td>...</td>\n",
       "      <td>...</td>\n",
       "      <td>...</td>\n",
       "      <td>...</td>\n",
       "      <td>...</td>\n",
       "      <td>...</td>\n",
       "      <td>...</td>\n",
       "      <td>...</td>\n",
       "    </tr>\n",
       "    <tr>\n",
       "      <th>9129</th>\n",
       "      <td>LA72316</td>\n",
       "      <td>California</td>\n",
       "      <td>No</td>\n",
       "      <td>Basic</td>\n",
       "      <td>Bachelor</td>\n",
       "      <td>Employed</td>\n",
       "      <td>M</td>\n",
       "      <td>Urban</td>\n",
       "      <td>Married</td>\n",
       "      <td>Personal Auto</td>\n",
       "      <td>Personal L1</td>\n",
       "      <td>Offer2</td>\n",
       "      <td>Web</td>\n",
       "      <td>Four-Door Car</td>\n",
       "      <td>Medsize</td>\n",
       "    </tr>\n",
       "    <tr>\n",
       "      <th>9130</th>\n",
       "      <td>PK87824</td>\n",
       "      <td>California</td>\n",
       "      <td>Yes</td>\n",
       "      <td>Extended</td>\n",
       "      <td>College</td>\n",
       "      <td>Employed</td>\n",
       "      <td>F</td>\n",
       "      <td>Suburban</td>\n",
       "      <td>Divorced</td>\n",
       "      <td>Corporate Auto</td>\n",
       "      <td>Corporate L3</td>\n",
       "      <td>Offer1</td>\n",
       "      <td>Branch</td>\n",
       "      <td>Four-Door Car</td>\n",
       "      <td>Medsize</td>\n",
       "    </tr>\n",
       "    <tr>\n",
       "      <th>9131</th>\n",
       "      <td>TD14365</td>\n",
       "      <td>California</td>\n",
       "      <td>No</td>\n",
       "      <td>Extended</td>\n",
       "      <td>Bachelor</td>\n",
       "      <td>Unemployed</td>\n",
       "      <td>M</td>\n",
       "      <td>Suburban</td>\n",
       "      <td>Single</td>\n",
       "      <td>Corporate Auto</td>\n",
       "      <td>Corporate L2</td>\n",
       "      <td>Offer1</td>\n",
       "      <td>Branch</td>\n",
       "      <td>Four-Door Car</td>\n",
       "      <td>Medsize</td>\n",
       "    </tr>\n",
       "    <tr>\n",
       "      <th>9132</th>\n",
       "      <td>UP19263</td>\n",
       "      <td>California</td>\n",
       "      <td>No</td>\n",
       "      <td>Extended</td>\n",
       "      <td>College</td>\n",
       "      <td>Employed</td>\n",
       "      <td>M</td>\n",
       "      <td>Suburban</td>\n",
       "      <td>Married</td>\n",
       "      <td>Personal Auto</td>\n",
       "      <td>Personal L2</td>\n",
       "      <td>Offer3</td>\n",
       "      <td>Branch</td>\n",
       "      <td>Four-Door Car</td>\n",
       "      <td>Large</td>\n",
       "    </tr>\n",
       "    <tr>\n",
       "      <th>9133</th>\n",
       "      <td>Y167826</td>\n",
       "      <td>California</td>\n",
       "      <td>No</td>\n",
       "      <td>Extended</td>\n",
       "      <td>College</td>\n",
       "      <td>Unemployed</td>\n",
       "      <td>M</td>\n",
       "      <td>Suburban</td>\n",
       "      <td>Single</td>\n",
       "      <td>Corporate Auto</td>\n",
       "      <td>Corporate L3</td>\n",
       "      <td>Offer4</td>\n",
       "      <td>Call Center</td>\n",
       "      <td>Two-Door Car</td>\n",
       "      <td>Medsize</td>\n",
       "    </tr>\n",
       "  </tbody>\n",
       "</table>\n",
       "<p>9134 rows × 15 columns</p>\n",
       "</div>"
      ],
      "text/plain": [
       "     customer       state response  coverage education employmentstatus  \\\n",
       "0     BU79786  Washington       No     Basic  Bachelor         Employed   \n",
       "1     QZ44356     Arizona       No  Extended  Bachelor       Unemployed   \n",
       "2     AI49188      Nevada       No   Premium  Bachelor         Employed   \n",
       "3     WW63253  California       No     Basic  Bachelor       Unemployed   \n",
       "4     HB64268  Washington       No     Basic  Bachelor         Employed   \n",
       "...       ...         ...      ...       ...       ...              ...   \n",
       "9129  LA72316  California       No     Basic  Bachelor         Employed   \n",
       "9130  PK87824  California      Yes  Extended   College         Employed   \n",
       "9131  TD14365  California       No  Extended  Bachelor       Unemployed   \n",
       "9132  UP19263  California       No  Extended   College         Employed   \n",
       "9133  Y167826  California       No  Extended   College       Unemployed   \n",
       "\n",
       "     gender location_code marital_status     policy_type        policy  \\\n",
       "0         F      Suburban        Married  Corporate Auto  Corporate L3   \n",
       "1         F      Suburban         Single   Personal Auto   Personal L3   \n",
       "2         F      Suburban        Married   Personal Auto   Personal L3   \n",
       "3         M      Suburban        Married  Corporate Auto  Corporate L2   \n",
       "4         M         Rural         Single   Personal Auto   Personal L1   \n",
       "...     ...           ...            ...             ...           ...   \n",
       "9129      M         Urban        Married   Personal Auto   Personal L1   \n",
       "9130      F      Suburban       Divorced  Corporate Auto  Corporate L3   \n",
       "9131      M      Suburban         Single  Corporate Auto  Corporate L2   \n",
       "9132      M      Suburban        Married   Personal Auto   Personal L2   \n",
       "9133      M      Suburban         Single  Corporate Auto  Corporate L3   \n",
       "\n",
       "     renew_offer_type sales_channel  vehicle_class vehicle_size  \n",
       "0              Offer1         Agent   Two-Door Car      Medsize  \n",
       "1              Offer3         Agent  Four-Door Car      Medsize  \n",
       "2              Offer1         Agent   Two-Door Car      Medsize  \n",
       "3              Offer1   Call Center            SUV      Medsize  \n",
       "4              Offer1         Agent  Four-Door Car      Medsize  \n",
       "...               ...           ...            ...          ...  \n",
       "9129           Offer2           Web  Four-Door Car      Medsize  \n",
       "9130           Offer1        Branch  Four-Door Car      Medsize  \n",
       "9131           Offer1        Branch  Four-Door Car      Medsize  \n",
       "9132           Offer3        Branch  Four-Door Car        Large  \n",
       "9133           Offer4   Call Center   Two-Door Car      Medsize  \n",
       "\n",
       "[9134 rows x 15 columns]"
      ]
     },
     "execution_count": 306,
     "metadata": {},
     "output_type": "execute_result"
    }
   ],
   "source": [
    "\n",
    "categorical_df = customer_df.select_dtypes(include = object)\n",
    "categorical_df"
   ]
  },
  {
   "cell_type": "markdown",
   "id": "9322eb57",
   "metadata": {},
   "source": [
    "#### Checking for NaN"
   ]
  },
  {
   "cell_type": "code",
   "execution_count": 307,
   "id": "f6a46f09",
   "metadata": {},
   "outputs": [
    {
     "data": {
      "text/plain": [
       "customer            0\n",
       "state               0\n",
       "response            0\n",
       "coverage            0\n",
       "education           0\n",
       "employmentstatus    0\n",
       "gender              0\n",
       "location_code       0\n",
       "marital_status      0\n",
       "policy_type         0\n",
       "policy              0\n",
       "renew_offer_type    0\n",
       "sales_channel       0\n",
       "vehicle_class       0\n",
       "vehicle_size        0\n",
       "dtype: int64"
      ]
     },
     "execution_count": 307,
     "metadata": {},
     "output_type": "execute_result"
    }
   ],
   "source": [
    "categorical_df.isna().sum()"
   ]
  },
  {
   "cell_type": "markdown",
   "id": "2a8ac4b6",
   "metadata": {},
   "source": [
    "There are no null values, so no further action required to replace missing or null values."
   ]
  },
  {
   "cell_type": "code",
   "execution_count": 314,
   "id": "44e1ff45",
   "metadata": {},
   "outputs": [
    {
     "data": {
      "text/plain": [
       "Index(['customer', 'state', 'response', 'coverage', 'education',\n",
       "       'employmentstatus', 'gender', 'location_code', 'marital_status',\n",
       "       'policy_type', 'policy', 'renew_offer_type', 'sales_channel',\n",
       "       'vehicle_class', 'vehicle_size'],\n",
       "      dtype='object')"
      ]
     },
     "execution_count": 314,
     "metadata": {},
     "output_type": "execute_result"
    }
   ],
   "source": [
    "categorical_df.columns"
   ]
  },
  {
   "cell_type": "markdown",
   "id": "985df3fe",
   "metadata": {},
   "source": [
    "#### Checking for unique values¶"
   ]
  },
  {
   "cell_type": "code",
   "execution_count": 316,
   "id": "b9eed515",
   "metadata": {},
   "outputs": [
    {
     "name": "stdout",
     "output_type": "stream",
     "text": [
      "customer\n",
      "['BU79786' 'QZ44356' 'AI49188' ... 'TD14365' 'UP19263' 'Y167826']\n",
      "\n",
      "\n",
      "state\n",
      "['Washington' 'Arizona' 'Nevada' 'California' 'Oregon']\n",
      "\n",
      "\n",
      "response\n",
      "['No' 'Yes']\n",
      "\n",
      "\n",
      "coverage\n",
      "['Basic' 'Extended' 'Premium']\n",
      "\n",
      "\n",
      "education\n",
      "['Bachelor' 'College' 'Master' 'High School or Below' 'Doctor']\n",
      "\n",
      "\n",
      "employmentstatus\n",
      "['Employed' 'Unemployed' 'Medical Leave' 'Disabled' 'Retired']\n",
      "\n",
      "\n",
      "gender\n",
      "['F' 'M']\n",
      "\n",
      "\n",
      "location_code\n",
      "['Suburban' 'Rural' 'Urban']\n",
      "\n",
      "\n",
      "marital_status\n",
      "['Married' 'Single' 'Divorced']\n",
      "\n",
      "\n",
      "policy_type\n",
      "['Corporate Auto' 'Personal Auto' 'Special Auto']\n",
      "\n",
      "\n",
      "policy\n",
      "['Corporate L3' 'Personal L3' 'Corporate L2' 'Personal L1' 'Special L2'\n",
      " 'Corporate L1' 'Personal L2' 'Special L1' 'Special L3']\n",
      "\n",
      "\n",
      "renew_offer_type\n",
      "['Offer1' 'Offer3' 'Offer2' 'Offer4']\n",
      "\n",
      "\n",
      "sales_channel\n",
      "['Agent' 'Call Center' 'Web' 'Branch']\n",
      "\n",
      "\n",
      "vehicle_class\n",
      "['Two-Door Car' 'Four-Door Car' 'SUV' 'Luxury SUV' 'Sports Car'\n",
      " 'Luxury Car']\n",
      "\n",
      "\n",
      "vehicle_size\n",
      "['Medsize' 'Small' 'Large']\n",
      "\n",
      "\n"
     ]
    }
   ],
   "source": [
    "for col in categorical_df:\n",
    "    print(col)\n",
    "    print(categorical_df[col].unique())\n",
    "    print('\\n')"
   ]
  },
  {
   "cell_type": "code",
   "execution_count": 335,
   "id": "eb116042",
   "metadata": {},
   "outputs": [
    {
     "data": {
      "text/plain": [
       "BU79786    1\n",
       "PU81096    1\n",
       "CO75086    1\n",
       "WW52683    1\n",
       "XO38850    1\n",
       "          ..\n",
       "HS14476    1\n",
       "YL91587    1\n",
       "CT18212    1\n",
       "EW35231    1\n",
       "Y167826    1\n",
       "Name: customer, Length: 9134, dtype: int64"
      ]
     },
     "execution_count": 335,
     "metadata": {},
     "output_type": "execute_result"
    }
   ],
   "source": [
    "categorical_df['customer'].value_counts()"
   ]
  },
  {
   "cell_type": "markdown",
   "id": "082ad1b0",
   "metadata": {},
   "source": [
    "- Column 'customer' has too many unique values therefore can be removed from the dataset. Not relevant for the model"
   ]
  },
  {
   "cell_type": "code",
   "execution_count": 321,
   "id": "ca574d3b",
   "metadata": {},
   "outputs": [
    {
     "data": {
      "text/plain": [
       "California    3150\n",
       "Oregon        2601\n",
       "Arizona       1703\n",
       "Nevada         882\n",
       "Washington     798\n",
       "Name: state, dtype: int64"
      ]
     },
     "execution_count": 321,
     "metadata": {},
     "output_type": "execute_result"
    }
   ],
   "source": [
    "categorical_df['state'].value_counts()"
   ]
  },
  {
   "cell_type": "markdown",
   "id": "a3bc08f1",
   "metadata": {},
   "source": [
    "- Top 3 states - California, Oregon and Arizona - include almost 82% of total number os customers"
   ]
  },
  {
   "cell_type": "code",
   "execution_count": 322,
   "id": "148913c6",
   "metadata": {},
   "outputs": [
    {
     "data": {
      "text/plain": [
       "No     7826\n",
       "Yes    1308\n",
       "Name: response, dtype: int64"
      ]
     },
     "execution_count": 322,
     "metadata": {},
     "output_type": "execute_result"
    }
   ],
   "source": [
    "categorical_df['response'].value_counts()"
   ]
  },
  {
   "cell_type": "code",
   "execution_count": null,
   "id": "e455fed2",
   "metadata": {},
   "outputs": [],
   "source": []
  },
  {
   "cell_type": "code",
   "execution_count": 323,
   "id": "af315c87",
   "metadata": {},
   "outputs": [
    {
     "data": {
      "text/plain": [
       "Basic       5568\n",
       "Extended    2742\n",
       "Premium      824\n",
       "Name: coverage, dtype: int64"
      ]
     },
     "execution_count": 323,
     "metadata": {},
     "output_type": "execute_result"
    }
   ],
   "source": [
    "categorical_df['coverage'].value_counts()"
   ]
  },
  {
   "cell_type": "code",
   "execution_count": 324,
   "id": "4b3e9b1b",
   "metadata": {},
   "outputs": [
    {
     "data": {
      "text/plain": [
       "Bachelor                2748\n",
       "College                 2681\n",
       "High School or Below    2622\n",
       "Master                   741\n",
       "Doctor                   342\n",
       "Name: education, dtype: int64"
      ]
     },
     "execution_count": 324,
     "metadata": {},
     "output_type": "execute_result"
    }
   ],
   "source": [
    "categorical_df['education'].value_counts()"
   ]
  },
  {
   "cell_type": "markdown",
   "id": "4ae454e7",
   "metadata": {},
   "source": [
    "- All these categories could be grouped in two groups: Undergraduate and Graduate"
   ]
  },
  {
   "cell_type": "code",
   "execution_count": 325,
   "id": "0af6e0c8",
   "metadata": {},
   "outputs": [
    {
     "data": {
      "text/plain": [
       "Employed         5698\n",
       "Unemployed       2317\n",
       "Medical Leave     432\n",
       "Disabled          405\n",
       "Retired           282\n",
       "Name: employmentstatus, dtype: int64"
      ]
     },
     "execution_count": 325,
     "metadata": {},
     "output_type": "execute_result"
    }
   ],
   "source": [
    "categorical_df['employmentstatus'].value_counts()"
   ]
  },
  {
   "cell_type": "markdown",
   "id": "ed4ef144",
   "metadata": {},
   "source": [
    "- Unemployed, Medical Leave, Disabled and Retired are non-active statuses, so, this van be converted into two categories: Active vs Non-active"
   ]
  },
  {
   "cell_type": "code",
   "execution_count": 330,
   "id": "0f80ebd3",
   "metadata": {},
   "outputs": [
    {
     "data": {
      "text/plain": [
       "F    4658\n",
       "M    4476\n",
       "Name: gender, dtype: int64"
      ]
     },
     "execution_count": 330,
     "metadata": {},
     "output_type": "execute_result"
    }
   ],
   "source": [
    "categorical_df['gender'].value_counts()"
   ]
  },
  {
   "cell_type": "code",
   "execution_count": 331,
   "id": "d5e2a7f3",
   "metadata": {},
   "outputs": [
    {
     "data": {
      "text/plain": [
       "Suburban    5779\n",
       "Rural       1773\n",
       "Urban       1582\n",
       "Name: location_code, dtype: int64"
      ]
     },
     "execution_count": 331,
     "metadata": {},
     "output_type": "execute_result"
    }
   ],
   "source": [
    "categorical_df['location_code'].value_counts()"
   ]
  },
  {
   "cell_type": "code",
   "execution_count": 332,
   "id": "a3739469",
   "metadata": {},
   "outputs": [
    {
     "data": {
      "text/plain": [
       "Married     5298\n",
       "Single      2467\n",
       "Divorced    1369\n",
       "Name: marital_status, dtype: int64"
      ]
     },
     "execution_count": 332,
     "metadata": {},
     "output_type": "execute_result"
    }
   ],
   "source": [
    "categorical_df['marital_status'].value_counts()"
   ]
  },
  {
   "cell_type": "code",
   "execution_count": 333,
   "id": "979f93a1",
   "metadata": {},
   "outputs": [
    {
     "data": {
      "text/plain": [
       "Personal Auto     6788\n",
       "Corporate Auto    1968\n",
       "Special Auto       378\n",
       "Name: policy_type, dtype: int64"
      ]
     },
     "execution_count": 333,
     "metadata": {},
     "output_type": "execute_result"
    }
   ],
   "source": [
    "categorical_df['policy_type'].value_counts()"
   ]
  },
  {
   "cell_type": "code",
   "execution_count": 334,
   "id": "66dda3fd",
   "metadata": {},
   "outputs": [
    {
     "data": {
      "text/plain": [
       "Personal L3     3426\n",
       "Personal L2     2122\n",
       "Personal L1     1240\n",
       "Corporate L3    1014\n",
       "Corporate L2     595\n",
       "Corporate L1     359\n",
       "Special L2       164\n",
       "Special L3       148\n",
       "Special L1        66\n",
       "Name: policy, dtype: int64"
      ]
     },
     "execution_count": 334,
     "metadata": {},
     "output_type": "execute_result"
    }
   ],
   "source": [
    "categorical_df['policy'].value_counts()"
   ]
  },
  {
   "cell_type": "markdown",
   "id": "1ff91f52",
   "metadata": {},
   "source": [
    "- Type (personal, corporate or special) in the column 'policy' is redundant. Already included in the column 'policy_type'\n",
    "- Regardless the type, policies are all L1, L2 or L3, so we can drop the L and make this column numeric / discrete "
   ]
  },
  {
   "cell_type": "code",
   "execution_count": 329,
   "id": "6bfe0d30",
   "metadata": {},
   "outputs": [
    {
     "data": {
      "text/plain": [
       "Offer1    3752\n",
       "Offer2    2926\n",
       "Offer3    1432\n",
       "Offer4    1024\n",
       "Name: renew_offer_type, dtype: int64"
      ]
     },
     "execution_count": 329,
     "metadata": {},
     "output_type": "execute_result"
    }
   ],
   "source": [
    "categorical_df['renew_offer_type'].value_counts()"
   ]
  },
  {
   "cell_type": "code",
   "execution_count": 328,
   "id": "a96d642c",
   "metadata": {},
   "outputs": [
    {
     "data": {
      "text/plain": [
       "Agent          3477\n",
       "Branch         2567\n",
       "Call Center    1765\n",
       "Web            1325\n",
       "Name: sales_channel, dtype: int64"
      ]
     },
     "execution_count": 328,
     "metadata": {},
     "output_type": "execute_result"
    }
   ],
   "source": [
    "categorical_df['sales_channel'].value_counts()"
   ]
  },
  {
   "cell_type": "code",
   "execution_count": 327,
   "id": "d5105827",
   "metadata": {},
   "outputs": [
    {
     "data": {
      "text/plain": [
       "Four-Door Car    4621\n",
       "Two-Door Car     1886\n",
       "SUV              1796\n",
       "Sports Car        484\n",
       "Luxury SUV        184\n",
       "Luxury Car        163\n",
       "Name: vehicle_class, dtype: int64"
      ]
     },
     "execution_count": 327,
     "metadata": {},
     "output_type": "execute_result"
    }
   ],
   "source": [
    "categorical_df['vehicle_class'].value_counts()"
   ]
  },
  {
   "cell_type": "code",
   "execution_count": 326,
   "id": "be791bc6",
   "metadata": {},
   "outputs": [
    {
     "data": {
      "text/plain": [
       "Medsize    6424\n",
       "Small      1764\n",
       "Large       946\n",
       "Name: vehicle_size, dtype: int64"
      ]
     },
     "execution_count": 326,
     "metadata": {},
     "output_type": "execute_result"
    }
   ],
   "source": [
    "categorical_df['vehicle_size'].value_counts()"
   ]
  },
  {
   "cell_type": "markdown",
   "id": "f1f6bc32",
   "metadata": {},
   "source": [
    "# STILL NEED TO CLEAN CATEGORICAL DATA"
   ]
  },
  {
   "cell_type": "code",
   "execution_count": null,
   "id": "d464cc81",
   "metadata": {},
   "outputs": [],
   "source": []
  },
  {
   "cell_type": "code",
   "execution_count": null,
   "id": "9a1ada8b",
   "metadata": {},
   "outputs": [],
   "source": []
  }
 ],
 "metadata": {
  "kernelspec": {
   "display_name": "Python 3 (ipykernel)",
   "language": "python",
   "name": "python3"
  },
  "language_info": {
   "codemirror_mode": {
    "name": "ipython",
    "version": 3
   },
   "file_extension": ".py",
   "mimetype": "text/x-python",
   "name": "python",
   "nbconvert_exporter": "python",
   "pygments_lexer": "ipython3",
   "version": "3.9.12"
  }
 },
 "nbformat": 4,
 "nbformat_minor": 5
}
