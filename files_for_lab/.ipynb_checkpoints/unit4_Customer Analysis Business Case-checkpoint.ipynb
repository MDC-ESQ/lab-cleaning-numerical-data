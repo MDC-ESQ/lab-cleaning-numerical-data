{
 "cells": [
  {
   "cell_type": "markdown",
   "id": "8a5764bb",
   "metadata": {},
   "source": [
    "# Lab | Cleaning numerical data\n",
    "\n",
    "\n",
    "##### Context\n",
    "\n",
    "An auto insurance company has collected some data about its customers including their demographics, education, employment, policy details, vehicle information on which insurance policy is, and claim amounts. You will help the senior management with some business questions that will help them to better understand their customers, improve their services, and improve profitability.\n",
    "\n",
    "\n",
    "\n",
    "##### Some business Objectives:\n",
    "\n",
    "- Retain customers\n",
    "- Analyze relevant customer data,\n",
    "- Develop focused customer retention programs.\n",
    "- Based on the analysis, take targeted actions to increase profitable customer response, retention, and growth.\n"
   ]
  },
  {
   "cell_type": "markdown",
   "id": "e26ba337",
   "metadata": {},
   "source": [
    "###### Import the necessary libraries."
   ]
  },
  {
   "cell_type": "code",
   "execution_count": 121,
   "id": "5ceb2d82",
   "metadata": {},
   "outputs": [],
   "source": [
    "#Standard libraries for data analysis:\n",
    "    \n",
    "import numpy as np\n",
    "import matplotlib.pyplot as plt\n",
    "import pandas as pd\n",
    "from scipy.stats import norm, skew, shapiro\n",
    "from scipy import stats\n",
    "import statsmodels.api as sm\n",
    "import re #regex\n",
    "\n",
    "# sklearn modules for data preprocessing:\n",
    "from sklearn.preprocessing import LabelEncoder, OneHotEncoder, OrdinalEncoder\n",
    "from sklearn.compose import ColumnTransformer\n",
    "from sklearn.model_selection import train_test_split\n",
    "from sklearn.preprocessing import StandardScaler\n",
    "\n",
    "#sklearn modules for Model Selection:\n",
    "from sklearn import svm, tree, linear_model, neighbors\n",
    "from sklearn.neighbors import KNeighborsClassifier\n",
    "from sklearn.linear_model import LogisticRegression\n",
    "from sklearn.linear_model import LinearRegression\n",
    "from sklearn.neighbors import KNeighborsRegressor\n",
    "from sklearn.neighbors import KNeighborsClassifier\n",
    "from statsmodels.stats.outliers_influence import variance_inflation_factor\n",
    "from sklearn.neural_network import MLPRegressor\n",
    "from sklearn.datasets import make_regression\n",
    "from sklearn.metrics import mean_squared_error as mse\n",
    "from sklearn.metrics import mean_absolute_error as mae\n",
    "\n",
    "#Standard libraries for data visualization:\n",
    "import seaborn as sns\n",
    "from scipy.stats import boxcox \n",
    "from matplotlib import pyplot\n",
    "import matplotlib.pyplot as plt\n",
    "import matplotlib.pylab as pylab\n",
    "import matplotlib \n",
    "%matplotlib inline\n",
    "color = sns.color_palette()\n",
    "import matplotlib.ticker as mtick\n",
    "from pandas.plotting import scatter_matrix\n",
    "from sklearn.metrics import roc_curve\n",
    "\n",
    "\n",
    "pd.options.display.max_columns = None"
   ]
  },
  {
   "cell_type": "markdown",
   "id": "467a706e",
   "metadata": {},
   "source": [
    "##### Load the we_fn_use_c_marketing_customer_value_analysis.csv into the variable customer_df"
   ]
  },
  {
   "cell_type": "code",
   "execution_count": 122,
   "id": "901018aa",
   "metadata": {},
   "outputs": [],
   "source": [
    "customer_df = pd.read_csv('we_fn_use_c_marketing_customer_value_analysis.csv')"
   ]
  },
  {
   "cell_type": "markdown",
   "id": "edc04c65",
   "metadata": {},
   "source": [
    "##### First look at its main features (head, shape, info)."
   ]
  },
  {
   "cell_type": "code",
   "execution_count": 123,
   "id": "662b1274",
   "metadata": {},
   "outputs": [
    {
     "data": {
      "text/html": [
       "<div>\n",
       "<style scoped>\n",
       "    .dataframe tbody tr th:only-of-type {\n",
       "        vertical-align: middle;\n",
       "    }\n",
       "\n",
       "    .dataframe tbody tr th {\n",
       "        vertical-align: top;\n",
       "    }\n",
       "\n",
       "    .dataframe thead th {\n",
       "        text-align: right;\n",
       "    }\n",
       "</style>\n",
       "<table border=\"1\" class=\"dataframe\">\n",
       "  <thead>\n",
       "    <tr style=\"text-align: right;\">\n",
       "      <th></th>\n",
       "      <th>Customer</th>\n",
       "      <th>State</th>\n",
       "      <th>Customer Lifetime Value</th>\n",
       "      <th>Response</th>\n",
       "      <th>Coverage</th>\n",
       "      <th>Education</th>\n",
       "      <th>Effective To Date</th>\n",
       "      <th>EmploymentStatus</th>\n",
       "      <th>Gender</th>\n",
       "      <th>Income</th>\n",
       "      <th>Location Code</th>\n",
       "      <th>Marital Status</th>\n",
       "      <th>Monthly Premium Auto</th>\n",
       "      <th>Months Since Last Claim</th>\n",
       "      <th>Months Since Policy Inception</th>\n",
       "      <th>Number of Open Complaints</th>\n",
       "      <th>Number of Policies</th>\n",
       "      <th>Policy Type</th>\n",
       "      <th>Policy</th>\n",
       "      <th>Renew Offer Type</th>\n",
       "      <th>Sales Channel</th>\n",
       "      <th>Total Claim Amount</th>\n",
       "      <th>Vehicle Class</th>\n",
       "      <th>Vehicle Size</th>\n",
       "    </tr>\n",
       "  </thead>\n",
       "  <tbody>\n",
       "    <tr>\n",
       "      <th>0</th>\n",
       "      <td>BU79786</td>\n",
       "      <td>Washington</td>\n",
       "      <td>2763.519279</td>\n",
       "      <td>No</td>\n",
       "      <td>Basic</td>\n",
       "      <td>Bachelor</td>\n",
       "      <td>2/24/11</td>\n",
       "      <td>Employed</td>\n",
       "      <td>F</td>\n",
       "      <td>56274</td>\n",
       "      <td>Suburban</td>\n",
       "      <td>Married</td>\n",
       "      <td>69</td>\n",
       "      <td>32</td>\n",
       "      <td>5</td>\n",
       "      <td>0</td>\n",
       "      <td>1</td>\n",
       "      <td>Corporate Auto</td>\n",
       "      <td>Corporate L3</td>\n",
       "      <td>Offer1</td>\n",
       "      <td>Agent</td>\n",
       "      <td>384.811147</td>\n",
       "      <td>Two-Door Car</td>\n",
       "      <td>Medsize</td>\n",
       "    </tr>\n",
       "    <tr>\n",
       "      <th>1</th>\n",
       "      <td>QZ44356</td>\n",
       "      <td>Arizona</td>\n",
       "      <td>6979.535903</td>\n",
       "      <td>No</td>\n",
       "      <td>Extended</td>\n",
       "      <td>Bachelor</td>\n",
       "      <td>1/31/11</td>\n",
       "      <td>Unemployed</td>\n",
       "      <td>F</td>\n",
       "      <td>0</td>\n",
       "      <td>Suburban</td>\n",
       "      <td>Single</td>\n",
       "      <td>94</td>\n",
       "      <td>13</td>\n",
       "      <td>42</td>\n",
       "      <td>0</td>\n",
       "      <td>8</td>\n",
       "      <td>Personal Auto</td>\n",
       "      <td>Personal L3</td>\n",
       "      <td>Offer3</td>\n",
       "      <td>Agent</td>\n",
       "      <td>1131.464935</td>\n",
       "      <td>Four-Door Car</td>\n",
       "      <td>Medsize</td>\n",
       "    </tr>\n",
       "    <tr>\n",
       "      <th>2</th>\n",
       "      <td>AI49188</td>\n",
       "      <td>Nevada</td>\n",
       "      <td>12887.431650</td>\n",
       "      <td>No</td>\n",
       "      <td>Premium</td>\n",
       "      <td>Bachelor</td>\n",
       "      <td>2/19/11</td>\n",
       "      <td>Employed</td>\n",
       "      <td>F</td>\n",
       "      <td>48767</td>\n",
       "      <td>Suburban</td>\n",
       "      <td>Married</td>\n",
       "      <td>108</td>\n",
       "      <td>18</td>\n",
       "      <td>38</td>\n",
       "      <td>0</td>\n",
       "      <td>2</td>\n",
       "      <td>Personal Auto</td>\n",
       "      <td>Personal L3</td>\n",
       "      <td>Offer1</td>\n",
       "      <td>Agent</td>\n",
       "      <td>566.472247</td>\n",
       "      <td>Two-Door Car</td>\n",
       "      <td>Medsize</td>\n",
       "    </tr>\n",
       "    <tr>\n",
       "      <th>3</th>\n",
       "      <td>WW63253</td>\n",
       "      <td>California</td>\n",
       "      <td>7645.861827</td>\n",
       "      <td>No</td>\n",
       "      <td>Basic</td>\n",
       "      <td>Bachelor</td>\n",
       "      <td>1/20/11</td>\n",
       "      <td>Unemployed</td>\n",
       "      <td>M</td>\n",
       "      <td>0</td>\n",
       "      <td>Suburban</td>\n",
       "      <td>Married</td>\n",
       "      <td>106</td>\n",
       "      <td>18</td>\n",
       "      <td>65</td>\n",
       "      <td>0</td>\n",
       "      <td>7</td>\n",
       "      <td>Corporate Auto</td>\n",
       "      <td>Corporate L2</td>\n",
       "      <td>Offer1</td>\n",
       "      <td>Call Center</td>\n",
       "      <td>529.881344</td>\n",
       "      <td>SUV</td>\n",
       "      <td>Medsize</td>\n",
       "    </tr>\n",
       "    <tr>\n",
       "      <th>4</th>\n",
       "      <td>HB64268</td>\n",
       "      <td>Washington</td>\n",
       "      <td>2813.692575</td>\n",
       "      <td>No</td>\n",
       "      <td>Basic</td>\n",
       "      <td>Bachelor</td>\n",
       "      <td>2/3/11</td>\n",
       "      <td>Employed</td>\n",
       "      <td>M</td>\n",
       "      <td>43836</td>\n",
       "      <td>Rural</td>\n",
       "      <td>Single</td>\n",
       "      <td>73</td>\n",
       "      <td>12</td>\n",
       "      <td>44</td>\n",
       "      <td>0</td>\n",
       "      <td>1</td>\n",
       "      <td>Personal Auto</td>\n",
       "      <td>Personal L1</td>\n",
       "      <td>Offer1</td>\n",
       "      <td>Agent</td>\n",
       "      <td>138.130879</td>\n",
       "      <td>Four-Door Car</td>\n",
       "      <td>Medsize</td>\n",
       "    </tr>\n",
       "  </tbody>\n",
       "</table>\n",
       "</div>"
      ],
      "text/plain": [
       "  Customer       State  Customer Lifetime Value Response  Coverage Education  \\\n",
       "0  BU79786  Washington              2763.519279       No     Basic  Bachelor   \n",
       "1  QZ44356     Arizona              6979.535903       No  Extended  Bachelor   \n",
       "2  AI49188      Nevada             12887.431650       No   Premium  Bachelor   \n",
       "3  WW63253  California              7645.861827       No     Basic  Bachelor   \n",
       "4  HB64268  Washington              2813.692575       No     Basic  Bachelor   \n",
       "\n",
       "  Effective To Date EmploymentStatus Gender  Income Location Code  \\\n",
       "0           2/24/11         Employed      F   56274      Suburban   \n",
       "1           1/31/11       Unemployed      F       0      Suburban   \n",
       "2           2/19/11         Employed      F   48767      Suburban   \n",
       "3           1/20/11       Unemployed      M       0      Suburban   \n",
       "4            2/3/11         Employed      M   43836         Rural   \n",
       "\n",
       "  Marital Status  Monthly Premium Auto  Months Since Last Claim  \\\n",
       "0        Married                    69                       32   \n",
       "1         Single                    94                       13   \n",
       "2        Married                   108                       18   \n",
       "3        Married                   106                       18   \n",
       "4         Single                    73                       12   \n",
       "\n",
       "   Months Since Policy Inception  Number of Open Complaints  \\\n",
       "0                              5                          0   \n",
       "1                             42                          0   \n",
       "2                             38                          0   \n",
       "3                             65                          0   \n",
       "4                             44                          0   \n",
       "\n",
       "   Number of Policies     Policy Type        Policy Renew Offer Type  \\\n",
       "0                   1  Corporate Auto  Corporate L3           Offer1   \n",
       "1                   8   Personal Auto   Personal L3           Offer3   \n",
       "2                   2   Personal Auto   Personal L3           Offer1   \n",
       "3                   7  Corporate Auto  Corporate L2           Offer1   \n",
       "4                   1   Personal Auto   Personal L1           Offer1   \n",
       "\n",
       "  Sales Channel  Total Claim Amount  Vehicle Class Vehicle Size  \n",
       "0         Agent          384.811147   Two-Door Car      Medsize  \n",
       "1         Agent         1131.464935  Four-Door Car      Medsize  \n",
       "2         Agent          566.472247   Two-Door Car      Medsize  \n",
       "3   Call Center          529.881344            SUV      Medsize  \n",
       "4         Agent          138.130879  Four-Door Car      Medsize  "
      ]
     },
     "execution_count": 123,
     "metadata": {},
     "output_type": "execute_result"
    }
   ],
   "source": [
    "customer_df.head()"
   ]
  },
  {
   "cell_type": "code",
   "execution_count": 124,
   "id": "a306b1e1",
   "metadata": {},
   "outputs": [
    {
     "name": "stdout",
     "output_type": "stream",
     "text": [
      "<class 'pandas.core.frame.DataFrame'>\n",
      "RangeIndex: 9134 entries, 0 to 9133\n",
      "Data columns (total 24 columns):\n",
      " #   Column                         Non-Null Count  Dtype  \n",
      "---  ------                         --------------  -----  \n",
      " 0   Customer                       9134 non-null   object \n",
      " 1   State                          9134 non-null   object \n",
      " 2   Customer Lifetime Value        9134 non-null   float64\n",
      " 3   Response                       9134 non-null   object \n",
      " 4   Coverage                       9134 non-null   object \n",
      " 5   Education                      9134 non-null   object \n",
      " 6   Effective To Date              9134 non-null   object \n",
      " 7   EmploymentStatus               9134 non-null   object \n",
      " 8   Gender                         9134 non-null   object \n",
      " 9   Income                         9134 non-null   int64  \n",
      " 10  Location Code                  9134 non-null   object \n",
      " 11  Marital Status                 9134 non-null   object \n",
      " 12  Monthly Premium Auto           9134 non-null   int64  \n",
      " 13  Months Since Last Claim        9134 non-null   int64  \n",
      " 14  Months Since Policy Inception  9134 non-null   int64  \n",
      " 15  Number of Open Complaints      9134 non-null   int64  \n",
      " 16  Number of Policies             9134 non-null   int64  \n",
      " 17  Policy Type                    9134 non-null   object \n",
      " 18  Policy                         9134 non-null   object \n",
      " 19  Renew Offer Type               9134 non-null   object \n",
      " 20  Sales Channel                  9134 non-null   object \n",
      " 21  Total Claim Amount             9134 non-null   float64\n",
      " 22  Vehicle Class                  9134 non-null   object \n",
      " 23  Vehicle Size                   9134 non-null   object \n",
      "dtypes: float64(2), int64(6), object(16)\n",
      "memory usage: 1.7+ MB\n"
     ]
    }
   ],
   "source": [
    "customer_df.info()"
   ]
  },
  {
   "cell_type": "markdown",
   "id": "e233b990",
   "metadata": {},
   "source": [
    " - The dataset contains 9134 rows and 24 columns and there seem to be no missing values in the dataset."
   ]
  },
  {
   "cell_type": "code",
   "execution_count": 125,
   "id": "904ce94d",
   "metadata": {},
   "outputs": [
    {
     "data": {
      "text/html": [
       "<div>\n",
       "<style scoped>\n",
       "    .dataframe tbody tr th:only-of-type {\n",
       "        vertical-align: middle;\n",
       "    }\n",
       "\n",
       "    .dataframe tbody tr th {\n",
       "        vertical-align: top;\n",
       "    }\n",
       "\n",
       "    .dataframe thead th {\n",
       "        text-align: right;\n",
       "    }\n",
       "</style>\n",
       "<table border=\"1\" class=\"dataframe\">\n",
       "  <thead>\n",
       "    <tr style=\"text-align: right;\">\n",
       "      <th></th>\n",
       "      <th>count</th>\n",
       "      <th>mean</th>\n",
       "      <th>std</th>\n",
       "      <th>min</th>\n",
       "      <th>25%</th>\n",
       "      <th>50%</th>\n",
       "      <th>75%</th>\n",
       "      <th>max</th>\n",
       "    </tr>\n",
       "  </thead>\n",
       "  <tbody>\n",
       "    <tr>\n",
       "      <th>Customer Lifetime Value</th>\n",
       "      <td>9134.0</td>\n",
       "      <td>8004.940475</td>\n",
       "      <td>6870.967608</td>\n",
       "      <td>1898.007675</td>\n",
       "      <td>3994.251794</td>\n",
       "      <td>5780.182197</td>\n",
       "      <td>8962.167041</td>\n",
       "      <td>83325.381190</td>\n",
       "    </tr>\n",
       "    <tr>\n",
       "      <th>Income</th>\n",
       "      <td>9134.0</td>\n",
       "      <td>37657.380009</td>\n",
       "      <td>30379.904734</td>\n",
       "      <td>0.000000</td>\n",
       "      <td>0.000000</td>\n",
       "      <td>33889.500000</td>\n",
       "      <td>62320.000000</td>\n",
       "      <td>99981.000000</td>\n",
       "    </tr>\n",
       "    <tr>\n",
       "      <th>Monthly Premium Auto</th>\n",
       "      <td>9134.0</td>\n",
       "      <td>93.219291</td>\n",
       "      <td>34.407967</td>\n",
       "      <td>61.000000</td>\n",
       "      <td>68.000000</td>\n",
       "      <td>83.000000</td>\n",
       "      <td>109.000000</td>\n",
       "      <td>298.000000</td>\n",
       "    </tr>\n",
       "    <tr>\n",
       "      <th>Months Since Last Claim</th>\n",
       "      <td>9134.0</td>\n",
       "      <td>15.097000</td>\n",
       "      <td>10.073257</td>\n",
       "      <td>0.000000</td>\n",
       "      <td>6.000000</td>\n",
       "      <td>14.000000</td>\n",
       "      <td>23.000000</td>\n",
       "      <td>35.000000</td>\n",
       "    </tr>\n",
       "    <tr>\n",
       "      <th>Months Since Policy Inception</th>\n",
       "      <td>9134.0</td>\n",
       "      <td>48.064594</td>\n",
       "      <td>27.905991</td>\n",
       "      <td>0.000000</td>\n",
       "      <td>24.000000</td>\n",
       "      <td>48.000000</td>\n",
       "      <td>71.000000</td>\n",
       "      <td>99.000000</td>\n",
       "    </tr>\n",
       "    <tr>\n",
       "      <th>Number of Open Complaints</th>\n",
       "      <td>9134.0</td>\n",
       "      <td>0.384388</td>\n",
       "      <td>0.910384</td>\n",
       "      <td>0.000000</td>\n",
       "      <td>0.000000</td>\n",
       "      <td>0.000000</td>\n",
       "      <td>0.000000</td>\n",
       "      <td>5.000000</td>\n",
       "    </tr>\n",
       "    <tr>\n",
       "      <th>Number of Policies</th>\n",
       "      <td>9134.0</td>\n",
       "      <td>2.966170</td>\n",
       "      <td>2.390182</td>\n",
       "      <td>1.000000</td>\n",
       "      <td>1.000000</td>\n",
       "      <td>2.000000</td>\n",
       "      <td>4.000000</td>\n",
       "      <td>9.000000</td>\n",
       "    </tr>\n",
       "    <tr>\n",
       "      <th>Total Claim Amount</th>\n",
       "      <td>9134.0</td>\n",
       "      <td>434.088794</td>\n",
       "      <td>290.500092</td>\n",
       "      <td>0.099007</td>\n",
       "      <td>272.258244</td>\n",
       "      <td>383.945434</td>\n",
       "      <td>547.514839</td>\n",
       "      <td>2893.239678</td>\n",
       "    </tr>\n",
       "  </tbody>\n",
       "</table>\n",
       "</div>"
      ],
      "text/plain": [
       "                                count          mean           std  \\\n",
       "Customer Lifetime Value        9134.0   8004.940475   6870.967608   \n",
       "Income                         9134.0  37657.380009  30379.904734   \n",
       "Monthly Premium Auto           9134.0     93.219291     34.407967   \n",
       "Months Since Last Claim        9134.0     15.097000     10.073257   \n",
       "Months Since Policy Inception  9134.0     48.064594     27.905991   \n",
       "Number of Open Complaints      9134.0      0.384388      0.910384   \n",
       "Number of Policies             9134.0      2.966170      2.390182   \n",
       "Total Claim Amount             9134.0    434.088794    290.500092   \n",
       "\n",
       "                                       min          25%           50%  \\\n",
       "Customer Lifetime Value        1898.007675  3994.251794   5780.182197   \n",
       "Income                            0.000000     0.000000  33889.500000   \n",
       "Monthly Premium Auto             61.000000    68.000000     83.000000   \n",
       "Months Since Last Claim           0.000000     6.000000     14.000000   \n",
       "Months Since Policy Inception     0.000000    24.000000     48.000000   \n",
       "Number of Open Complaints         0.000000     0.000000      0.000000   \n",
       "Number of Policies                1.000000     1.000000      2.000000   \n",
       "Total Claim Amount                0.099007   272.258244    383.945434   \n",
       "\n",
       "                                        75%           max  \n",
       "Customer Lifetime Value         8962.167041  83325.381190  \n",
       "Income                         62320.000000  99981.000000  \n",
       "Monthly Premium Auto             109.000000    298.000000  \n",
       "Months Since Last Claim           23.000000     35.000000  \n",
       "Months Since Policy Inception     71.000000     99.000000  \n",
       "Number of Open Complaints          0.000000      5.000000  \n",
       "Number of Policies                 4.000000      9.000000  \n",
       "Total Claim Amount               547.514839   2893.239678  "
      ]
     },
     "execution_count": 125,
     "metadata": {},
     "output_type": "execute_result"
    }
   ],
   "source": [
    "customer_df.describe().T"
   ]
  },
  {
   "cell_type": "markdown",
   "id": "4eb0938a",
   "metadata": {},
   "source": [
    "- Monthly Premium Auto varies between USD 61 and USD 298. On average customers pay USD 93 per month; Big variation in the montly premium could potentially be because different customers have different contracts.\n",
    "- Average income is approx. USD 37.7K. Highest income is USD 99.98K\n",
    "- Most clients have  2 policies."
   ]
  },
  {
   "cell_type": "markdown",
   "id": "6ec9c459",
   "metadata": {},
   "source": [
    "##### Rename the columns so they follow the PE8 (snake case) (lower_case_with_underscores)"
   ]
  },
  {
   "cell_type": "code",
   "execution_count": 126,
   "id": "cd44eea3",
   "metadata": {},
   "outputs": [
    {
     "data": {
      "text/plain": [
       "Index(['Customer', 'State', 'Customer Lifetime Value', 'Response', 'Coverage',\n",
       "       'Education', 'Effective To Date', 'EmploymentStatus', 'Gender',\n",
       "       'Income', 'Location Code', 'Marital Status', 'Monthly Premium Auto',\n",
       "       'Months Since Last Claim', 'Months Since Policy Inception',\n",
       "       'Number of Open Complaints', 'Number of Policies', 'Policy Type',\n",
       "       'Policy', 'Renew Offer Type', 'Sales Channel', 'Total Claim Amount',\n",
       "       'Vehicle Class', 'Vehicle Size'],\n",
       "      dtype='object')"
      ]
     },
     "execution_count": 126,
     "metadata": {},
     "output_type": "execute_result"
    }
   ],
   "source": [
    "customer_df.columns"
   ]
  },
  {
   "cell_type": "code",
   "execution_count": 127,
   "id": "f52d9488",
   "metadata": {},
   "outputs": [],
   "source": [
    "def cleanup(x):\n",
    "    \n",
    "    # Add space between words\n",
    "    x.columns = x.columns.str.replace(r'(?<=[a-z])(?=[A-Z])',' ', regex=True) # add space before Capital letter\n",
    "\n",
    "    # Convert column names to lowercase\n",
    "    x.columns = x.columns.str.lower()\n",
    "\n",
    "    # replace spaces by '_'\n",
    "    x.columns= x.columns.str.replace(' ', '_')\n",
    "    \n",
    "    return x.columns\n",
    "\n"
   ]
  },
  {
   "cell_type": "code",
   "execution_count": 128,
   "id": "f39af5f4",
   "metadata": {},
   "outputs": [
    {
     "data": {
      "text/plain": [
       "Index(['customer', 'state', 'customer_lifetime_value', 'response', 'coverage',\n",
       "       'education', 'effective_to_date', 'employment_status', 'gender',\n",
       "       'income', 'location_code', 'marital_status', 'monthly_premium_auto',\n",
       "       'months_since_last_claim', 'months_since_policy_inception',\n",
       "       'number_of_open_complaints', 'number_of_policies', 'policy_type',\n",
       "       'policy', 'renew_offer_type', 'sales_channel', 'total_claim_amount',\n",
       "       'vehicle_class', 'vehicle_size'],\n",
       "      dtype='object')"
      ]
     },
     "execution_count": 128,
     "metadata": {},
     "output_type": "execute_result"
    }
   ],
   "source": [
    "cleanup(customer_df)"
   ]
  },
  {
   "cell_type": "markdown",
   "id": "7b6171c1",
   "metadata": {},
   "source": [
    "##### Change effective to date column to datetime format."
   ]
  },
  {
   "cell_type": "code",
   "execution_count": 129,
   "id": "67b67ec3",
   "metadata": {},
   "outputs": [
    {
     "data": {
      "text/plain": [
       "dtype('<M8[ns]')"
      ]
     },
     "execution_count": 129,
     "metadata": {},
     "output_type": "execute_result"
    }
   ],
   "source": [
    "customer_df['effective_to_date'] = pd.to_datetime(customer_df['effective_to_date'], errors='coerce')\n",
    "customer_df['effective_to_date'].dtypes"
   ]
  },
  {
   "cell_type": "markdown",
   "id": "d1469d1c",
   "metadata": {},
   "source": [
    "##### Define a function that differentiates between continuous and discrete variables. Hint: The number of unique values might be useful. Store continuous data into a continuous_df variable and do the same for discrete_df"
   ]
  },
  {
   "cell_type": "code",
   "execution_count": 130,
   "id": "b7239c58",
   "metadata": {},
   "outputs": [
    {
     "name": "stdout",
     "output_type": "stream",
     "text": [
      "Name: customer\n",
      "Type: object\n",
      "Unique values: 9134\n",
      "% Unique values: 100.0\n",
      "\n",
      "----------\n",
      "Name: state\n",
      "Type: object\n",
      "Unique values: 5\n",
      "% Unique values: 0.1\n",
      "\n",
      "----------\n",
      "Name: customer_lifetime_value\n",
      "Type: float64\n",
      "Unique values: 8041\n",
      "% Unique values: 88.0\n",
      "\n",
      "----------\n",
      "Name: response\n",
      "Type: object\n",
      "Unique values: 2\n",
      "% Unique values: 0.0\n",
      "\n",
      "----------\n",
      "Name: coverage\n",
      "Type: object\n",
      "Unique values: 3\n",
      "% Unique values: 0.0\n",
      "\n",
      "----------\n",
      "Name: education\n",
      "Type: object\n",
      "Unique values: 5\n",
      "% Unique values: 0.1\n",
      "\n",
      "----------\n",
      "Name: effective_to_date\n",
      "Type: datetime64[ns]\n",
      "Unique values: 59\n",
      "% Unique values: 0.6\n",
      "\n",
      "----------\n",
      "Name: employment_status\n",
      "Type: object\n",
      "Unique values: 5\n",
      "% Unique values: 0.1\n",
      "\n",
      "----------\n",
      "Name: gender\n",
      "Type: object\n",
      "Unique values: 2\n",
      "% Unique values: 0.0\n",
      "\n",
      "----------\n",
      "Name: income\n",
      "Type: int64\n",
      "Unique values: 5694\n",
      "% Unique values: 62.3\n",
      "\n",
      "----------\n",
      "Name: location_code\n",
      "Type: object\n",
      "Unique values: 3\n",
      "% Unique values: 0.0\n",
      "\n",
      "----------\n",
      "Name: marital_status\n",
      "Type: object\n",
      "Unique values: 3\n",
      "% Unique values: 0.0\n",
      "\n",
      "----------\n",
      "Name: monthly_premium_auto\n",
      "Type: int64\n",
      "Unique values: 202\n",
      "% Unique values: 2.2\n",
      "\n",
      "----------\n",
      "Name: months_since_last_claim\n",
      "Type: int64\n",
      "Unique values: 36\n",
      "% Unique values: 0.4\n",
      "\n",
      "----------\n",
      "Name: months_since_policy_inception\n",
      "Type: int64\n",
      "Unique values: 100\n",
      "% Unique values: 1.1\n",
      "\n",
      "----------\n",
      "Name: number_of_open_complaints\n",
      "Type: int64\n",
      "Unique values: 6\n",
      "% Unique values: 0.1\n",
      "\n",
      "----------\n",
      "Name: number_of_policies\n",
      "Type: int64\n",
      "Unique values: 9\n",
      "% Unique values: 0.1\n",
      "\n",
      "----------\n",
      "Name: policy_type\n",
      "Type: object\n",
      "Unique values: 3\n",
      "% Unique values: 0.0\n",
      "\n",
      "----------\n",
      "Name: policy\n",
      "Type: object\n",
      "Unique values: 9\n",
      "% Unique values: 0.1\n",
      "\n",
      "----------\n",
      "Name: renew_offer_type\n",
      "Type: object\n",
      "Unique values: 4\n",
      "% Unique values: 0.0\n",
      "\n",
      "----------\n",
      "Name: sales_channel\n",
      "Type: object\n",
      "Unique values: 4\n",
      "% Unique values: 0.0\n",
      "\n",
      "----------\n",
      "Name: total_claim_amount\n",
      "Type: float64\n",
      "Unique values: 5106\n",
      "% Unique values: 55.9\n",
      "\n",
      "----------\n",
      "Name: vehicle_class\n",
      "Type: object\n",
      "Unique values: 6\n",
      "% Unique values: 0.1\n",
      "\n",
      "----------\n",
      "Name: vehicle_size\n",
      "Type: object\n",
      "Unique values: 3\n",
      "% Unique values: 0.0\n",
      "\n",
      "----------\n"
     ]
    }
   ],
   "source": [
    "for col in customer_df.columns:\n",
    "    #print(customer_df[col].unique)\n",
    "    print('Name: {}'.format(customer_df[col].name))    # column name\n",
    "    print('Type: {}'.format(customer_df[col].dtype))   # column type\n",
    "    print('Unique values: {}'.format(len(customer_df[col].unique())))   # column unique values\n",
    "    print('% Unique values: {}'.format(round(len(customer_df[col].unique())/len(customer_df)*100,1)))  # percentage\n",
    "    print('\\n----------')\n",
    "    "
   ]
  },
  {
   "cell_type": "code",
   "execution_count": 131,
   "id": "fd6b0eb4",
   "metadata": {},
   "outputs": [],
   "source": [
    "def cont_disc_col(x):\n",
    "    \n",
    "    numeric = x.select_dtypes(include = np.number)\n",
    "    \n",
    "    continuous = []\n",
    "    discrete = []\n",
    "\n",
    "    for col in numeric:\n",
    "        if len(numeric[col].unique())/len(numeric) <= 0.02:\n",
    "            discrete.append(col)\n",
    "        else:\n",
    "            continuous.append(col)                \n",
    "    return discrete, continuous\n"
   ]
  },
  {
   "cell_type": "code",
   "execution_count": 132,
   "id": "378c7182",
   "metadata": {},
   "outputs": [],
   "source": [
    "discrete, continuous = cont_disc_col(customer_df)"
   ]
  },
  {
   "cell_type": "code",
   "execution_count": 133,
   "id": "8eb99b3b",
   "metadata": {},
   "outputs": [
    {
     "name": "stdout",
     "output_type": "stream",
     "text": [
      "(9134, 4)\n",
      "(9134, 4)\n"
     ]
    }
   ],
   "source": [
    "discrete_df = customer_df[discrete]\n",
    "print(discrete_df.shape)\n",
    "continuous_df = customer_df[continuous]\n",
    "print(continuous_df.shape)"
   ]
  },
  {
   "cell_type": "markdown",
   "id": "d7176a56",
   "metadata": {},
   "source": [
    "##### Plot a correlation matrix, comment what you see."
   ]
  },
  {
   "cell_type": "code",
   "execution_count": 134,
   "id": "f1351ce7",
   "metadata": {},
   "outputs": [
    {
     "data": {
      "text/html": [
       "<div>\n",
       "<style scoped>\n",
       "    .dataframe tbody tr th:only-of-type {\n",
       "        vertical-align: middle;\n",
       "    }\n",
       "\n",
       "    .dataframe tbody tr th {\n",
       "        vertical-align: top;\n",
       "    }\n",
       "\n",
       "    .dataframe thead th {\n",
       "        text-align: right;\n",
       "    }\n",
       "</style>\n",
       "<table border=\"1\" class=\"dataframe\">\n",
       "  <thead>\n",
       "    <tr style=\"text-align: right;\">\n",
       "      <th></th>\n",
       "      <th>customer_lifetime_value</th>\n",
       "      <th>income</th>\n",
       "      <th>monthly_premium_auto</th>\n",
       "      <th>months_since_last_claim</th>\n",
       "      <th>months_since_policy_inception</th>\n",
       "      <th>number_of_open_complaints</th>\n",
       "      <th>number_of_policies</th>\n",
       "      <th>total_claim_amount</th>\n",
       "    </tr>\n",
       "  </thead>\n",
       "  <tbody>\n",
       "    <tr>\n",
       "      <th>customer_lifetime_value</th>\n",
       "      <td>1.000000</td>\n",
       "      <td>0.024366</td>\n",
       "      <td>0.396262</td>\n",
       "      <td>0.011517</td>\n",
       "      <td>0.009418</td>\n",
       "      <td>-0.036343</td>\n",
       "      <td>0.021955</td>\n",
       "      <td>0.226451</td>\n",
       "    </tr>\n",
       "    <tr>\n",
       "      <th>income</th>\n",
       "      <td>0.024366</td>\n",
       "      <td>1.000000</td>\n",
       "      <td>-0.016665</td>\n",
       "      <td>-0.026715</td>\n",
       "      <td>-0.000875</td>\n",
       "      <td>0.006408</td>\n",
       "      <td>-0.008656</td>\n",
       "      <td>-0.355254</td>\n",
       "    </tr>\n",
       "    <tr>\n",
       "      <th>monthly_premium_auto</th>\n",
       "      <td>0.396262</td>\n",
       "      <td>-0.016665</td>\n",
       "      <td>1.000000</td>\n",
       "      <td>0.005026</td>\n",
       "      <td>0.020257</td>\n",
       "      <td>-0.013122</td>\n",
       "      <td>-0.011233</td>\n",
       "      <td>0.632017</td>\n",
       "    </tr>\n",
       "    <tr>\n",
       "      <th>months_since_last_claim</th>\n",
       "      <td>0.011517</td>\n",
       "      <td>-0.026715</td>\n",
       "      <td>0.005026</td>\n",
       "      <td>1.000000</td>\n",
       "      <td>-0.042959</td>\n",
       "      <td>0.005354</td>\n",
       "      <td>0.009136</td>\n",
       "      <td>0.007563</td>\n",
       "    </tr>\n",
       "    <tr>\n",
       "      <th>months_since_policy_inception</th>\n",
       "      <td>0.009418</td>\n",
       "      <td>-0.000875</td>\n",
       "      <td>0.020257</td>\n",
       "      <td>-0.042959</td>\n",
       "      <td>1.000000</td>\n",
       "      <td>-0.001158</td>\n",
       "      <td>-0.013333</td>\n",
       "      <td>0.003335</td>\n",
       "    </tr>\n",
       "    <tr>\n",
       "      <th>number_of_open_complaints</th>\n",
       "      <td>-0.036343</td>\n",
       "      <td>0.006408</td>\n",
       "      <td>-0.013122</td>\n",
       "      <td>0.005354</td>\n",
       "      <td>-0.001158</td>\n",
       "      <td>1.000000</td>\n",
       "      <td>0.001498</td>\n",
       "      <td>-0.014241</td>\n",
       "    </tr>\n",
       "    <tr>\n",
       "      <th>number_of_policies</th>\n",
       "      <td>0.021955</td>\n",
       "      <td>-0.008656</td>\n",
       "      <td>-0.011233</td>\n",
       "      <td>0.009136</td>\n",
       "      <td>-0.013333</td>\n",
       "      <td>0.001498</td>\n",
       "      <td>1.000000</td>\n",
       "      <td>-0.002354</td>\n",
       "    </tr>\n",
       "    <tr>\n",
       "      <th>total_claim_amount</th>\n",
       "      <td>0.226451</td>\n",
       "      <td>-0.355254</td>\n",
       "      <td>0.632017</td>\n",
       "      <td>0.007563</td>\n",
       "      <td>0.003335</td>\n",
       "      <td>-0.014241</td>\n",
       "      <td>-0.002354</td>\n",
       "      <td>1.000000</td>\n",
       "    </tr>\n",
       "  </tbody>\n",
       "</table>\n",
       "</div>"
      ],
      "text/plain": [
       "                               customer_lifetime_value    income  \\\n",
       "customer_lifetime_value                       1.000000  0.024366   \n",
       "income                                        0.024366  1.000000   \n",
       "monthly_premium_auto                          0.396262 -0.016665   \n",
       "months_since_last_claim                       0.011517 -0.026715   \n",
       "months_since_policy_inception                 0.009418 -0.000875   \n",
       "number_of_open_complaints                    -0.036343  0.006408   \n",
       "number_of_policies                            0.021955 -0.008656   \n",
       "total_claim_amount                            0.226451 -0.355254   \n",
       "\n",
       "                               monthly_premium_auto  months_since_last_claim  \\\n",
       "customer_lifetime_value                    0.396262                 0.011517   \n",
       "income                                    -0.016665                -0.026715   \n",
       "monthly_premium_auto                       1.000000                 0.005026   \n",
       "months_since_last_claim                    0.005026                 1.000000   \n",
       "months_since_policy_inception              0.020257                -0.042959   \n",
       "number_of_open_complaints                 -0.013122                 0.005354   \n",
       "number_of_policies                        -0.011233                 0.009136   \n",
       "total_claim_amount                         0.632017                 0.007563   \n",
       "\n",
       "                               months_since_policy_inception  \\\n",
       "customer_lifetime_value                             0.009418   \n",
       "income                                             -0.000875   \n",
       "monthly_premium_auto                                0.020257   \n",
       "months_since_last_claim                            -0.042959   \n",
       "months_since_policy_inception                       1.000000   \n",
       "number_of_open_complaints                          -0.001158   \n",
       "number_of_policies                                 -0.013333   \n",
       "total_claim_amount                                  0.003335   \n",
       "\n",
       "                               number_of_open_complaints  number_of_policies  \\\n",
       "customer_lifetime_value                        -0.036343            0.021955   \n",
       "income                                          0.006408           -0.008656   \n",
       "monthly_premium_auto                           -0.013122           -0.011233   \n",
       "months_since_last_claim                         0.005354            0.009136   \n",
       "months_since_policy_inception                  -0.001158           -0.013333   \n",
       "number_of_open_complaints                       1.000000            0.001498   \n",
       "number_of_policies                              0.001498            1.000000   \n",
       "total_claim_amount                             -0.014241           -0.002354   \n",
       "\n",
       "                               total_claim_amount  \n",
       "customer_lifetime_value                  0.226451  \n",
       "income                                  -0.355254  \n",
       "monthly_premium_auto                     0.632017  \n",
       "months_since_last_claim                  0.007563  \n",
       "months_since_policy_inception            0.003335  \n",
       "number_of_open_complaints               -0.014241  \n",
       "number_of_policies                      -0.002354  \n",
       "total_claim_amount                       1.000000  "
      ]
     },
     "execution_count": 134,
     "metadata": {},
     "output_type": "execute_result"
    }
   ],
   "source": [
    "correlation_customer_df = customer_df.corr()\n",
    "correlation_customer_df"
   ]
  },
  {
   "cell_type": "code",
   "execution_count": 135,
   "id": "27491217",
   "metadata": {},
   "outputs": [
    {
     "data": {
      "image/png": "[encoded data removed]",
      "text/plain": [
       "<Figure size 648x432 with 2 Axes>"
      ]
     },
     "metadata": {
      "needs_background": "light"
     },
     "output_type": "display_data"
    }
   ],
   "source": [
    "fig, ax = plt.subplots(figsize=(9, 6))\n",
    "ax = sns.heatmap(correlation_customer_df, annot=True)\n",
    "plt.show()"
   ]
  },
  {
   "cell_type": "markdown",
   "id": "ac670281",
   "metadata": {},
   "source": [
    "In the heapmap above we see that:\n",
    " - Customer lifetime value has a relative high correlation with monthly premium auto. The greater the Customer lifetime value the greater is monthly premium auto.\n",
    " - Customer lifetime value has an acceptable correlation with total claim amount.\n",
    " - Total claim amount is highly correlated with monthly premium auto.\n",
    " - Income is negatively correlated with total claim amount, meaning that when the income increases, the total claim amount decreaes\n",
    " - There is no strong relationship between other features"
   ]
  },
  {
   "cell_type": "code",
   "execution_count": 136,
   "id": "fa30c93e",
   "metadata": {},
   "outputs": [],
   "source": [
    "def calc_vif(x):\n",
    "# Calculating VIF\n",
    "    vif = pd.DataFrame()\n",
    "    vif[\"variables\"] = x.columns\n",
    "    vif[\"VIF\"] = [variance_inflation_factor(x.values, i) \n",
    "    \n",
    "    for i in range(x.shape[1])] # x.shape[1] gives the number of columns. The same as len(customer_df.columns)\n",
    "    return(vif)\n"
   ]
  },
  {
   "cell_type": "code",
   "execution_count": 137,
   "id": "d372fe55",
   "metadata": {},
   "outputs": [
    {
     "data": {
      "text/html": [
       "<div>\n",
       "<style scoped>\n",
       "    .dataframe tbody tr th:only-of-type {\n",
       "        vertical-align: middle;\n",
       "    }\n",
       "\n",
       "    .dataframe tbody tr th {\n",
       "        vertical-align: top;\n",
       "    }\n",
       "\n",
       "    .dataframe thead th {\n",
       "        text-align: right;\n",
       "    }\n",
       "</style>\n",
       "<table border=\"1\" class=\"dataframe\">\n",
       "  <thead>\n",
       "    <tr style=\"text-align: right;\">\n",
       "      <th></th>\n",
       "      <th>variables</th>\n",
       "      <th>VIF</th>\n",
       "    </tr>\n",
       "  </thead>\n",
       "  <tbody>\n",
       "    <tr>\n",
       "      <th>0</th>\n",
       "      <td>customer_lifetime_value</td>\n",
       "      <td>2.805772</td>\n",
       "    </tr>\n",
       "    <tr>\n",
       "      <th>1</th>\n",
       "      <td>income</td>\n",
       "      <td>2.278732</td>\n",
       "    </tr>\n",
       "    <tr>\n",
       "      <th>2</th>\n",
       "      <td>monthly_premium_auto</td>\n",
       "      <td>6.363674</td>\n",
       "    </tr>\n",
       "    <tr>\n",
       "      <th>3</th>\n",
       "      <td>months_since_last_claim</td>\n",
       "      <td>2.782622</td>\n",
       "    </tr>\n",
       "    <tr>\n",
       "      <th>4</th>\n",
       "      <td>months_since_policy_inception</td>\n",
       "      <td>3.265764</td>\n",
       "    </tr>\n",
       "    <tr>\n",
       "      <th>5</th>\n",
       "      <td>number_of_open_complaints</td>\n",
       "      <td>1.166609</td>\n",
       "    </tr>\n",
       "    <tr>\n",
       "      <th>6</th>\n",
       "      <td>number_of_policies</td>\n",
       "      <td>2.297052</td>\n",
       "    </tr>\n",
       "  </tbody>\n",
       "</table>\n",
       "</div>"
      ],
      "text/plain": [
       "                       variables       VIF\n",
       "0        customer_lifetime_value  2.805772\n",
       "1                         income  2.278732\n",
       "2           monthly_premium_auto  6.363674\n",
       "3        months_since_last_claim  2.782622\n",
       "4  months_since_policy_inception  3.265764\n",
       "5      number_of_open_complaints  1.166609\n",
       "6             number_of_policies  2.297052"
      ]
     },
     "execution_count": 137,
     "metadata": {},
     "output_type": "execute_result"
    }
   ],
   "source": [
    "numeric_features = numeric.drop(['total_claim_amount'], axis = 1)\n",
    "calc_vif(numeric_features)"
   ]
  },
  {
   "cell_type": "markdown",
   "id": "6e2dbd58",
   "metadata": {},
   "source": [
    "Regarding VIF:\n",
    " - A value of 1 indicates there is no correlation between features in the model.\n",
    " - A value between 1 and 5 indicates moderate correlation between features in the model, but not severe enough to require attention.\n",
    " - A value greater than 5 indicates potentially severe correlation between features in the model. In this case, the coefficient estimates and p-values in the regression output are likely unreliable.\n",
    "\n",
    "\n",
    "The VIF for monthly_premium_auto is greater than 5, meaning that this variable is highly correlated with at least one of the other features. Usually, insurance premiums are calculated based on several factors like number of policies or open claims. These factors are also included in our model. However, since the goal of this exercise is to predict who are the best customers, there is no need to deal with multicollinearity \n",
    "\n",
    "\n",
    "For all other features, VIF values are less than 5, therefore multicollinearity is not a problem."
   ]
  },
  {
   "cell_type": "markdown",
   "id": "c2365855",
   "metadata": {},
   "source": [
    "##### Create a function to plot every discrete variable. Do the same with the continuous variables (Be Careful, you may need to change the plot type to one better suited for continuous data!)"
   ]
  },
  {
   "cell_type": "markdown",
   "id": "886310b3",
   "metadata": {},
   "source": [
    "##### Comment what you can see in the plots."
   ]
  },
  {
   "cell_type": "code",
   "execution_count": 138,
   "id": "71270a54",
   "metadata": {},
   "outputs": [],
   "source": [
    "def plot_discrete(x):\n",
    "    fig = plt.figure(figsize=(15, 20))\n",
    "    for col in x:\n",
    "        sns.displot(data=x, x= col)\n"
   ]
  },
  {
   "cell_type": "code",
   "execution_count": 139,
   "id": "ed1e2ee6",
   "metadata": {},
   "outputs": [
    {
     "data": {
      "text/plain": [
       "<Figure size 1080x1440 with 0 Axes>"
      ]
     },
     "metadata": {},
     "output_type": "display_data"
    },
    {
     "data": {
      "image/png": "[encoded data removed]",
      "text/plain": [
       "<Figure size 360x360 with 1 Axes>"
      ]
     },
     "metadata": {
      "needs_background": "light"
     },
     "output_type": "display_data"
    },
    {
     "data": {
      "image/png": "[encoded data removed]",
      "text/plain": [
       "<Figure size 360x360 with 1 Axes>"
      ]
     },
     "metadata": {
      "needs_background": "light"
     },
     "output_type": "display_data"
    },
    {
     "data": {
      "image/png": "[encoded data removed]",
      "text/plain": [
       "<Figure size 360x360 with 1 Axes>"
      ]
     },
     "metadata": {
      "needs_background": "light"
     },
     "output_type": "display_data"
    },
    {
     "data": {
      "image/png": "[encoded data removed]",
      "text/plain": [
       "<Figure size 360x360 with 1 Axes>"
      ]
     },
     "metadata": {
      "needs_background": "light"
     },
     "output_type": "display_data"
    }
   ],
   "source": [
    "plot_discrete(discrete_df)"
   ]
  },
  {
   "cell_type": "markdown",
   "id": "b1b70b74",
   "metadata": {},
   "source": [
    "A few observations can be made based on the histograms above:\n",
    " - Number of months at which the insurance policy goes into effect varies between 0 and 100, in a relatively equal proportion;\n",
    " - 20% of the customers have at least 1 open complaint;\n",
    " - Most of customers have 1 or 2 policies."
   ]
  },
  {
   "cell_type": "markdown",
   "id": "4e34941f",
   "metadata": {},
   "source": [
    "##### Look for outliers in the continuous variables. (HINT: There’s a good plot to do that!)"
   ]
  },
  {
   "cell_type": "markdown",
   "id": "9cda64e6",
   "metadata": {},
   "source": [
    "##### Did you find outliers? Comment what you will do with them."
   ]
  },
  {
   "cell_type": "code",
   "execution_count": 140,
   "id": "f04c5576",
   "metadata": {},
   "outputs": [],
   "source": [
    "def plot_continuous(x):\n",
    "    fig = plt.figure(figsize=(15, 8))\n",
    "    for col in x:\n",
    "        sns.boxplot(data=x, orient='v')"
   ]
  },
  {
   "cell_type": "code",
   "execution_count": 141,
   "id": "67acaf57",
   "metadata": {},
   "outputs": [
    {
     "data": {
      "image/png": "[encoded data removed]",
      "text/plain": [
       "<Figure size 1080x576 with 1 Axes>"
      ]
     },
     "metadata": {
      "needs_background": "light"
     },
     "output_type": "display_data"
    }
   ],
   "source": [
    "plot_continuous(continuous_df)"
   ]
  },
  {
   "cell_type": "markdown",
   "id": "6737f956",
   "metadata": {},
   "source": [
    "Since scales are too different, it is difficult to spot ouliers for all variables. Total claim amount is our target, so it will be left ut"
   ]
  },
  {
   "cell_type": "markdown",
   "id": "be2ad64a",
   "metadata": {},
   "source": [
    "Calculate outliers based on IQR\n"
   ]
  },
  {
   "cell_type": "markdown",
   "id": "52137409",
   "metadata": {},
   "source": [
    " - customer_lifetime_value"
   ]
  },
  {
   "cell_type": "code",
   "execution_count": 142,
   "id": "2b184b35",
   "metadata": {},
   "outputs": [
    {
     "name": "stdout",
     "output_type": "stream",
     "text": [
      "customer_lifetime_value: \n",
      "IQR:  4967.915247000001\n",
      "upper_bound:  16414.039911750002\n",
      "lower_bound:  -3457.6210762500014\n",
      " \n",
      "The following are the outliers in the boxplot:[24127.50402, 24127.50402, 18975.45611, 36707.42639, 33473.34946, 24261.01777, 22643.83478, 58166.55351, 20946.19251, 24084.5352, 31221.7481, 19776.56654, 21343.46599, 16936.27147, 23706.11337, 32269.85139, 25755.27817, 16706.11699, 17840.19555, 17930.60451, 29328.04185, 22855.61209, 16727.56063, 18042.47942, 31161.74523, 25585.72783, 32654.8383, 22103.5072, 18211.14319, 23444.90045, 33473.34946, 44795.46942, 28685.82785, 18929.3306, 24143.87556, 29091.23936, 19834.20115, 35537.846, 34611.37896, 20216.30883, 27776.28906, 21903.91364, 18073.93999, 23594.6802, 19582.46887, 36057.53702, 20714.94043, 17497.52201, 35850.59935, 23875.47675, 30475.78048, 21435.87782, 26843.12452, 29194.36639, 27789.69235, 21423.63723, 25830.90982, 24127.50402, 17857.97233, 17771.54902, 18269.27017, 27580.55396, 21147.27716, 22500.88348, 24980.22553, 18361.55525, 32196.60037, 34931.00171, 19069.49954, 40224.01359, 21850.84002, 44771.29936, 24709.59957, 27495.42188, 23594.6802, 19480.49981, 31162.6933, 22951.892, 16870.3882, 16874.32815, 21531.33284, 20171.96154, 16464.36587, 38445.85587, 22986.15393, 28393.32994, 21569.33731, 24723.18311, 19504.4739, 26900.27013, 20635.0846, 20314.9976, 25807.063, 45708.65342, 21639.83862, 20477.10841, 21404.35885, 32227.08389, 16979.79757, 25807.063, 23981.54344, 16675.89616, 19393.21145, 39400.1854, 20090.43865, 32864.4046, 16973.74021, 19160.98994, 17484.53438, 18131.18874, 18453.57629, 38496.94701, 17723.76398, 16477.76843, 18321.86647, 19896.42226, 21423.63723, 17732.46488, 26346.08582, 22693.29076, 21522.94749, 22563.61838, 35062.64795, 19160.98994, 30763.25637, 20725.37773, 29412.2893, 17497.52201, 23207.26972, 17651.96339, 17029.89338, 22658.53652, 20998.25947, 19116.56806, 46611.87375, 16515.00927, 20455.24946, 32961.15225, 22207.82615, 35944.71048, 18039.11422, 22056.00496, 20842.5963, 19685.40911, 49221.43073, 28486.0728, 23950.37443, 23515.85325, 17530.03658, 20395.96875, 36470.3024, 16727.77186, 22110.39804, 32871.74779, 20700.8645, 26180.80528, 19014.47625, 22195.80299, 32613.69038, 48356.96084, 21034.01815, 31642.10463, 27443.47482, 46805.22306, 37111.65952, 16796.33604, 22658.53652, 23228.23674, 19357.37201, 21504.3388, 17476.64139, 22041.85643, 74228.51604, 22337.1631, 27789.69235, 18767.55161, 16531.70376, 23208.39416, 17786.2778, 19378.9078, 22800.53543, 16794.31422, 22445.28088, 34708.87261, 24127.50402, 26864.20332, 31934.62164, 18474.71111, 30141.61738, 16979.79757, 18089.79629, 20708.25881, 21274.34205, 22103.5072, 18892.19767, 25464.82059, 51337.90677, 28699.89392, 26576.31541, 17223.89108, 19688.31898, 16985.49688, 21101.21422, 30061.69259, 17263.64048, 33873.18123, 22217.96796, 26730.06042, 17712.20524, 20534.39224, 21914.40548, 23207.24981, 19927.63513, 18690.34066, 20215.3918, 19884.91592, 27382.81893, 24178.68478, 22332.43946, 28421.57022, 33473.34946, 35203.57475, 20885.55547, 25360.10404, 27937.75093, 18380.39026, 36946.06393, 22754.66137, 21205.37785, 41491.74481, 19160.98994, 35440.14262, 18853.73945, 20604.01627, 16922.12519, 19237.77089, 16473.16905, 19606.35999, 36897.79765, 19643.54421, 29199.81072, 22647.21772, 22332.43946, 20123.86854, 16473.16905, 19435.62924, 18269.53692, 58753.88046, 16938.29858, 16468.22079, 16963.83934, 26413.54751, 22067.728, 26770.44534, 25807.063, 20552.62128, 18611.45356, 19185.0725, 32306.28587, 20096.89337, 25763.41423, 16547.63728, 22806.46912, 20940.30306, 18522.29433, 21295.51371, 52811.49112, 18948.34795, 25807.063, 23740.12142, 32467.66151, 17966.28765, 23142.1509, 21590.44235, 30118.6554, 46770.94705, 32677.34284, 21112.53624, 23777.81427, 25997.74996, 16525.38067, 16953.08411, 16570.09009, 27945.89465, 36229.40842, 21480.81781, 19454.40847, 22332.43946, 24186.88247, 26462.75908, 26199.52707, 19231.77266, 27440.61101, 20957.60504, 21592.10096, 23594.6802, 47155.62558, 30718.8124, 22103.5072, 17288.55405, 25464.82059, 18321.41903, 27789.69235, 20461.1545, 18704.85055, 24337.38181, 30850.58677, 25626.70699, 30909.22228, 26305.41541, 29589.94128, 21941.85759, 29577.28414, 33451.7935, 37150.82945, 16504.96173, 38410.59556, 39769.55524, 16473.16905, 26200.83423, 21423.63723, 27542.36956, 61850.18803, 35013.54166, 19088.34203, 23866.15656, 20474.14563, 24338.51185, 17816.68242, 18542.30074, 17995.86532, 17557.54051, 28511.03331, 22103.5072, 25581.61014, 16553.23422, 19323.23675, 27564.73951, 20230.9675, 21159.30151, 21240.94357, 29037.47753, 28435.64035, 37243.63312, 17253.72944, 36181.02892, 23675.02939, 60556.19213, 28824.06193, 27643.23508, 16548.85665, 17109.39447, 29232.69297, 25401.51859, 21423.63723, 26416.25478, 42462.96794, 25805.26839, 17497.52201, 22261.0224, 17041.4383, 20492.7355, 22062.54841, 16473.16905, 43026.52149, 44468.02303, 25107.09812, 24258.71383, 24636.96719, 34611.37896, 26197.41498, 28799.95415, 18708.75831, 19964.39708, 32450.39142, 35984.10457, 26223.81193, 18504.2801, 22093.61618, 26197.41498, 19483.24011, 17103.79173, 40235.9731, 19278.81715, 24967.75842, 18943.26899, 16728.34386, 22940.38215, 23086.36478, 25464.82059, 16681.32634, 18680.99387, 21235.44557, 18065.27192, 19644.76296, 35900.07644, 19190.31894, 20239.38353, 23187.14574, 18534.61157, 21768.69952, 41143.09011, 25807.063, 39365.29616, 23893.3041, 17420.56565, 20186.34693, 16979.79757, 24061.11048, 19160.98994, 23295.06014, 17793.60797, 27990.27159, 17250.74771, 19957.79034, 22895.34606, 22712.02364, 56675.93768, 43217.21611, 17114.32815, 41075.42879, 22425.25604, 36860.90798, 21172.38983, 20096.89337, 24552.8746, 35227.29912, 19045.50012, 38230.21008, 21886.19626, 16702.69914, 38320.82017, 20498.83124, 27287.50099, 35444.31404, 16699.46158, 16887.79708, 24096.23695, 21418.35544, 22235.01011, 19174.63407, 19338.5293, 25253.10198, 17349.03226, 31920.76916, 25805.50599, 30154.68108, 16793.9728, 16484.01644, 27069.49674, 20579.69157, 27789.69235, 20380.06652, 20096.89337, 20096.89337, 22762.21479, 19511.99782, 40636.66734, 66025.75407, 24320.64401, 24249.33685, 20864.30762, 27386.15024, 18938.53677, 33718.8424, 36695.90627, 19731.34147, 25030.37545, 17822.56375, 22256.69368, 18569.50063, 44856.11397, 26570.34335, 25464.82059, 21850.34627, 22305.32351, 22118.81261, 16477.47799, 26338.58626, 36293.14678, 34039.05613, 22399.12944, 21776.5819, 23020.89147, 19253.03441, 30442.53824, 29049.71315, 20446.6023, 22620.74841, 22523.7063, 30591.61257, 34090.03598, 24127.50402, 32643.07651, 16510.96722, 17556.99121, 19079.09518, 83325.38119, 23895.6779, 28432.00202, 27279.33647, 23055.57229, 36860.72688, 34611.37896, 18726.15325, 22029.1505, 27934.62373, 22758.91192, 18591.54967, 17497.52201, 43290.49543, 41787.90343, 23984.62144, 21255.49606, 33053.26869, 24278.10167, 20774.02463, 19597.05706, 21892.93859, 21892.3539, 24186.24342, 26113.36, 41787.90343, 20101.65141, 25169.18817, 20314.44095, 20120.56053, 34611.37896, 26243.85811, 27064.46339, 33473.34946, 16468.22079, 18544.30271, 41745.00646, 18399.82784, 19668.86758, 24672.65531, 40440.76481, 32861.25616, 35862.99324, 25674.14895, 20294.39491, 33473.34946, 19690.44179, 22837.1392, 17790.40826, 20003.14091, 21561.71277, 22721.24078, 23536.74767, 26016.525, 38545.70689, 16468.22079, 21312.37811, 31269.27308, 73225.95652, 17019.0061, 22103.5072, 22658.53652, 32437.0535, 24660.48825, 31803.30779, 24868.24096, 22332.43946, 20631.15177, 17788.05705, 23435.72605, 23554.392, 25640.24004, 26197.41498, 17435.68167, 55277.44589, 27666.30052, 17646.72772, 41855.17315, 26197.41498, 17569.15979, 16710.83929, 26197.41498, 19837.30548, 20096.89337, 51426.24815, 22103.5072, 25900.19716, 51016.06704, 22325.82746, 58207.12842, 18898.32653, 42389.00791, 29830.38714, 26134.90739, 28328.46548, 21423.63723, 27789.69235, 29676.81386, 24238.66071, 18060.47947, 21528.56723, 20766.66918, 26511.60445, 35022.45478, 29006.67071, 42561.63183, 23144.1327, 21991.61598, 27789.69235, 29874.74493, 20237.15039, 39561.07502, 21766.83059, 20266.49877, 41787.90343, 34611.37896, 27890.0576, 16468.22079, 24138.05975, 19363.52743, 49423.79557, 38055.20953, 17738.2012, 32144.64957, 17085.41462, 17441.6378, 26999.68099, 20067.40315, 17429.87777, 35692.17157, 21283.6362, 30286.68586, 18370.57004, 21923.12272, 32098.32209, 22332.43946, 23594.6802, 23594.6802, 24610.78085, 32021.40422, 19160.98994, 21151.2328, 21423.63723, 17019.1929, 20930.05217, 18745.39592, 17367.52612, 41787.90343, 25464.82059, 18205.67367, 67907.2705, 29297.33082, 27929.96441, 16979.79757, 64618.75715, 41103.24183, 22658.53652, 22242.51659, 30081.36783, 32725.2974, 17776.82267, 33279.77231, 21578.86035, 25807.063, 23813.52051, 17367.27409, 17006.00256, 19357.79964, 20467.71796, 17526.17908, 25082.1789, 22185.88045, 57520.50151, 22658.53652, 22315.05787, 41787.90343, 16798.85832, 17208.05642, 32069.87526, 23594.6802, 18688.30707, 16589.71237, 23331.829, 26453.93512, 19259.84494, 36516.0456, 21123.1166, 32474.76977, 33473.34946, 50568.25912, 16414.04415, 20018.20459, 25030.89457, 17292.93538, 24442.29656, 26197.41498, 22332.43946, 22448.68617, 26763.82631, 17759.38575, 16775.80883, 44520.13577, 26538.57925, 20496.69426, 17497.52201, 17002.02246, 16979.79757, 18061.91837, 16705.10312, 31864.8589, 20096.89337, 24706.92011, 22658.53652, 21920.81339, 16468.22079, 27528.31132, 20600.23958, 17625.53763, 24108.30057, 21740.02913, 37939.48817, 31215.68581, 28119.28723, 18634.72656, 27990.35769, 17254.03699, 30966.31981, 18572.01022, 31410.92822, 22952.06778, 17817.46464, 25002.01883, 19955.25713, 23747.46699, 19160.98994, 16979.79757, 38887.9034, 24127.50402, 18196.63824, 29973.41592, 31234.89323, 18532.40504, 23903.68234, 29706.78459, 16473.16905, 26939.51419, 21710.27538, 24543.19862, 17684.65456, 32777.30467, 19228.46362, 16460.07754, 16473.16905, 31706.9251, 17622.1332, 26122.12998, 28622.31443, 22721.47396, 39033.08248, 40688.53442, 26220.03266, 27420.81318, 20925.89544, 17666.56543, 30313.30977, 40132.01135, 17086.75371, 18732.2012, 36632.53432, 36168.34106, 19237.69976, 46302.07562, 20936.33105, 34243.51034, 31516.5084, 35186.25611, 19339.20282, 16501.06524, 23990.14738, 19327.87406, 31316.61358, 61134.68307, 17497.52201, 30859.36361, 32317.03275, 25390.54546, 41787.90343, 20531.64534, 20370.76787, 42937.34691, 30647.63125, 31758.35391, 19849.73509, 20878.41013, 16468.22079, 17602.51146, 19337.90103, 18321.24471, 33288.16185, 26232.85024, 30745.96199, 17636.42483, 18939.50603, 27430.14468, 24826.89127, 18635.90451, 18882.63699, 16909.92767, 43019.01278, 25093.57037, 32104.69957, 18677.85248, 18484.80858, 30205.01297, 17223.06591, 30104.51969, 34611.37896, 25464.82059, 19872.262, 23405.98798]\n"
     ]
    }
   ],
   "source": [
    "\n",
    "# Calculate the 1st quartile\n",
    "q1 = np.quantile(continuous_df['customer_lifetime_value'], 0.25)\n",
    " \n",
    "# Calculate the 3rd quartile\n",
    "q3 = np.quantile(continuous_df['customer_lifetime_value'], 0.75)\n",
    "median = np.median(continuous_df['customer_lifetime_value'])\n",
    "    \n",
    "IQR = q3-q1\n",
    "upper_bound = q3+(1.5*IQR)\n",
    "lower_bound = q1-(1.5*IQR)\n",
    "outliers = list(continuous_df['customer_lifetime_value'][(continuous_df['customer_lifetime_value'] <= lower_bound) | (continuous_df['customer_lifetime_value'] >= upper_bound)])\n",
    "\n",
    "print('customer_lifetime_value: ')\n",
    "print('IQR: ', IQR)\n",
    "print('upper_bound: ', upper_bound)\n",
    "print('lower_bound: ', lower_bound)\n",
    "\n",
    "print(' ')\n",
    "\n",
    "print('The following are the outliers in the boxplot:{}'.format(outliers))\n",
    "    "
   ]
  },
  {
   "cell_type": "markdown",
   "id": "a1f6c667",
   "metadata": {},
   "source": [
    " - Income"
   ]
  },
  {
   "cell_type": "code",
   "execution_count": 143,
   "id": "ef9bcdfe",
   "metadata": {},
   "outputs": [
    {
     "name": "stdout",
     "output_type": "stream",
     "text": [
      "income: \n",
      "IQR:  62320.0\n",
      "upper_bound:  155800.0\n",
      "lower_bound:  -93480.0\n",
      " \n",
      "The following are the outliers in the boxplot:[]\n"
     ]
    }
   ],
   "source": [
    "\n",
    "# Calculate the 1st quartile\n",
    "q1 = np.quantile(continuous_df['income'], 0.25)\n",
    " \n",
    "# Calculate the 3rd quartile\n",
    "q3 = np.quantile(continuous_df['income'], 0.75)\n",
    "median = np.median(continuous_df['income'])\n",
    "    \n",
    "IQR = q3-q1\n",
    "upper_bound = q3+(1.5*IQR)\n",
    "lower_bound = q1-(1.5*IQR)\n",
    "outliers = list(continuous_df['income'][(continuous_df['income'] <= lower_bound) | (continuous_df['customer_lifetime_value'] >= upper_bound)])\n",
    "\n",
    "print('income: ')\n",
    "print('IQR: ', IQR)\n",
    "print('upper_bound: ', upper_bound)\n",
    "print('lower_bound: ', lower_bound)\n",
    "\n",
    "print(' ')\n",
    "\n",
    "print('The following are the outliers in the boxplot:{}'.format(outliers))\n",
    "    "
   ]
  },
  {
   "cell_type": "markdown",
   "id": "7ec625af",
   "metadata": {},
   "source": [
    "Income has no outliers!"
   ]
  },
  {
   "cell_type": "markdown",
   "id": "e9e4a5b6",
   "metadata": {},
   "source": [
    " - Monthly premium auto"
   ]
  },
  {
   "cell_type": "code",
   "execution_count": 144,
   "id": "630bc7f3",
   "metadata": {},
   "outputs": [
    {
     "name": "stdout",
     "output_type": "stream",
     "text": [
      "monthly_premium_auto: \n",
      "IQR:  41.0\n",
      "upper_bound:  170.5\n",
      "lower_bound:  6.5\n",
      " \n",
      "The following are the outliers in the boxplot:[237, 172, 186, 192, 217, 255, 190, 245, 225, 171, 244, 183, 176, 183, 230, 177, 196, 276, 253, 180, 203, 192, 198, 193, 271, 188, 271, 206, 196, 193, 182, 189, 295, 210, 182, 239, 188, 256, 188, 173, 196, 192, 285, 197, 199, 214, 171, 198, 271, 214, 175, 199, 194, 181, 180, 239, 222, 215, 283, 248, 223, 239, 273, 213, 185, 188, 287, 180, 196, 192, 297, 244, 201, 192, 189, 196, 235, 196, 183, 268, 171, 182, 211, 192, 187, 235, 276, 185, 198, 242, 193, 186, 210, 210, 175, 199, 180, 197, 223, 215, 276, 276, 180, 186, 172, 215, 212, 199, 249, 181, 187, 240, 196, 189, 181, 181, 225, 199, 192, 201, 245, 193, 295, 191, 187, 199, 186, 181, 239, 199, 195, 180, 216, 173, 182, 199, 196, 194, 185, 249, 185, 191, 199, 181, 193, 211, 214, 187, 179, 232, 244, 193, 181, 181, 182, 214, 183, 185, 185, 187, 198, 211, 190, 186, 181, 212, 181, 207, 197, 283, 240, 196, 196, 240, 173, 190, 180, 184, 238, 182, 197, 192, 190, 229, 185, 220, 223, 199, 178, 198, 184, 183, 193, 190, 193, 180, 215, 199, 276, 215, 210, 204, 207, 213, 177, 281, 184, 190, 225, 192, 240, 194, 192, 198, 229, 185, 189, 180, 237, 194, 180, 187, 234, 171, 207, 194, 188, 214, 190, 201, 218, 190, 239, 181, 191, 275, 187, 283, 220, 209, 191, 177, 193, 186, 182, 261, 191, 186, 187, 205, 188, 183, 238, 179, 188, 199, 228, 181, 196, 190, 177, 189, 195, 242, 182, 181, 253, 195, 197, 193, 197, 199, 284, 199, 256, 231, 198, 223, 189, 185, 208, 196, 296, 283, 210, 283, 244, 194, 180, 235, 186, 184, 187, 188, 185, 199, 285, 256, 189, 199, 191, 191, 175, 202, 198, 189, 194, 194, 215, 202, 198, 191, 274, 190, 185, 180, 219, 185, 247, 276, 194, 181, 181, 229, 193, 171, 290, 297, 183, 195, 181, 194, 191, 182, 219, 195, 172, 194, 217, 173, 234, 196, 190, 239, 226, 211, 194, 192, 181, 217, 198, 190, 223, 195, 181, 214, 185, 184, 220, 283, 298, 187, 186, 181, 182, 198, 186, 239, 185, 271, 249, 194, 197, 189, 184, 182, 183, 187, 271, 208, 186, 183, 192, 199, 283, 188, 210, 195, 253, 266, 183, 271, 194, 239, 254, 179, 212, 187, 222, 252, 239, 226, 198, 193, 194, 180, 218, 189, 206, 197, 239, 196, 181, 222, 181, 174, 186, 198, 174, 247, 286, 199, 189, 247, 176, 213, 266, 177, 195, 185]\n"
     ]
    }
   ],
   "source": [
    "\n",
    "# Calculate the 1st quartile\n",
    "q1 = np.quantile(continuous_df['monthly_premium_auto'], 0.25)\n",
    " \n",
    "# Calculate the 3rd quartile\n",
    "q3 = np.quantile(continuous_df['monthly_premium_auto'], 0.75)\n",
    "median = np.median(continuous_df['monthly_premium_auto'])\n",
    "    \n",
    "IQR = q3-q1\n",
    "upper_bound = q3+(1.5*IQR)\n",
    "lower_bound = q1-(1.5*IQR)\n",
    "outliers = list(continuous_df['monthly_premium_auto'][(continuous_df['monthly_premium_auto'] <= lower_bound) | (continuous_df['monthly_premium_auto'] >= upper_bound)])\n",
    "\n",
    "print('monthly_premium_auto: ')\n",
    "print('IQR: ', IQR)\n",
    "print('upper_bound: ', upper_bound)\n",
    "print('lower_bound: ', lower_bound)\n",
    "\n",
    "print(' ')\n",
    "\n",
    "print('The following are the outliers in the boxplot:{}'.format(outliers))\n",
    "    "
   ]
  },
  {
   "cell_type": "markdown",
   "id": "e9c09d35",
   "metadata": {},
   "source": [
    "- decision not to remove outliers as there is no justifiable reason to remove these points. Looking at the boxplots above, outliers are closely clustered and form a straight line so I assume they are legitimate observations and naturally part of the population."
   ]
  },
  {
   "cell_type": "markdown",
   "id": "8d83b272",
   "metadata": {},
   "source": [
    "##### Check all columns for NaN values. Decide what (if anything) you will need to do with them."
   ]
  },
  {
   "cell_type": "code",
   "execution_count": 145,
   "id": "1ec74a39",
   "metadata": {},
   "outputs": [
    {
     "data": {
      "text/plain": [
       "customer                         0\n",
       "state                            0\n",
       "customer_lifetime_value          0\n",
       "response                         0\n",
       "coverage                         0\n",
       "education                        0\n",
       "effective_to_date                0\n",
       "employment_status                0\n",
       "gender                           0\n",
       "income                           0\n",
       "location_code                    0\n",
       "marital_status                   0\n",
       "monthly_premium_auto             0\n",
       "months_since_last_claim          0\n",
       "months_since_policy_inception    0\n",
       "number_of_open_complaints        0\n",
       "number_of_policies               0\n",
       "policy_type                      0\n",
       "policy                           0\n",
       "renew_offer_type                 0\n",
       "sales_channel                    0\n",
       "total_claim_amount               0\n",
       "vehicle_class                    0\n",
       "vehicle_size                     0\n",
       "dtype: int64"
      ]
     },
     "execution_count": 145,
     "metadata": {},
     "output_type": "execute_result"
    }
   ],
   "source": [
    "customer_df.isna().sum()"
   ]
  },
  {
   "cell_type": "markdown",
   "id": "c349ab02",
   "metadata": {},
   "source": [
    "- There are no null values in the dataset. No further action required"
   ]
  },
  {
   "cell_type": "markdown",
   "id": "7d4c0b38",
   "metadata": {},
   "source": [
    "# Lab | Feature extraction"
   ]
  },
  {
   "cell_type": "markdown",
   "id": "d8678ce2",
   "metadata": {},
   "source": [
    "##### Open the categoricals variable we created before.\n",
    "            categoricals = data.select_dtypes(np.object)\n",
    "            categoricals.head()\n"
   ]
  },
  {
   "cell_type": "code",
   "execution_count": 146,
   "id": "0a054ad1",
   "metadata": {},
   "outputs": [
    {
     "data": {
      "text/html": [
       "<div>\n",
       "<style scoped>\n",
       "    .dataframe tbody tr th:only-of-type {\n",
       "        vertical-align: middle;\n",
       "    }\n",
       "\n",
       "    .dataframe tbody tr th {\n",
       "        vertical-align: top;\n",
       "    }\n",
       "\n",
       "    .dataframe thead th {\n",
       "        text-align: right;\n",
       "    }\n",
       "</style>\n",
       "<table border=\"1\" class=\"dataframe\">\n",
       "  <thead>\n",
       "    <tr style=\"text-align: right;\">\n",
       "      <th></th>\n",
       "      <th>customer</th>\n",
       "      <th>state</th>\n",
       "      <th>response</th>\n",
       "      <th>coverage</th>\n",
       "      <th>education</th>\n",
       "      <th>employment_status</th>\n",
       "      <th>gender</th>\n",
       "      <th>location_code</th>\n",
       "      <th>marital_status</th>\n",
       "      <th>policy_type</th>\n",
       "      <th>policy</th>\n",
       "      <th>renew_offer_type</th>\n",
       "      <th>sales_channel</th>\n",
       "      <th>vehicle_class</th>\n",
       "      <th>vehicle_size</th>\n",
       "    </tr>\n",
       "  </thead>\n",
       "  <tbody>\n",
       "    <tr>\n",
       "      <th>0</th>\n",
       "      <td>BU79786</td>\n",
       "      <td>Washington</td>\n",
       "      <td>No</td>\n",
       "      <td>Basic</td>\n",
       "      <td>Bachelor</td>\n",
       "      <td>Employed</td>\n",
       "      <td>F</td>\n",
       "      <td>Suburban</td>\n",
       "      <td>Married</td>\n",
       "      <td>Corporate Auto</td>\n",
       "      <td>Corporate L3</td>\n",
       "      <td>Offer1</td>\n",
       "      <td>Agent</td>\n",
       "      <td>Two-Door Car</td>\n",
       "      <td>Medsize</td>\n",
       "    </tr>\n",
       "    <tr>\n",
       "      <th>1</th>\n",
       "      <td>QZ44356</td>\n",
       "      <td>Arizona</td>\n",
       "      <td>No</td>\n",
       "      <td>Extended</td>\n",
       "      <td>Bachelor</td>\n",
       "      <td>Unemployed</td>\n",
       "      <td>F</td>\n",
       "      <td>Suburban</td>\n",
       "      <td>Single</td>\n",
       "      <td>Personal Auto</td>\n",
       "      <td>Personal L3</td>\n",
       "      <td>Offer3</td>\n",
       "      <td>Agent</td>\n",
       "      <td>Four-Door Car</td>\n",
       "      <td>Medsize</td>\n",
       "    </tr>\n",
       "    <tr>\n",
       "      <th>2</th>\n",
       "      <td>AI49188</td>\n",
       "      <td>Nevada</td>\n",
       "      <td>No</td>\n",
       "      <td>Premium</td>\n",
       "      <td>Bachelor</td>\n",
       "      <td>Employed</td>\n",
       "      <td>F</td>\n",
       "      <td>Suburban</td>\n",
       "      <td>Married</td>\n",
       "      <td>Personal Auto</td>\n",
       "      <td>Personal L3</td>\n",
       "      <td>Offer1</td>\n",
       "      <td>Agent</td>\n",
       "      <td>Two-Door Car</td>\n",
       "      <td>Medsize</td>\n",
       "    </tr>\n",
       "    <tr>\n",
       "      <th>3</th>\n",
       "      <td>WW63253</td>\n",
       "      <td>California</td>\n",
       "      <td>No</td>\n",
       "      <td>Basic</td>\n",
       "      <td>Bachelor</td>\n",
       "      <td>Unemployed</td>\n",
       "      <td>M</td>\n",
       "      <td>Suburban</td>\n",
       "      <td>Married</td>\n",
       "      <td>Corporate Auto</td>\n",
       "      <td>Corporate L2</td>\n",
       "      <td>Offer1</td>\n",
       "      <td>Call Center</td>\n",
       "      <td>SUV</td>\n",
       "      <td>Medsize</td>\n",
       "    </tr>\n",
       "    <tr>\n",
       "      <th>4</th>\n",
       "      <td>HB64268</td>\n",
       "      <td>Washington</td>\n",
       "      <td>No</td>\n",
       "      <td>Basic</td>\n",
       "      <td>Bachelor</td>\n",
       "      <td>Employed</td>\n",
       "      <td>M</td>\n",
       "      <td>Rural</td>\n",
       "      <td>Single</td>\n",
       "      <td>Personal Auto</td>\n",
       "      <td>Personal L1</td>\n",
       "      <td>Offer1</td>\n",
       "      <td>Agent</td>\n",
       "      <td>Four-Door Car</td>\n",
       "      <td>Medsize</td>\n",
       "    </tr>\n",
       "  </tbody>\n",
       "</table>\n",
       "</div>"
      ],
      "text/plain": [
       "  customer       state response  coverage education employment_status gender  \\\n",
       "0  BU79786  Washington       No     Basic  Bachelor          Employed      F   \n",
       "1  QZ44356     Arizona       No  Extended  Bachelor        Unemployed      F   \n",
       "2  AI49188      Nevada       No   Premium  Bachelor          Employed      F   \n",
       "3  WW63253  California       No     Basic  Bachelor        Unemployed      M   \n",
       "4  HB64268  Washington       No     Basic  Bachelor          Employed      M   \n",
       "\n",
       "  location_code marital_status     policy_type        policy renew_offer_type  \\\n",
       "0      Suburban        Married  Corporate Auto  Corporate L3           Offer1   \n",
       "1      Suburban         Single   Personal Auto   Personal L3           Offer3   \n",
       "2      Suburban        Married   Personal Auto   Personal L3           Offer1   \n",
       "3      Suburban        Married  Corporate Auto  Corporate L2           Offer1   \n",
       "4         Rural         Single   Personal Auto   Personal L1           Offer1   \n",
       "\n",
       "  sales_channel  vehicle_class vehicle_size  \n",
       "0         Agent   Two-Door Car      Medsize  \n",
       "1         Agent  Four-Door Car      Medsize  \n",
       "2         Agent   Two-Door Car      Medsize  \n",
       "3   Call Center            SUV      Medsize  \n",
       "4         Agent  Four-Door Car      Medsize  "
      ]
     },
     "execution_count": 146,
     "metadata": {},
     "output_type": "execute_result"
    }
   ],
   "source": [
    "categoricals = customer_df.select_dtypes(object)\n",
    "categoricals.head()"
   ]
  },
  {
   "cell_type": "markdown",
   "id": "be8b88ce",
   "metadata": {},
   "source": [
    "##### Plot all the categorical variables with the proper plot. What can you see?\n"
   ]
  },
  {
   "cell_type": "code",
   "execution_count": 147,
   "id": "e160d231",
   "metadata": {},
   "outputs": [],
   "source": [
    "def plot_categorical(dataframe):\n",
    "    fig = plt.figure(figsize=(30, 40))\n",
    "    for col in dataframe:\n",
    "        sns.catplot(data=dataframe, x=col, kind=\"count\")\n"
   ]
  },
  {
   "cell_type": "code",
   "execution_count": 148,
   "id": "d7156616",
   "metadata": {},
   "outputs": [
    {
     "data": {
      "text/plain": [
       "<Figure size 2160x2880 with 0 Axes>"
      ]
     },
     "metadata": {},
     "output_type": "display_data"
    },
    {
     "data": {
      "image/png": "[encoded data removed]",
      "text/plain": [
       "<Figure size 360x360 with 1 Axes>"
      ]
     },
     "metadata": {
      "needs_background": "light"
     },
     "output_type": "display_data"
    },
    {
     "data": {
      "image/png": "[encoded data removed]",
      "text/plain": [
       "<Figure size 360x360 with 1 Axes>"
      ]
     },
     "metadata": {
      "needs_background": "light"
     },
     "output_type": "display_data"
    },
    {
     "data": {
      "image/png": "[encoded data removed]",
      "text/plain": [
       "<Figure size 360x360 with 1 Axes>"
      ]
     },
     "metadata": {
      "needs_background": "light"
     },
     "output_type": "display_data"
    },
    {
     "data": {
      "image/png": "[encoded data removed]",
      "text/plain": [
       "<Figure size 360x360 with 1 Axes>"
      ]
     },
     "metadata": {
      "needs_background": "light"
     },
     "output_type": "display_data"
    },
    {
     "data": {
      "image/png": "[encoded data removed]",
      "text/plain": [
       "<Figure size 360x360 with 1 Axes>"
      ]
     },
     "metadata": {
      "needs_background": "light"
     },
     "output_type": "display_data"
    },
    {
     "data": {
      "image/png": "[encoded data removed]",
      "text/plain": [
       "<Figure size 360x360 with 1 Axes>"
      ]
     },
     "metadata": {
      "needs_background": "light"
     },
     "output_type": "display_data"
    },
    {
     "data": {
      "image/png": "[encoded data removed]",
      "text/plain": [
       "<Figure size 360x360 with 1 Axes>"
      ]
     },
     "metadata": {
      "needs_background": "light"
     },
     "output_type": "display_data"
    },
    {
     "data": {
      "image/png": "[encoded data removed]",
      "text/plain": [
       "<Figure size 360x360 with 1 Axes>"
      ]
     },
     "metadata": {
      "needs_background": "light"
     },
     "output_type": "display_data"
    },
    {
     "data": {
      "image/png": "[encoded data removed]",
      "text/plain": [
       "<Figure size 360x360 with 1 Axes>"
      ]
     },
     "metadata": {
      "needs_background": "light"
     },
     "output_type": "display_data"
    },
    {
     "data": {
      "image/png": "[encoded data removed]",
      "text/plain": [
       "<Figure size 360x360 with 1 Axes>"
      ]
     },
     "metadata": {
      "needs_background": "light"
     },
     "output_type": "display_data"
    },
    {
     "data": {
      "image/png": "[encoded data removed]",
      "text/plain": [
       "<Figure size 360x360 with 1 Axes>"
      ]
     },
     "metadata": {
      "needs_background": "light"
     },
     "output_type": "display_data"
    },
    {
     "data": {
      "image/png": "[encoded data removed]",
      "text/plain": [
       "<Figure size 360x360 with 1 Axes>"
      ]
     },
     "metadata": {
      "needs_background": "light"
     },
     "output_type": "display_data"
    },
    {
     "data": {
      "image/png": "[encoded data removed]",
      "text/plain": [
       "<Figure size 360x360 with 1 Axes>"
      ]
     },
     "metadata": {
      "needs_background": "light"
     },
     "output_type": "display_data"
    },
    {
     "data": {
      "image/png": "[encoded data removed]",
      "text/plain": [
       "<Figure size 360x360 with 1 Axes>"
      ]
     },
     "metadata": {
      "needs_background": "light"
     },
     "output_type": "display_data"
    }
   ],
   "source": [
    "categoricals_plot = categoricals.drop(['customer'], axis = 1) \n",
    "# removed customer this variable has too many unique values\n",
    "\n",
    "plot_categorical(categoricals_plot)"
   ]
  },
  {
   "cell_type": "markdown",
   "id": "989d550e",
   "metadata": {},
   "source": [
    "##### There might be some columns that seem to be redundant, check their values to be sure. What should we do with them?\n"
   ]
  },
  {
   "cell_type": "code",
   "execution_count": 149,
   "id": "6cce5676",
   "metadata": {},
   "outputs": [
    {
     "data": {
      "text/plain": [
       "Index(['customer', 'state', 'response', 'coverage', 'education',\n",
       "       'employment_status', 'gender', 'location_code', 'marital_status',\n",
       "       'policy_type', 'policy', 'renew_offer_type', 'sales_channel',\n",
       "       'vehicle_class', 'vehicle_size'],\n",
       "      dtype='object')"
      ]
     },
     "execution_count": 149,
     "metadata": {},
     "output_type": "execute_result"
    }
   ],
   "source": [
    "categoricals.columns"
   ]
  },
  {
   "cell_type": "markdown",
   "id": "961bafea",
   "metadata": {},
   "source": [
    "Column name | Action\n",
    "------------- | -------------\n",
    "customer  | drop. too many unique values\n",
    "state  | leave. top 3 states - California, Oregon and Arizona - include almost 82% of total number os customers\n",
    "response  | leave\n",
    "coverage  | leave\n",
    "education  | leave\n",
    "employment_status  | Unemployed, Medical Leave, Disabled and Retired are all non-active statuses. change column to active vs non-active\n",
    "gender  | leave\n",
    "location_code  | leave\n",
    "marital_status  | leave\n",
    "policy_type  | drop. Policy and policy type are redundant.\n",
    "policy  | leave\n",
    "renew_offer_type  | leave\n",
    "sales_channel  | leave\n",
    "vehicle_class  | leave\n",
    "vehicle_size  | leave\n"
   ]
  },
  {
   "cell_type": "code",
   "execution_count": 150,
   "id": "4a020077",
   "metadata": {},
   "outputs": [
    {
     "data": {
      "text/plain": [
       "Index(['state', 'response', 'coverage', 'education', 'employment_status',\n",
       "       'gender', 'location_code', 'marital_status', 'policy',\n",
       "       'renew_offer_type', 'sales_channel', 'vehicle_class', 'vehicle_size'],\n",
       "      dtype='object')"
      ]
     },
     "execution_count": 150,
     "metadata": {},
     "output_type": "execute_result"
    }
   ],
   "source": [
    "categoricals_clean = categoricals.drop(['customer','policy_type'], axis = 1)\n",
    "categoricals_clean.columns"
   ]
  },
  {
   "cell_type": "code",
   "execution_count": 151,
   "id": "44e33e86",
   "metadata": {},
   "outputs": [],
   "source": [
    "employment_status_active = []\n",
    "\n",
    "for i in categoricals_clean['employment_status']:\n",
    "    if i == 'Employed':\n",
    "        employment_status_active.append(1)\n",
    "    else:\n",
    "        employment_status_active.append(0)\n",
    "\n",
    "categoricals_clean['employment_status_active'] = employment_status_active\n",
    "categoricals_clean['employment_status_active'] = pd.to_numeric(categoricals_clean['employment_status_active'], errors='coerce')\n"
   ]
  },
  {
   "cell_type": "code",
   "execution_count": 152,
   "id": "6e3067da",
   "metadata": {},
   "outputs": [
    {
     "data": {
      "text/plain": [
       "Index(['state', 'response', 'coverage', 'education', 'gender', 'location_code',\n",
       "       'marital_status', 'policy', 'renew_offer_type', 'sales_channel',\n",
       "       'vehicle_class', 'vehicle_size', 'employment_status_active'],\n",
       "      dtype='object')"
      ]
     },
     "execution_count": 152,
     "metadata": {},
     "output_type": "execute_result"
    }
   ],
   "source": [
    "categoricals_clean = categoricals_clean.drop(['employment_status'], axis = 1)\n",
    "categoricals_clean.columns"
   ]
  },
  {
   "cell_type": "markdown",
   "id": "9a7db2d5",
   "metadata": {},
   "source": [
    "##### Plot time variable. Can you extract something from it?"
   ]
  },
  {
   "cell_type": "code",
   "execution_count": 153,
   "id": "8e198060",
   "metadata": {},
   "outputs": [
    {
     "data": {
      "text/plain": [
       "<function matplotlib.pyplot.show(close=None, block=None)>"
      ]
     },
     "execution_count": 153,
     "metadata": {},
     "output_type": "execute_result"
    },
    {
     "data": {
      "image/png": "[encoded data removed]",
      "text/plain": [
       "<Figure size 2880x720 with 1 Axes>"
      ]
     },
     "metadata": {
      "needs_background": "light"
     },
     "output_type": "display_data"
    }
   ],
   "source": [
    "fig = plt.figure(figsize=(40, 10))\n",
    "sns.countplot(x=customer_df['effective_to_date'])\n",
    "plt.show"
   ]
  },
  {
   "cell_type": "code",
   "execution_count": 154,
   "id": "f9465b4b",
   "metadata": {},
   "outputs": [
    {
     "data": {
      "image/png": "[encoded data removed]",
      "text/plain": [
       "<Figure size 2880x720 with 1 Axes>"
      ]
     },
     "metadata": {
      "needs_background": "light"
     },
     "output_type": "display_data"
    }
   ],
   "source": [
    "datetime_df = customer_df[['effective_to_date','customer']]\n",
    "datetime_df = datetime_df.groupby(['effective_to_date']).agg({'customer':pd.Series.nunique}).rename(columns={'customer':'number'})\n",
    "datetime_df.head()\n",
    "\n",
    "fig = plt.figure(figsize=(40, 10))\n",
    "sns.lineplot(x = 'effective_to_date', y = 'number', data = datetime_df)\n",
    "plt.show()"
   ]
  },
  {
   "cell_type": "markdown",
   "id": "c59c8ddb",
   "metadata": {},
   "source": [
    "# Lab | Comparing regression models"
   ]
  },
  {
   "cell_type": "markdown",
   "id": "fbbd1e06",
   "metadata": {},
   "source": [
    "##### In this final lab, we will model our data. Import sklearn train_test_split and separate the data."
   ]
  },
  {
   "cell_type": "code",
   "execution_count": 155,
   "id": "409396c7",
   "metadata": {},
   "outputs": [],
   "source": [
    "# concatenate numeric and categorical data\n",
    "\n",
    "# Decided to move this step up as it will be needed for the X/Y split and later for the scaling \n",
    "\n",
    "import datetime \n",
    "\n",
    "customer_df_clean = pd.concat([numeric,categoricals_clean], axis=1)\n",
    "customer_df_clean['effective_to_date'] = customer_df['effective_to_date']\n",
    "\n",
    "day_of_year = []\n",
    "\n",
    "for i in customer_df_clean['effective_to_date']:\n",
    "    day_of_year.append(i.timetuple().tm_yday)\n",
    "customer_df_clean['day_of_year'] = day_of_year\n",
    "\n",
    "customer_df_clean = customer_df_clean.drop(['effective_to_date'],axis=1)\n"
   ]
  },
  {
   "cell_type": "code",
   "execution_count": 156,
   "id": "48939b0e",
   "metadata": {},
   "outputs": [
    {
     "name": "stdout",
     "output_type": "stream",
     "text": [
      "X_train shape is: (7307, 21)\n",
      "y_train shape is: (7307,)\n",
      "X_test shape is: (1827, 21)\n",
      "y_test shape is: (1827,)\n"
     ]
    }
   ],
   "source": [
    "X = customer_df_clean.drop(['total_claim_amount'], axis = 1)\n",
    "y = customer_df_clean['total_claim_amount']\n",
    "\n",
    "X_train, X_test, y_train, y_test = train_test_split(X, y, test_size=0.2, random_state=42)\n",
    "print('X_train shape is:',X_train.shape)\n",
    "print('y_train shape is:', y_train.shape)\n",
    "print('X_test shape is:', X_test.shape)\n",
    "print('y_test shape is:', y_test.shape)"
   ]
  },
  {
   "cell_type": "markdown",
   "id": "ff1492cc",
   "metadata": {},
   "source": [
    "##### We will start with removing outliers, if you have not already done so. We have discussed different methods to remove outliers. Use the one you feel more comfortable with, define a function for that. Use the function to remove the outliers and apply it to the dataframe."
   ]
  },
  {
   "cell_type": "markdown",
   "id": "41ad9aa8",
   "metadata": {},
   "source": [
    "Decision not to remove outliers. please see comment below "
   ]
  },
  {
   "cell_type": "markdown",
   "id": "1da8cc1d",
   "metadata": {},
   "source": [
    "##### Create a copy of the dataframe for the data wrangling."
   ]
  },
  {
   "cell_type": "code",
   "execution_count": 157,
   "id": "1051b248",
   "metadata": {},
   "outputs": [],
   "source": [
    "numericals_train = X_train.select_dtypes(np.number)\n",
    "numericals_test = X_test.select_dtypes(np.number)\n",
    "\n",
    "categoricals_train= X_train.select_dtypes(object)\n",
    "categoricals_test= X_test.select_dtypes(object)\n",
    "\n"
   ]
  },
  {
   "cell_type": "markdown",
   "id": "77e4d962",
   "metadata": {},
   "source": [
    "##### Normalize the continuous variables. You can use any one method you want."
   ]
  },
  {
   "cell_type": "code",
   "execution_count": 158,
   "id": "3e5bb6f1",
   "metadata": {},
   "outputs": [],
   "source": [
    "transformer = StandardScaler().fit(numericals_train)\n",
    "numericals_train_standardized = transformer.transform(numericals_train)\n",
    "numericals_test_standardized = transformer.transform(numericals_test)\n"
   ]
  },
  {
   "cell_type": "markdown",
   "id": "acdb50c4",
   "metadata": {},
   "source": [
    "##### Encode the categorical variables (See the hint below for encoding categorical data!!!)"
   ]
  },
  {
   "cell_type": "markdown",
   "id": "418adc41",
   "metadata": {},
   "source": [
    "Since the model will only accept numerical data, check and make sure that every column is numerical, if some are not, change it using encoding.\n",
    "\n",
    "         Hint for Categorical Variables\n",
    "\n",
    "         You should deal with the categorical variables as shown below (for ordinal encoding, dummy code has been provided as well):\n",
    "\n",
    "Encoder Type | Column\n",
    "------------- | -------------\n",
    "One hot\t| state\n",
    "Ordinal\t| coverage\n",
    "Ordinal\t| employmentstatus\n",
    "Ordinal\t| location code\n",
    "One hot\t| marital status\n",
    "One hot\t| policy type\n",
    "One hot\t| policy\n",
    "One hot\t| renew offercustomer_df\n",
    "One hot\t| sales channel\n",
    "One hot\t| vehicle class\n",
    "Ordinal\t| vehicle size\n",
    "        \n",
    "        Dummy code\n",
    "\n",
    "        data[\"coverage\"] = data[\"coverage\"].map({\"Basic\" : 0, \"Extended\" : 1, \"Premium\" : 2})\n",
    "\n",
    "        given that column \"coverage\" in the dataframe \"data\" has three categories:\n",
    "\n",
    "        \"basic\", \"extended\", and \"premium\" and values are to be represented in the same order.\n"
   ]
  },
  {
   "cell_type": "code",
   "execution_count": 159,
   "id": "5b464453",
   "metadata": {},
   "outputs": [],
   "source": [
    "# Ordinal encoder"
   ]
  },
  {
   "cell_type": "code",
   "execution_count": 160,
   "id": "0195cce5",
   "metadata": {},
   "outputs": [
    {
     "data": {
      "text/plain": [
       "Basic       4464\n",
       "Extended    2175\n",
       "Premium      668\n",
       "Name: coverage, dtype: int64"
      ]
     },
     "execution_count": 160,
     "metadata": {},
     "output_type": "execute_result"
    }
   ],
   "source": [
    "categoricals_train['coverage'].value_counts()"
   ]
  },
  {
   "cell_type": "code",
   "execution_count": 161,
   "id": "b5c3fad6",
   "metadata": {},
   "outputs": [],
   "source": [
    "coverage_list = ['Basic', 'Extended', 'Premium']"
   ]
  },
  {
   "cell_type": "code",
   "execution_count": 162,
   "id": "3d8a61c9",
   "metadata": {},
   "outputs": [
    {
     "data": {
      "text/plain": [
       "Suburban    4637\n",
       "Rural       1388\n",
       "Urban       1282\n",
       "Name: location_code, dtype: int64"
      ]
     },
     "execution_count": 162,
     "metadata": {},
     "output_type": "execute_result"
    }
   ],
   "source": [
    "categoricals_train['location_code'].value_counts()"
   ]
  },
  {
   "cell_type": "code",
   "execution_count": 163,
   "id": "10ca1f29",
   "metadata": {},
   "outputs": [],
   "source": [
    "location_code_list = ['Rural', 'Suburban', 'Urban']"
   ]
  },
  {
   "cell_type": "code",
   "execution_count": 164,
   "id": "3296ac0f",
   "metadata": {},
   "outputs": [
    {
     "data": {
      "text/plain": [
       "Medsize    5164\n",
       "Small      1389\n",
       "Large       754\n",
       "Name: vehicle_size, dtype: int64"
      ]
     },
     "execution_count": 164,
     "metadata": {},
     "output_type": "execute_result"
    }
   ],
   "source": [
    "categoricals_train['vehicle_size'].value_counts()"
   ]
  },
  {
   "cell_type": "code",
   "execution_count": 165,
   "id": "54eba321",
   "metadata": {},
   "outputs": [],
   "source": [
    "vehicle_size_list = ['Small', 'Medsize', 'Large']"
   ]
  },
  {
   "cell_type": "code",
   "execution_count": 166,
   "id": "331814f2",
   "metadata": {},
   "outputs": [],
   "source": [
    "categoricals_train_ordinal = categoricals_train[['coverage','location_code','vehicle_size']]\n",
    "categoricals_test_ordinal = categoricals_test[['coverage','location_code','vehicle_size']]"
   ]
  },
  {
   "cell_type": "code",
   "execution_count": 167,
   "id": "9a24cbcc",
   "metadata": {},
   "outputs": [
    {
     "data": {
      "text/html": [
       "<style>#sk-container-id-2 {color: black;background-color: white;}#sk-container-id-2 pre{padding: 0;}#sk-container-id-2 div.sk-toggleable {background-color: white;}#sk-container-id-2 label.sk-toggleable__label {cursor: pointer;display: block;width: 100%;margin-bottom: 0;padding: 0.3em;box-sizing: border-box;text-align: center;}#sk-container-id-2 label.sk-toggleable__label-arrow:before {content: \"▸\";float: left;margin-right: 0.25em;color: #696969;}#sk-container-id-2 label.sk-toggleable__label-arrow:hover:before {color: black;}#sk-container-id-2 div.sk-estimator:hover label.sk-toggleable__label-arrow:before {color: black;}#sk-container-id-2 div.sk-toggleable__content {max-height: 0;max-width: 0;overflow: hidden;text-align: left;background-color: #f0f8ff;}#sk-container-id-2 div.sk-toggleable__content pre {margin: 0.2em;color: black;border-radius: 0.25em;background-color: #f0f8ff;}#sk-container-id-2 input.sk-toggleable__control:checked~div.sk-toggleable__content {max-height: 200px;max-width: 100%;overflow: auto;}#sk-container-id-2 input.sk-toggleable__control:checked~label.sk-toggleable__label-arrow:before {content: \"▾\";}#sk-container-id-2 div.sk-estimator input.sk-toggleable__control:checked~label.sk-toggleable__label {background-color: #d4ebff;}#sk-container-id-2 div.sk-label input.sk-toggleable__control:checked~label.sk-toggleable__label {background-color: #d4ebff;}#sk-container-id-2 input.sk-hidden--visually {border: 0;clip: rect(1px 1px 1px 1px);clip: rect(1px, 1px, 1px, 1px);height: 1px;margin: -1px;overflow: hidden;padding: 0;position: absolute;width: 1px;}#sk-container-id-2 div.sk-estimator {font-family: monospace;background-color: #f0f8ff;border: 1px dotted black;border-radius: 0.25em;box-sizing: border-box;margin-bottom: 0.5em;}#sk-container-id-2 div.sk-estimator:hover {background-color: #d4ebff;}#sk-container-id-2 div.sk-parallel-item::after {content: \"\";width: 100%;border-bottom: 1px solid gray;flex-grow: 1;}#sk-container-id-2 div.sk-label:hover label.sk-toggleable__label {background-color: #d4ebff;}#sk-container-id-2 div.sk-serial::before {content: \"\";position: absolute;border-left: 1px solid gray;box-sizing: border-box;top: 0;bottom: 0;left: 50%;z-index: 0;}#sk-container-id-2 div.sk-serial {display: flex;flex-direction: column;align-items: center;background-color: white;padding-right: 0.2em;padding-left: 0.2em;position: relative;}#sk-container-id-2 div.sk-item {position: relative;z-index: 1;}#sk-container-id-2 div.sk-parallel {display: flex;align-items: stretch;justify-content: center;background-color: white;position: relative;}#sk-container-id-2 div.sk-item::before, #sk-container-id-2 div.sk-parallel-item::before {content: \"\";position: absolute;border-left: 1px solid gray;box-sizing: border-box;top: 0;bottom: 0;left: 50%;z-index: -1;}#sk-container-id-2 div.sk-parallel-item {display: flex;flex-direction: column;z-index: 1;position: relative;background-color: white;}#sk-container-id-2 div.sk-parallel-item:first-child::after {align-self: flex-end;width: 50%;}#sk-container-id-2 div.sk-parallel-item:last-child::after {align-self: flex-start;width: 50%;}#sk-container-id-2 div.sk-parallel-item:only-child::after {width: 0;}#sk-container-id-2 div.sk-dashed-wrapped {border: 1px dashed gray;margin: 0 0.4em 0.5em 0.4em;box-sizing: border-box;padding-bottom: 0.4em;background-color: white;}#sk-container-id-2 div.sk-label label {font-family: monospace;font-weight: bold;display: inline-block;line-height: 1.2em;}#sk-container-id-2 div.sk-label-container {text-align: center;}#sk-container-id-2 div.sk-container {/* jupyter's `normalize.less` sets `[hidden] { display: none; }` but bootstrap.min.css set `[hidden] { display: none !important; }` so we also need the `!important` here to be able to override the default hidden behavior on the sphinx rendered scikit-learn.org. See: https://github.com/scikit-learn/scikit-learn/issues/21755 */display: inline-block !important;position: relative;}#sk-container-id-2 div.sk-text-repr-fallback {display: none;}</style><div id=\"sk-container-id-2\" class=\"sk-top-container\"><div class=\"sk-text-repr-fallback\"><pre>OrdinalEncoder(categories=[[&#x27;Basic&#x27;, &#x27;Extended&#x27;, &#x27;Premium&#x27;],\n",
       "                           [&#x27;Rural&#x27;, &#x27;Suburban&#x27;, &#x27;Urban&#x27;],\n",
       "                           [&#x27;Small&#x27;, &#x27;Medsize&#x27;, &#x27;Large&#x27;]])</pre><b>In a Jupyter environment, please rerun this cell to show the HTML representation or trust the notebook. <br />On GitHub, the HTML representation is unable to render, please try loading this page with nbviewer.org.</b></div><div class=\"sk-container\" hidden><div class=\"sk-item\"><div class=\"sk-estimator sk-toggleable\"><input class=\"sk-toggleable__control sk-hidden--visually\" id=\"sk-estimator-id-2\" type=\"checkbox\" checked><label for=\"sk-estimator-id-2\" class=\"sk-toggleable__label sk-toggleable__label-arrow\">OrdinalEncoder</label><div class=\"sk-toggleable__content\"><pre>OrdinalEncoder(categories=[[&#x27;Basic&#x27;, &#x27;Extended&#x27;, &#x27;Premium&#x27;],\n",
       "                           [&#x27;Rural&#x27;, &#x27;Suburban&#x27;, &#x27;Urban&#x27;],\n",
       "                           [&#x27;Small&#x27;, &#x27;Medsize&#x27;, &#x27;Large&#x27;]])</pre></div></div></div></div></div>"
      ],
      "text/plain": [
       "OrdinalEncoder(categories=[['Basic', 'Extended', 'Premium'],\n",
       "                           ['Rural', 'Suburban', 'Urban'],\n",
       "                           ['Small', 'Medsize', 'Large']])"
      ]
     },
     "execution_count": 167,
     "metadata": {},
     "output_type": "execute_result"
    }
   ],
   "source": [
    "ordinal_enc = OrdinalEncoder(categories = [coverage_list,location_code_list,vehicle_size_list])\n",
    "ordinal_enc"
   ]
  },
  {
   "cell_type": "code",
   "execution_count": 168,
   "id": "b3d7674c",
   "metadata": {},
   "outputs": [],
   "source": [
    "# WHY IS THIS FUNCTION NOT USED IN THE SOLUTIONS????"
   ]
  },
  {
   "cell_type": "code",
   "execution_count": 169,
   "id": "a62bb1b8",
   "metadata": {},
   "outputs": [],
   "source": [
    "ordinal_enc = OrdinalEncoder(categories = [coverage_list,location_code_list,vehicle_size_list]).fit(categoricals_train_ordinal)\n",
    "#only fit train set\n",
    "\n",
    "categoricals_train_encoded_ordinal = ordinal_enc.transform(categoricals_train_ordinal)\n",
    "categoricals_train_encoded_ordinal = pd.DataFrame(categoricals_train_encoded_ordinal)\n",
    "categoricals_test_encoded_ordinal = ordinal_enc.transform(categoricals_test_ordinal)\n",
    "categoricals_test_encoded_ordinal = pd.DataFrame(categoricals_test_encoded_ordinal)"
   ]
  },
  {
   "cell_type": "code",
   "execution_count": 170,
   "id": "be4ecd28",
   "metadata": {},
   "outputs": [
    {
     "data": {
      "text/html": [
       "<div>\n",
       "<style scoped>\n",
       "    .dataframe tbody tr th:only-of-type {\n",
       "        vertical-align: middle;\n",
       "    }\n",
       "\n",
       "    .dataframe tbody tr th {\n",
       "        vertical-align: top;\n",
       "    }\n",
       "\n",
       "    .dataframe thead th {\n",
       "        text-align: right;\n",
       "    }\n",
       "</style>\n",
       "<table border=\"1\" class=\"dataframe\">\n",
       "  <thead>\n",
       "    <tr style=\"text-align: right;\">\n",
       "      <th></th>\n",
       "      <th>0</th>\n",
       "      <th>1</th>\n",
       "      <th>2</th>\n",
       "    </tr>\n",
       "  </thead>\n",
       "  <tbody>\n",
       "    <tr>\n",
       "      <th>0</th>\n",
       "      <td>0.0</td>\n",
       "      <td>2.0</td>\n",
       "      <td>1.0</td>\n",
       "    </tr>\n",
       "    <tr>\n",
       "      <th>1</th>\n",
       "      <td>1.0</td>\n",
       "      <td>1.0</td>\n",
       "      <td>1.0</td>\n",
       "    </tr>\n",
       "    <tr>\n",
       "      <th>2</th>\n",
       "      <td>0.0</td>\n",
       "      <td>1.0</td>\n",
       "      <td>0.0</td>\n",
       "    </tr>\n",
       "    <tr>\n",
       "      <th>3</th>\n",
       "      <td>0.0</td>\n",
       "      <td>2.0</td>\n",
       "      <td>1.0</td>\n",
       "    </tr>\n",
       "    <tr>\n",
       "      <th>4</th>\n",
       "      <td>0.0</td>\n",
       "      <td>1.0</td>\n",
       "      <td>1.0</td>\n",
       "    </tr>\n",
       "    <tr>\n",
       "      <th>...</th>\n",
       "      <td>...</td>\n",
       "      <td>...</td>\n",
       "      <td>...</td>\n",
       "    </tr>\n",
       "    <tr>\n",
       "      <th>7302</th>\n",
       "      <td>0.0</td>\n",
       "      <td>1.0</td>\n",
       "      <td>0.0</td>\n",
       "    </tr>\n",
       "    <tr>\n",
       "      <th>7303</th>\n",
       "      <td>0.0</td>\n",
       "      <td>1.0</td>\n",
       "      <td>1.0</td>\n",
       "    </tr>\n",
       "    <tr>\n",
       "      <th>7304</th>\n",
       "      <td>1.0</td>\n",
       "      <td>1.0</td>\n",
       "      <td>1.0</td>\n",
       "    </tr>\n",
       "    <tr>\n",
       "      <th>7305</th>\n",
       "      <td>1.0</td>\n",
       "      <td>1.0</td>\n",
       "      <td>1.0</td>\n",
       "    </tr>\n",
       "    <tr>\n",
       "      <th>7306</th>\n",
       "      <td>1.0</td>\n",
       "      <td>2.0</td>\n",
       "      <td>1.0</td>\n",
       "    </tr>\n",
       "  </tbody>\n",
       "</table>\n",
       "<p>7307 rows × 3 columns</p>\n",
       "</div>"
      ],
      "text/plain": [
       "        0    1    2\n",
       "0     0.0  2.0  1.0\n",
       "1     1.0  1.0  1.0\n",
       "2     0.0  1.0  0.0\n",
       "3     0.0  2.0  1.0\n",
       "4     0.0  1.0  1.0\n",
       "...   ...  ...  ...\n",
       "7302  0.0  1.0  0.0\n",
       "7303  0.0  1.0  1.0\n",
       "7304  1.0  1.0  1.0\n",
       "7305  1.0  1.0  1.0\n",
       "7306  1.0  2.0  1.0\n",
       "\n",
       "[7307 rows x 3 columns]"
      ]
     },
     "execution_count": 170,
     "metadata": {},
     "output_type": "execute_result"
    }
   ],
   "source": [
    "categoricals_train_encoded_ordinal"
   ]
  },
  {
   "cell_type": "code",
   "execution_count": 171,
   "id": "d49b32b3",
   "metadata": {},
   "outputs": [],
   "source": [
    "# OneHot Encoder"
   ]
  },
  {
   "cell_type": "code",
   "execution_count": 172,
   "id": "f8aefe1c",
   "metadata": {},
   "outputs": [
    {
     "data": {
      "text/plain": [
       "Index(['state', 'response', 'coverage', 'education', 'gender', 'location_code',\n",
       "       'marital_status', 'policy', 'renew_offer_type', 'sales_channel',\n",
       "       'vehicle_class', 'vehicle_size'],\n",
       "      dtype='object')"
      ]
     },
     "execution_count": 172,
     "metadata": {},
     "output_type": "execute_result"
    }
   ],
   "source": [
    "categoricals_train.columns"
   ]
  },
  {
   "cell_type": "code",
   "execution_count": 173,
   "id": "62a05407",
   "metadata": {},
   "outputs": [],
   "source": [
    "categoricals_train_OneHot = categoricals_train[['state', 'response', 'education', 'gender',\n",
    "       'marital_status', 'policy', 'renew_offer_type', 'sales_channel',\n",
    "       'vehicle_class']]\n",
    "categoricals_test_OneHot = categoricals_test[['state', 'response', 'education', 'gender',\n",
    "       'marital_status', 'policy', 'renew_offer_type', 'sales_channel',\n",
    "       'vehicle_class']]"
   ]
  },
  {
   "cell_type": "code",
   "execution_count": 174,
   "id": "dafa26b2",
   "metadata": {},
   "outputs": [],
   "source": [
    "encoder = OneHotEncoder(handle_unknown='error', drop='first').fit(categoricals_train_OneHot)\n",
    "\n",
    "categoricals_train_encoded_onehot = encoder.transform(categoricals_train_OneHot).toarray()\n",
    "categoricals_train_encoded_onehot = pd.DataFrame(categoricals_train_encoded_onehot)\n",
    "categoricals_test_encoded_onehot = encoder.transform(categoricals_test_OneHot).toarray()\n",
    "categoricals_test_encoded_onehot = pd.DataFrame(categoricals_test_encoded_onehot)"
   ]
  },
  {
   "cell_type": "code",
   "execution_count": 175,
   "id": "5c257edc",
   "metadata": {},
   "outputs": [],
   "source": [
    "#merge encoded datasets\n",
    "\n",
    "categoricals_train_encoded = pd.concat([categoricals_train_encoded_ordinal,categoricals_train_encoded_onehot], axis=1)\n",
    "categoricals_test_encoded = pd.concat([categoricals_test_encoded_ordinal,categoricals_test_encoded_onehot], axis=1)"
   ]
  },
  {
   "cell_type": "markdown",
   "id": "1f75e251",
   "metadata": {},
   "source": [
    "##### The time variable can be useful. Try to transform its data into a useful one. Hint: Day week and month as integers might be useful."
   ]
  },
  {
   "cell_type": "markdown",
   "id": "1d01b816",
   "metadata": {},
   "source": [
    "Please see below. Effective_to_date was converted into day of the year"
   ]
  },
  {
   "cell_type": "markdown",
   "id": "252b04d3",
   "metadata": {},
   "source": [
    "##### Try a simple linear regression with all the data to see whether we are getting good results."
   ]
  },
  {
   "cell_type": "code",
   "execution_count": 176,
   "id": "1667e8a4",
   "metadata": {},
   "outputs": [],
   "source": [
    "# concatenate encoded variables\n",
    "X_train_processed = np.concatenate((numericals_train_standardized,categoricals_train_encoded),axis=1)\n",
    "X_test_processed = np.concatenate((numericals_test_standardized,categoricals_test_encoded),axis=1)"
   ]
  },
  {
   "cell_type": "code",
   "execution_count": 177,
   "id": "a51e984f",
   "metadata": {},
   "outputs": [
    {
     "data": {
      "text/plain": [
       "0.614449891845533"
      ]
     },
     "execution_count": 177,
     "metadata": {},
     "output_type": "execute_result"
    }
   ],
   "source": [
    "#create the model\n",
    "\n",
    "lm = linear_model.LinearRegression()\n",
    "lm.fit(X_train_processed,y_train)\n",
    "\n",
    "from sklearn.metrics import r2_score\n",
    "predictions_linear = lm.predict(X_test_processed)\n",
    "\n",
    "r2_score(y_test, predictions_linear)"
   ]
  },
  {
   "cell_type": "markdown",
   "id": "32be5183",
   "metadata": {},
   "source": [
    "##### Great! Now define a function that takes a list of models and train (and tests) them so we can try a lot of them without repeating code."
   ]
  },
  {
   "cell_type": "code",
   "execution_count": 178,
   "id": "6b632178",
   "metadata": {},
   "outputs": [],
   "source": [
    "\n",
    "def models_automation(models, X_train, y_train, X_test, y_test):\n",
    "    \n",
    "    for model in models:\n",
    "        model.fit(X_train, y_train)\n",
    "        print(f\"{model.__class__.__name__}: Train -> {model.score(X_train, y_train)}, Test -> {model.score(X_test, y_test)}\")\n"
   ]
  },
  {
   "cell_type": "markdown",
   "id": "aedc9a05",
   "metadata": {},
   "source": [
    "##### Use the function to check LinearRegressor and KNeighborsRegressor."
   ]
  },
  {
   "cell_type": "code",
   "execution_count": 179,
   "id": "77d5bae2",
   "metadata": {},
   "outputs": [
    {
     "name": "stdout",
     "output_type": "stream",
     "text": [
      "LinearRegression: Train -> 0.6309886709238273, Test -> 0.614449891845533\n",
      "KNeighborsRegressor: Train -> 0.7655930319635884, Test -> 0.6390015063924623\n"
     ]
    }
   ],
   "source": [
    "model_list = [LinearRegression(),KNeighborsRegressor()]\n",
    "models_automation(model_list, X_train_processed, y_train, X_test_processed, y_test)"
   ]
  },
  {
   "cell_type": "markdown",
   "id": "5f3b7644",
   "metadata": {},
   "source": [
    "##### You can check also the MLPRegressor for this tasks"
   ]
  },
  {
   "cell_type": "code",
   "execution_count": 180,
   "id": "a3bc5f65",
   "metadata": {},
   "outputs": [
    {
     "name": "stdout",
     "output_type": "stream",
     "text": [
      "MLPRegressor: Train -> 0.8112529336262153, Test -> 0.7896096688783716\n"
     ]
    },
    {
     "name": "stderr",
     "output_type": "stream",
     "text": [
      "/Users/mariaesquivel/opt/anaconda3/lib/python3.9/site-packages/sklearn/neural_network/_multilayer_perceptron.py:702: ConvergenceWarning: Stochastic Optimizer: Maximum iterations (200) reached and the optimization hasn't converged yet.\n",
      "  warnings.warn(\n"
     ]
    }
   ],
   "source": [
    "model = [MLPRegressor(random_state=0)]\n",
    "models_automation(model, X_train_processed, y_train, X_test_processed, y_test)"
   ]
  },
  {
   "cell_type": "code",
   "execution_count": 181,
   "id": "cada3bcc",
   "metadata": {},
   "outputs": [],
   "source": [
    "#HOW CAN I MAKE THIS WORK???"
   ]
  },
  {
   "cell_type": "markdown",
   "id": "1fd16d97",
   "metadata": {},
   "source": [
    "##### Check and discuss the results."
   ]
  },
  {
   "cell_type": "code",
   "execution_count": 182,
   "id": "8f5d732b",
   "metadata": {},
   "outputs": [
    {
     "name": "stdout",
     "output_type": "stream",
     "text": [
      "Model: LinearRegression(), train R2: 0.6309886709238273 -- test R2: 0.614449891845533\n",
      "Model: KNeighborsRegressor(), train R2: 0.7655930319635884 -- test R2: 0.6390015063924623\n"
     ]
    }
   ],
   "source": [
    "for i in range(len(model_list)):\n",
    "\n",
    "    train_score=model_list[i].score(X_train_processed, y_train) #R2\n",
    "    test_score=model_list[i].score(X_test_processed, y_test)\n",
    "\n",
    "    print ('Model: {}, train R2: {} -- test R2: {}'.format(model_list[i], train_score, test_score))"
   ]
  },
  {
   "cell_type": "code",
   "execution_count": 183,
   "id": "8eb52f59",
   "metadata": {},
   "outputs": [
    {
     "name": "stdout",
     "output_type": "stream",
     "text": [
      "Model: LinearRegression(), train MSE: 31569.526102697415 -- test MSE: 30655.490367786646\n",
      "Model: KNeighborsRegressor(), train MSE: 20053.90163658659 -- test MSE: 28703.365942612152\n"
     ]
    }
   ],
   "source": [
    "\n",
    "\n",
    "for i in range(len(model_list)):\n",
    "\n",
    "    train_mse=mse(model_list[i].predict(X_train_processed), y_train) #MSE\n",
    "    test_mse=mse(model_list[i].predict(X_test_processed), y_test)\n",
    "\n",
    "    print ('Model: {}, train MSE: {} -- test MSE: {}'.format(model_list[i], train_mse, test_mse))"
   ]
  },
  {
   "cell_type": "code",
   "execution_count": 184,
   "id": "ad57c62c",
   "metadata": {},
   "outputs": [
    {
     "name": "stdout",
     "output_type": "stream",
     "text": [
      "Model: LinearRegression(), train RMSE: 177.6781531384695 -- test RMSE: 175.08709366422943\n",
      "Model: KNeighborsRegressor(), train RMSE: 141.6117990726288 -- test RMSE: 169.42067743522972\n"
     ]
    }
   ],
   "source": [
    "for i in range(len(model_list)):\n",
    "\n",
    "    train_rmse=mse(model_list[i].predict(X_train_processed), y_train)**0.5 #RMSE\n",
    "    test_rmse=mse(model_list[i].predict(X_test_processed), y_test)**0.5\n",
    "\n",
    "    print ('Model: {}, train RMSE: {} -- test RMSE: {}'.format(model_list[i], train_rmse, test_rmse))"
   ]
  },
  {
   "cell_type": "code",
   "execution_count": 185,
   "id": "56fe1643",
   "metadata": {},
   "outputs": [
    {
     "name": "stdout",
     "output_type": "stream",
     "text": [
      "Model: LinearRegression(), train MAE: 129.16099981314503 -- test MAE: 129.00831216443345\n",
      "Model: KNeighborsRegressor(), train MAE: 91.57838368400165 -- test MAE: 114.07822923721947\n"
     ]
    }
   ],
   "source": [
    "from sklearn.metrics import mean_absolute_error as mae\n",
    "for i in range(len(model_list)):\n",
    "    train_mae=mae(model_list[i].predict(X_train_processed), y_train) #MAE\n",
    "    test_mae=mae(model_list[i].predict(X_test_processed), y_test)\n",
    "\n",
    "    print ('Model: {}, train MAE: {} -- test MAE: {}'.format(model_list[i], train_mae, test_mae))\n"
   ]
  },
  {
   "cell_type": "markdown",
   "id": "5f83cc95",
   "metadata": {},
   "source": [
    "- KNN model has a lower value for MSE or MAE, therefore it is better than Linear Regression.\n",
    "- R2 Score is also higher with KNN, however the gap between train and test scores is much bigger compared to linear Regression Model "
   ]
  },
  {
   "cell_type": "markdown",
   "id": "cb5e3f91",
   "metadata": {},
   "source": [
    "# Lab | Random variable distributions"
   ]
  },
  {
   "cell_type": "markdown",
   "id": "755a9da1",
   "metadata": {},
   "source": [
    "##### Get the numerical variables from our dataset."
   ]
  },
  {
   "cell_type": "code",
   "execution_count": 186,
   "id": "1f093e7e",
   "metadata": {},
   "outputs": [
    {
     "data": {
      "text/html": [
       "<div>\n",
       "<style scoped>\n",
       "    .dataframe tbody tr th:only-of-type {\n",
       "        vertical-align: middle;\n",
       "    }\n",
       "\n",
       "    .dataframe tbody tr th {\n",
       "        vertical-align: top;\n",
       "    }\n",
       "\n",
       "    .dataframe thead th {\n",
       "        text-align: right;\n",
       "    }\n",
       "</style>\n",
       "<table border=\"1\" class=\"dataframe\">\n",
       "  <thead>\n",
       "    <tr style=\"text-align: right;\">\n",
       "      <th></th>\n",
       "      <th>customer_lifetime_value</th>\n",
       "      <th>income</th>\n",
       "      <th>monthly_premium_auto</th>\n",
       "      <th>months_since_last_claim</th>\n",
       "      <th>months_since_policy_inception</th>\n",
       "      <th>number_of_open_complaints</th>\n",
       "      <th>number_of_policies</th>\n",
       "      <th>total_claim_amount</th>\n",
       "      <th>employment_status_active</th>\n",
       "      <th>day_of_year</th>\n",
       "    </tr>\n",
       "  </thead>\n",
       "  <tbody>\n",
       "    <tr>\n",
       "      <th>0</th>\n",
       "      <td>2763.519279</td>\n",
       "      <td>56274</td>\n",
       "      <td>69</td>\n",
       "      <td>32</td>\n",
       "      <td>5</td>\n",
       "      <td>0</td>\n",
       "      <td>1</td>\n",
       "      <td>384.811147</td>\n",
       "      <td>1</td>\n",
       "      <td>55</td>\n",
       "    </tr>\n",
       "    <tr>\n",
       "      <th>1</th>\n",
       "      <td>6979.535903</td>\n",
       "      <td>0</td>\n",
       "      <td>94</td>\n",
       "      <td>13</td>\n",
       "      <td>42</td>\n",
       "      <td>0</td>\n",
       "      <td>8</td>\n",
       "      <td>1131.464935</td>\n",
       "      <td>0</td>\n",
       "      <td>31</td>\n",
       "    </tr>\n",
       "    <tr>\n",
       "      <th>2</th>\n",
       "      <td>12887.431650</td>\n",
       "      <td>48767</td>\n",
       "      <td>108</td>\n",
       "      <td>18</td>\n",
       "      <td>38</td>\n",
       "      <td>0</td>\n",
       "      <td>2</td>\n",
       "      <td>566.472247</td>\n",
       "      <td>1</td>\n",
       "      <td>50</td>\n",
       "    </tr>\n",
       "    <tr>\n",
       "      <th>3</th>\n",
       "      <td>7645.861827</td>\n",
       "      <td>0</td>\n",
       "      <td>106</td>\n",
       "      <td>18</td>\n",
       "      <td>65</td>\n",
       "      <td>0</td>\n",
       "      <td>7</td>\n",
       "      <td>529.881344</td>\n",
       "      <td>0</td>\n",
       "      <td>20</td>\n",
       "    </tr>\n",
       "    <tr>\n",
       "      <th>4</th>\n",
       "      <td>2813.692575</td>\n",
       "      <td>43836</td>\n",
       "      <td>73</td>\n",
       "      <td>12</td>\n",
       "      <td>44</td>\n",
       "      <td>0</td>\n",
       "      <td>1</td>\n",
       "      <td>138.130879</td>\n",
       "      <td>1</td>\n",
       "      <td>34</td>\n",
       "    </tr>\n",
       "    <tr>\n",
       "      <th>...</th>\n",
       "      <td>...</td>\n",
       "      <td>...</td>\n",
       "      <td>...</td>\n",
       "      <td>...</td>\n",
       "      <td>...</td>\n",
       "      <td>...</td>\n",
       "      <td>...</td>\n",
       "      <td>...</td>\n",
       "      <td>...</td>\n",
       "      <td>...</td>\n",
       "    </tr>\n",
       "    <tr>\n",
       "      <th>9129</th>\n",
       "      <td>23405.987980</td>\n",
       "      <td>71941</td>\n",
       "      <td>73</td>\n",
       "      <td>18</td>\n",
       "      <td>89</td>\n",
       "      <td>0</td>\n",
       "      <td>2</td>\n",
       "      <td>198.234764</td>\n",
       "      <td>1</td>\n",
       "      <td>41</td>\n",
       "    </tr>\n",
       "    <tr>\n",
       "      <th>9130</th>\n",
       "      <td>3096.511217</td>\n",
       "      <td>21604</td>\n",
       "      <td>79</td>\n",
       "      <td>14</td>\n",
       "      <td>28</td>\n",
       "      <td>0</td>\n",
       "      <td>1</td>\n",
       "      <td>379.200000</td>\n",
       "      <td>1</td>\n",
       "      <td>43</td>\n",
       "    </tr>\n",
       "    <tr>\n",
       "      <th>9131</th>\n",
       "      <td>8163.890428</td>\n",
       "      <td>0</td>\n",
       "      <td>85</td>\n",
       "      <td>9</td>\n",
       "      <td>37</td>\n",
       "      <td>3</td>\n",
       "      <td>2</td>\n",
       "      <td>790.784983</td>\n",
       "      <td>0</td>\n",
       "      <td>37</td>\n",
       "    </tr>\n",
       "    <tr>\n",
       "      <th>9132</th>\n",
       "      <td>7524.442436</td>\n",
       "      <td>21941</td>\n",
       "      <td>96</td>\n",
       "      <td>34</td>\n",
       "      <td>3</td>\n",
       "      <td>0</td>\n",
       "      <td>3</td>\n",
       "      <td>691.200000</td>\n",
       "      <td>1</td>\n",
       "      <td>34</td>\n",
       "    </tr>\n",
       "    <tr>\n",
       "      <th>9133</th>\n",
       "      <td>2611.836866</td>\n",
       "      <td>0</td>\n",
       "      <td>77</td>\n",
       "      <td>3</td>\n",
       "      <td>90</td>\n",
       "      <td>0</td>\n",
       "      <td>1</td>\n",
       "      <td>369.600000</td>\n",
       "      <td>0</td>\n",
       "      <td>45</td>\n",
       "    </tr>\n",
       "  </tbody>\n",
       "</table>\n",
       "<p>9134 rows × 10 columns</p>\n",
       "</div>"
      ],
      "text/plain": [
       "      customer_lifetime_value  income  monthly_premium_auto  \\\n",
       "0                 2763.519279   56274                    69   \n",
       "1                 6979.535903       0                    94   \n",
       "2                12887.431650   48767                   108   \n",
       "3                 7645.861827       0                   106   \n",
       "4                 2813.692575   43836                    73   \n",
       "...                       ...     ...                   ...   \n",
       "9129             23405.987980   71941                    73   \n",
       "9130              3096.511217   21604                    79   \n",
       "9131              8163.890428       0                    85   \n",
       "9132              7524.442436   21941                    96   \n",
       "9133              2611.836866       0                    77   \n",
       "\n",
       "      months_since_last_claim  months_since_policy_inception  \\\n",
       "0                          32                              5   \n",
       "1                          13                             42   \n",
       "2                          18                             38   \n",
       "3                          18                             65   \n",
       "4                          12                             44   \n",
       "...                       ...                            ...   \n",
       "9129                       18                             89   \n",
       "9130                       14                             28   \n",
       "9131                        9                             37   \n",
       "9132                       34                              3   \n",
       "9133                        3                             90   \n",
       "\n",
       "      number_of_open_complaints  number_of_policies  total_claim_amount  \\\n",
       "0                             0                   1          384.811147   \n",
       "1                             0                   8         1131.464935   \n",
       "2                             0                   2          566.472247   \n",
       "3                             0                   7          529.881344   \n",
       "4                             0                   1          138.130879   \n",
       "...                         ...                 ...                 ...   \n",
       "9129                          0                   2          198.234764   \n",
       "9130                          0                   1          379.200000   \n",
       "9131                          3                   2          790.784983   \n",
       "9132                          0                   3          691.200000   \n",
       "9133                          0                   1          369.600000   \n",
       "\n",
       "      employment_status_active  day_of_year  \n",
       "0                            1           55  \n",
       "1                            0           31  \n",
       "2                            1           50  \n",
       "3                            0           20  \n",
       "4                            1           34  \n",
       "...                        ...          ...  \n",
       "9129                         1           41  \n",
       "9130                         1           43  \n",
       "9131                         0           37  \n",
       "9132                         1           34  \n",
       "9133                         0           45  \n",
       "\n",
       "[9134 rows x 10 columns]"
      ]
     },
     "execution_count": 186,
     "metadata": {},
     "output_type": "execute_result"
    }
   ],
   "source": [
    "numericals = customer_df_clean.select_dtypes(np.number)\n",
    "numericals"
   ]
  },
  {
   "cell_type": "markdown",
   "id": "16cbd558",
   "metadata": {},
   "source": [
    "##### Check using a distribution plot if the variables fit the theoretical normal or exponential distribution."
   ]
  },
  {
   "cell_type": "code",
   "execution_count": 187,
   "id": "18602c02",
   "metadata": {},
   "outputs": [
    {
     "data": {
      "text/plain": [
       "Index(['customer_lifetime_value', 'income', 'monthly_premium_auto',\n",
       "       'months_since_last_claim', 'months_since_policy_inception',\n",
       "       'number_of_open_complaints', 'number_of_policies', 'total_claim_amount',\n",
       "       'employment_status_active', 'day_of_year'],\n",
       "      dtype='object')"
      ]
     },
     "execution_count": 187,
     "metadata": {},
     "output_type": "execute_result"
    }
   ],
   "source": [
    "numericals.columns"
   ]
  },
  {
   "cell_type": "code",
   "execution_count": 188,
   "id": "3d332b03",
   "metadata": {},
   "outputs": [
    {
     "data": {
      "image/png": "[encoded data removed]",
      "text/plain": [
       "<Figure size 576x288 with 1 Axes>"
      ]
     },
     "metadata": {
      "needs_background": "light"
     },
     "output_type": "display_data"
    },
    {
     "data": {
      "image/png": "[encoded data removed]",
      "text/plain": [
       "<Figure size 576x288 with 1 Axes>"
      ]
     },
     "metadata": {
      "needs_background": "light"
     },
     "output_type": "display_data"
    },
    {
     "data": {
      "image/png": "[encoded data removed]",
      "text/plain": [
       "<Figure size 576x288 with 1 Axes>"
      ]
     },
     "metadata": {
      "needs_background": "light"
     },
     "output_type": "display_data"
    },
    {
     "data": {
      "image/png": "[encoded data removed]",
      "text/plain": [
       "<Figure size 576x288 with 1 Axes>"
      ]
     },
     "metadata": {
      "needs_background": "light"
     },
     "output_type": "display_data"
    },
    {
     "data": {
      "image/png": "[encoded data removed]",
      "text/plain": [
       "<Figure size 576x288 with 1 Axes>"
      ]
     },
     "metadata": {
      "needs_background": "light"
     },
     "output_type": "display_data"
    },
    {
     "data": {
      "image/png": "[encoded data removed]",
      "text/plain": [
       "<Figure size 576x288 with 1 Axes>"
      ]
     },
     "metadata": {
      "needs_background": "light"
     },
     "output_type": "display_data"
    },
    {
     "data": {
      "image/png": "[encoded data removed]",
      "text/plain": [
       "<Figure size 576x288 with 1 Axes>"
      ]
     },
     "metadata": {
      "needs_background": "light"
     },
     "output_type": "display_data"
    },
    {
     "data": {
      "image/png": "[encoded data removed]",
      "text/plain": [
       "<Figure size 576x288 with 1 Axes>"
      ]
     },
     "metadata": {
      "needs_background": "light"
     },
     "output_type": "display_data"
    },
    {
     "data": {
      "image/png": "[encoded data removed]",
      "text/plain": [
       "<Figure size 576x288 with 1 Axes>"
      ]
     },
     "metadata": {
      "needs_background": "light"
     },
     "output_type": "display_data"
    },
    {
     "data": {
      "image/png": "[encoded data removed]",
      "text/plain": [
       "<Figure size 576x288 with 1 Axes>"
      ]
     },
     "metadata": {
      "needs_background": "light"
     },
     "output_type": "display_data"
    }
   ],
   "source": [
    "for col in numericals:\n",
    "    sns.displot(data = numericals, x=col, height = 4, aspect = 2)"
   ]
  },
  {
   "cell_type": "code",
   "execution_count": 189,
   "id": "5d27bbed",
   "metadata": {},
   "outputs": [
    {
     "data": {
      "text/plain": [
       "NormaltestResult(statistic=array([ 6056.6108372 ,  3720.27004501,  4064.71777591,  3281.47154242,\n",
       "        4660.44606194,  5201.26870236,  1535.74353905,  3401.59771044,\n",
       "       38512.02523081,  6284.29424162]), pvalue=array([0., 0., 0., 0., 0., 0., 0., 0., 0., 0.]))"
      ]
     },
     "execution_count": 189,
     "metadata": {},
     "output_type": "execute_result"
    }
   ],
   "source": [
    "\n",
    "stats.normaltest(numericals, axis=0, nan_policy='propagate')"
   ]
  },
  {
   "cell_type": "code",
   "execution_count": 190,
   "id": "c2b608a7",
   "metadata": {},
   "outputs": [
    {
     "name": "stdout",
     "output_type": "stream",
     "text": [
      "Feature name: customer_lifetime_value\n",
      "stat=0.703, p=0.000\n",
      "Probably not Normal Distribution\n",
      "\n",
      "----------\n",
      "Feature name: income\n",
      "stat=0.922, p=0.000\n",
      "Probably not Normal Distribution\n",
      "\n",
      "----------\n",
      "Feature name: monthly_premium_auto\n",
      "stat=0.789, p=0.000\n",
      "Probably not Normal Distribution\n",
      "\n",
      "----------\n",
      "Feature name: months_since_last_claim\n",
      "stat=0.950, p=0.000\n",
      "Probably not Normal Distribution\n",
      "\n",
      "----------\n",
      "Feature name: months_since_policy_inception\n",
      "stat=0.961, p=0.000\n",
      "Probably not Normal Distribution\n",
      "\n",
      "----------\n",
      "Feature name: number_of_open_complaints\n",
      "stat=0.487, p=0.000\n",
      "Probably not Normal Distribution\n",
      "\n",
      "----------\n",
      "Feature name: number_of_policies\n",
      "stat=0.780, p=0.000\n",
      "Probably not Normal Distribution\n",
      "\n",
      "----------\n",
      "Feature name: total_claim_amount\n",
      "stat=0.888, p=0.000\n",
      "Probably not Normal Distribution\n",
      "\n",
      "----------\n",
      "Feature name: employment_status_active\n",
      "stat=0.614, p=0.000\n",
      "Probably not Normal Distribution\n",
      "\n",
      "----------\n",
      "Feature name: day_of_year\n",
      "stat=0.956, p=0.000\n",
      "Probably not Normal Distribution\n",
      "\n",
      "----------\n"
     ]
    },
    {
     "name": "stderr",
     "output_type": "stream",
     "text": [
      "/Users/mariaesquivel/opt/anaconda3/lib/python3.9/site-packages/scipy/stats/morestats.py:1760: UserWarning: p-value may not be accurate for N > 5000.\n",
      "  warnings.warn(\"p-value may not be accurate for N > 5000.\")\n"
     ]
    }
   ],
   "source": [
    "\n",
    "for col in numericals:\n",
    "    stat, p = shapiro(numericals[col])\n",
    "    if p > 0.05:\n",
    "        print('Feature name: {}'.format(numericals[col].name))\n",
    "        print('stat=%.3f, p=%.3f' % (stat, p))\n",
    "        print('Probably Normal Distribution')\n",
    "        print('\\n----------')\n",
    "    else:\n",
    "        print('Feature name: {}'.format(numericals[col].name))\n",
    "        print('stat=%.3f, p=%.3f' % (stat, p))\n",
    "        print ('Probably not Normal Distribution')\n",
    "        print('\\n----------')\n",
    "        "
   ]
  },
  {
   "cell_type": "markdown",
   "id": "8d78382d",
   "metadata": {},
   "source": [
    "Another way to chek the normality os the numerical variables is to calculate skewness.\n",
    "\n",
    "\n",
    "Skewness is a measure of the asymmetry of the probability distribution of a real-valued random variable about its mean. The skewness value can be positive, zero or negative\n",
    "\n",
    "In general:\n",
    " - The variables with skewness > 1 are highly positively skewed.\n",
    " - The variables with skewness < -1 are highly negatively skewed.\n",
    " - The variables with 0.5 < skewness < 1 such are moderately positively skewed.\n",
    " - The variables with -0.5 < skewness < -1 are moderately negatively skewed.\n",
    " - the variables with -0.5 < skewness < 0.5 are symmetric i.e normally distributed"
   ]
  },
  {
   "cell_type": "code",
   "execution_count": 191,
   "id": "26d30edd",
   "metadata": {},
   "outputs": [
    {
     "data": {
      "text/plain": [
       "customer_lifetime_value          3.032280\n",
       "income                           0.286887\n",
       "monthly_premium_auto             2.123546\n",
       "months_since_last_claim          0.278586\n",
       "months_since_policy_inception    0.040165\n",
       "number_of_open_complaints        2.783263\n",
       "number_of_policies               1.253333\n",
       "total_claim_amount               1.714966\n",
       "employment_status_active        -0.511300\n",
       "day_of_year                      0.028267\n",
       "dtype: float64"
      ]
     },
     "execution_count": 191,
     "metadata": {},
     "output_type": "execute_result"
    }
   ],
   "source": [
    "numericals.skew()"
   ]
  },
  {
   "cell_type": "markdown",
   "id": "861746e8",
   "metadata": {},
   "source": [
    "Columns | Distribution\n",
    "----------|-------------\n",
    "customer_lifetime_value | probably exponential distribution\n",
    "income | probably exponential distribution\n",
    "monthly_premium_auto | probably exponential distribution\n",
    "months_since_last_claim | uniform\n",
    "months_since_policy_inception | uniform\n",
    "number_of_open_complaints | \n",
    "number_of_policies | \n",
    "total_claim_amount | \n",
    "employment_status_active | not applicable\n",
    "day_of_year | uniform"
   ]
  },
  {
   "cell_type": "markdown",
   "id": "1b8c3c72",
   "metadata": {},
   "source": [
    "##### Check if any of the transformations (log-transform, etc.) we have seen up to this point changes the result."
   ]
  },
  {
   "cell_type": "code",
   "execution_count": 192,
   "id": "019d3fa4",
   "metadata": {},
   "outputs": [
    {
     "data": {
      "text/plain": [
       "array([22.95205097, 14.78880793, 21.35410435, ..., 16.96270535,\n",
       "       15.88958886, 19.70937103])"
      ]
     },
     "execution_count": 192,
     "metadata": {},
     "output_type": "execute_result"
    }
   ],
   "source": [
    "CLV_boxcox, fitted_lambda = stats.boxcox(numericals[col])\n",
    "CLV_boxcox"
   ]
  },
  {
   "cell_type": "code",
   "execution_count": 194,
   "id": "e1c7af96",
   "metadata": {},
   "outputs": [
    {
     "data": {
      "text/html": [
       "<div>\n",
       "<style scoped>\n",
       "    .dataframe tbody tr th:only-of-type {\n",
       "        vertical-align: middle;\n",
       "    }\n",
       "\n",
       "    .dataframe tbody tr th {\n",
       "        vertical-align: top;\n",
       "    }\n",
       "\n",
       "    .dataframe thead th {\n",
       "        text-align: right;\n",
       "    }\n",
       "</style>\n",
       "<table border=\"1\" class=\"dataframe\">\n",
       "  <thead>\n",
       "    <tr style=\"text-align: right;\">\n",
       "      <th></th>\n",
       "      <th>count</th>\n",
       "      <th>mean</th>\n",
       "      <th>std</th>\n",
       "      <th>min</th>\n",
       "      <th>25%</th>\n",
       "      <th>50%</th>\n",
       "      <th>75%</th>\n",
       "      <th>max</th>\n",
       "    </tr>\n",
       "  </thead>\n",
       "  <tbody>\n",
       "    <tr>\n",
       "      <th>customer_lifetime_value</th>\n",
       "      <td>9134.0</td>\n",
       "      <td>8004.940475</td>\n",
       "      <td>6870.967608</td>\n",
       "      <td>1898.007675</td>\n",
       "      <td>3994.251794</td>\n",
       "      <td>5780.182197</td>\n",
       "      <td>8962.167041</td>\n",
       "      <td>83325.381190</td>\n",
       "    </tr>\n",
       "    <tr>\n",
       "      <th>income</th>\n",
       "      <td>9134.0</td>\n",
       "      <td>37657.380009</td>\n",
       "      <td>30379.904734</td>\n",
       "      <td>0.000000</td>\n",
       "      <td>0.000000</td>\n",
       "      <td>33889.500000</td>\n",
       "      <td>62320.000000</td>\n",
       "      <td>99981.000000</td>\n",
       "    </tr>\n",
       "    <tr>\n",
       "      <th>monthly_premium_auto</th>\n",
       "      <td>9134.0</td>\n",
       "      <td>93.219291</td>\n",
       "      <td>34.407967</td>\n",
       "      <td>61.000000</td>\n",
       "      <td>68.000000</td>\n",
       "      <td>83.000000</td>\n",
       "      <td>109.000000</td>\n",
       "      <td>298.000000</td>\n",
       "    </tr>\n",
       "    <tr>\n",
       "      <th>months_since_last_claim</th>\n",
       "      <td>9134.0</td>\n",
       "      <td>15.097000</td>\n",
       "      <td>10.073257</td>\n",
       "      <td>0.000000</td>\n",
       "      <td>6.000000</td>\n",
       "      <td>14.000000</td>\n",
       "      <td>23.000000</td>\n",
       "      <td>35.000000</td>\n",
       "    </tr>\n",
       "    <tr>\n",
       "      <th>months_since_policy_inception</th>\n",
       "      <td>9134.0</td>\n",
       "      <td>48.064594</td>\n",
       "      <td>27.905991</td>\n",
       "      <td>0.000000</td>\n",
       "      <td>24.000000</td>\n",
       "      <td>48.000000</td>\n",
       "      <td>71.000000</td>\n",
       "      <td>99.000000</td>\n",
       "    </tr>\n",
       "    <tr>\n",
       "      <th>number_of_open_complaints</th>\n",
       "      <td>9134.0</td>\n",
       "      <td>0.384388</td>\n",
       "      <td>0.910384</td>\n",
       "      <td>0.000000</td>\n",
       "      <td>0.000000</td>\n",
       "      <td>0.000000</td>\n",
       "      <td>0.000000</td>\n",
       "      <td>5.000000</td>\n",
       "    </tr>\n",
       "    <tr>\n",
       "      <th>number_of_policies</th>\n",
       "      <td>9134.0</td>\n",
       "      <td>2.966170</td>\n",
       "      <td>2.390182</td>\n",
       "      <td>1.000000</td>\n",
       "      <td>1.000000</td>\n",
       "      <td>2.000000</td>\n",
       "      <td>4.000000</td>\n",
       "      <td>9.000000</td>\n",
       "    </tr>\n",
       "    <tr>\n",
       "      <th>total_claim_amount</th>\n",
       "      <td>9134.0</td>\n",
       "      <td>434.088794</td>\n",
       "      <td>290.500092</td>\n",
       "      <td>0.099007</td>\n",
       "      <td>272.258244</td>\n",
       "      <td>383.945434</td>\n",
       "      <td>547.514839</td>\n",
       "      <td>2893.239678</td>\n",
       "    </tr>\n",
       "    <tr>\n",
       "      <th>employment_status_active</th>\n",
       "      <td>9134.0</td>\n",
       "      <td>0.623823</td>\n",
       "      <td>0.484452</td>\n",
       "      <td>0.000000</td>\n",
       "      <td>0.000000</td>\n",
       "      <td>1.000000</td>\n",
       "      <td>1.000000</td>\n",
       "      <td>1.000000</td>\n",
       "    </tr>\n",
       "    <tr>\n",
       "      <th>day_of_year</th>\n",
       "      <td>9134.0</td>\n",
       "      <td>29.837749</td>\n",
       "      <td>16.942769</td>\n",
       "      <td>1.000000</td>\n",
       "      <td>15.000000</td>\n",
       "      <td>29.000000</td>\n",
       "      <td>44.000000</td>\n",
       "      <td>59.000000</td>\n",
       "    </tr>\n",
       "    <tr>\n",
       "      <th>CVL_boxplot</th>\n",
       "      <td>9134.0</td>\n",
       "      <td>2.746599</td>\n",
       "      <td>0.030655</td>\n",
       "      <td>2.677981</td>\n",
       "      <td>2.726129</td>\n",
       "      <td>2.745813</td>\n",
       "      <td>2.766130</td>\n",
       "      <td>2.832791</td>\n",
       "    </tr>\n",
       "  </tbody>\n",
       "</table>\n",
       "</div>"
      ],
      "text/plain": [
       "                                count          mean           std  \\\n",
       "customer_lifetime_value        9134.0   8004.940475   6870.967608   \n",
       "income                         9134.0  37657.380009  30379.904734   \n",
       "monthly_premium_auto           9134.0     93.219291     34.407967   \n",
       "months_since_last_claim        9134.0     15.097000     10.073257   \n",
       "months_since_policy_inception  9134.0     48.064594     27.905991   \n",
       "number_of_open_complaints      9134.0      0.384388      0.910384   \n",
       "number_of_policies             9134.0      2.966170      2.390182   \n",
       "total_claim_amount             9134.0    434.088794    290.500092   \n",
       "employment_status_active       9134.0      0.623823      0.484452   \n",
       "day_of_year                    9134.0     29.837749     16.942769   \n",
       "CVL_boxplot                    9134.0      2.746599      0.030655   \n",
       "\n",
       "                                       min          25%           50%  \\\n",
       "customer_lifetime_value        1898.007675  3994.251794   5780.182197   \n",
       "income                            0.000000     0.000000  33889.500000   \n",
       "monthly_premium_auto             61.000000    68.000000     83.000000   \n",
       "months_since_last_claim           0.000000     6.000000     14.000000   \n",
       "months_since_policy_inception     0.000000    24.000000     48.000000   \n",
       "number_of_open_complaints         0.000000     0.000000      0.000000   \n",
       "number_of_policies                1.000000     1.000000      2.000000   \n",
       "total_claim_amount                0.099007   272.258244    383.945434   \n",
       "employment_status_active          0.000000     0.000000      1.000000   \n",
       "day_of_year                       1.000000    15.000000     29.000000   \n",
       "CVL_boxplot                       2.677981     2.726129      2.745813   \n",
       "\n",
       "                                        75%           max  \n",
       "customer_lifetime_value         8962.167041  83325.381190  \n",
       "income                         62320.000000  99981.000000  \n",
       "monthly_premium_auto             109.000000    298.000000  \n",
       "months_since_last_claim           23.000000     35.000000  \n",
       "months_since_policy_inception     71.000000     99.000000  \n",
       "number_of_open_complaints          0.000000      5.000000  \n",
       "number_of_policies                 4.000000      9.000000  \n",
       "total_claim_amount               547.514839   2893.239678  \n",
       "employment_status_active           1.000000      1.000000  \n",
       "day_of_year                       44.000000     59.000000  \n",
       "CVL_boxplot                        2.766130      2.832791  "
      ]
     },
     "execution_count": 194,
     "metadata": {},
     "output_type": "execute_result"
    }
   ],
   "source": [
    "numericals.describe().T"
   ]
  },
  {
   "cell_type": "markdown",
   "id": "8f3dc052",
   "metadata": {},
   "source": [
    "- Since income, months_since_last_claim, months_since_policy_inception, number_of_open_complaints and employment_status_active have zeros, boxplot() function will only be applied to customer_lifetime_value and monthly_premium_auto.\n",
    "\n",
    "- If there are zeros in the variable, the function returns error: data must be positive."
   ]
  },
  {
   "cell_type": "code",
   "execution_count": 193,
   "id": "a092797d",
   "metadata": {},
   "outputs": [
    {
     "data": {
      "text/plain": [
       "<seaborn.axisgrid.FacetGrid at 0x7fa8a4d08190>"
      ]
     },
     "execution_count": 193,
     "metadata": {},
     "output_type": "execute_result"
    },
    {
     "data": {
      "image/png": "[encoded data removed]",
      "text/plain": [
       "<Figure size 576x288 with 1 Axes>"
      ]
     },
     "metadata": {
      "needs_background": "light"
     },
     "output_type": "display_data"
    },
    {
     "data": {
      "image/png": "[encoded data removed]",
      "text/plain": [
       "<Figure size 576x288 with 1 Axes>"
      ]
     },
     "metadata": {
      "needs_background": "light"
     },
     "output_type": "display_data"
    }
   ],
   "source": [
    "#plot the distribution of data values\n",
    "sns.displot(data = numericals, x='customer_lifetime_value', height = 4, aspect = 2) \n",
    "\n",
    "#perform Box-Cox transformation on original data\n",
    "transformed_data, best_lambda = boxcox(numericals['customer_lifetime_value']) \n",
    "\n",
    "numericals['CVL_boxplot'] = transformed_data\n",
    "\n",
    "#plot the distribution of the transformed data values\n",
    "sns.displot(data = numericals, x='CVL_boxplot', height = 4, aspect = 2) \n"
   ]
  },
  {
   "cell_type": "code",
   "execution_count": 195,
   "id": "f190187d",
   "metadata": {},
   "outputs": [
    {
     "data": {
      "text/plain": [
       "<seaborn.axisgrid.FacetGrid at 0x7fa897482160>"
      ]
     },
     "execution_count": 195,
     "metadata": {},
     "output_type": "execute_result"
    },
    {
     "data": {
      "image/png": "[encoded data removed]",
      "text/plain": [
       "<Figure size 576x288 with 1 Axes>"
      ]
     },
     "metadata": {
      "needs_background": "light"
     },
     "output_type": "display_data"
    },
    {
     "data": {
      "image/png": "[encoded data removed]",
      "text/plain": [
       "<Figure size 576x288 with 1 Axes>"
      ]
     },
     "metadata": {
      "needs_background": "light"
     },
     "output_type": "display_data"
    }
   ],
   "source": [
    "#plot the distribution of data values\n",
    "sns.displot(data = numericals, x='monthly_premium_auto', height = 4, aspect = 2) \n",
    "\n",
    "#perform Box-Cox transformation on original data\n",
    "transformed_data, best_lambda = boxcox(numericals['monthly_premium_auto']) \n",
    "\n",
    "numericals['monthly_premium_auto_boxplot'] = transformed_data\n",
    "\n",
    "#plot the distribution of the transformed data values\n",
    "sns.displot(data = numericals, x='monthly_premium_auto_boxplot', height = 4, aspect = 2) \n"
   ]
  },
  {
   "cell_type": "code",
   "execution_count": null,
   "id": "cfb9dd63",
   "metadata": {},
   "outputs": [],
   "source": []
  }
 ],
 "metadata": {
  "kernelspec": {
   "display_name": "Python 3 (ipykernel)",
   "language": "python",
   "name": "python3"
  },
  "language_info": {
   "codemirror_mode": {
    "name": "ipython",
    "version": 3
   },
   "file_extension": ".py",
   "mimetype": "text/x-python",
   "name": "python",
   "nbconvert_exporter": "python",
   "pygments_lexer": "ipython3",
   "version": "3.9.12"
  }
 },
 "nbformat": 4,
 "nbformat_minor": 5
}
